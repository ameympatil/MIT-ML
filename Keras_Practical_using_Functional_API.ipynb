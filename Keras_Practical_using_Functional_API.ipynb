{
  "nbformat": 4,
  "nbformat_minor": 0,
  "metadata": {
    "colab": {
      "name": "Keras Practical using Functional API.ipynb",
      "provenance": [],
      "collapsed_sections": [],
      "include_colab_link": true
    },
    "kernelspec": {
      "name": "python3",
      "display_name": "Python 3"
    },
    "language_info": {
      "name": "python"
    },
    "accelerator": "GPU",
    "gpuClass": "standard"
  },
  "cells": [
    {
      "cell_type": "markdown",
      "metadata": {
        "id": "view-in-github",
        "colab_type": "text"
      },
      "source": [
        "<a href=\"https://colab.research.google.com/github/ameympatil/MIT-ML/blob/main/Keras_Practical_using_Functional_API.ipynb\" target=\"_parent\"><img src=\"https://colab.research.google.com/assets/colab-badge.svg\" alt=\"Open In Colab\"/></a>"
      ]
    },
    {
      "cell_type": "markdown",
      "source": [
        "## Functional API"
      ],
      "metadata": {
        "id": "Xvu3J206M7WX"
      }
    },
    {
      "cell_type": "code",
      "execution_count": 55,
      "metadata": {
        "id": "Ayi5Mx2-6vAC"
      },
      "outputs": [],
      "source": [
        "import numpy as np\n",
        "import pandas as pd\n",
        "from matplotlib import pyplot as plt\n",
        "from keras.models import Model\n",
        "from keras.layers import Input, Dense, Dropout"
      ]
    },
    {
      "cell_type": "code",
      "source": [
        "# Define random seed\n",
        "np.random.seed(42)\n",
        "\n",
        "# Create random points for the x and y axis from 0 to 20\n",
        "xs = np.linspace(0,20,50)\n",
        "ys = np.linspace(20,0,50)\n",
        "\n",
        "# Add some positive and negative noise on the y axis\n",
        "ys += np.random.uniform(-2,2,50)\n",
        "\n",
        "# Plot the graph\n",
        "plt.plot(xs,ys,'.')"
      ],
      "metadata": {
        "colab": {
          "base_uri": "https://localhost:8080/",
          "height": 282
        },
        "id": "kDlOvuPQ9Q_4",
        "outputId": "b2a66ff1-3296-4d7f-a3fa-7e8794bd5d69"
      },
      "execution_count": 56,
      "outputs": [
        {
          "output_type": "execute_result",
          "data": {
            "text/plain": [
              "[<matplotlib.lines.Line2D at 0x7f94471b3610>]"
            ]
          },
          "metadata": {},
          "execution_count": 56
        },
        {
          "output_type": "display_data",
          "data": {
            "text/plain": [
              "<Figure size 432x288 with 1 Axes>"
            ],
            "image/png": "[encoded data removed]"
          },
          "metadata": {
            "needs_background": "light"
          }
        }
      ]
    },
    {
      "cell_type": "code",
      "source": [
        "# Create the input layer\n",
        "input_layer = Input(shape=(1, ))\n",
        "\n",
        "# Create the other hidden layers and the output layer\n",
        "hidden_1 = Dense(64, activation='relu')(input_layer)\n",
        "hidden_2 = Dense(32, activation='relu')(hidden_1)\n",
        "output = Dense(1, activation='linear')(hidden_2)"
      ],
      "metadata": {
        "id": "bNvELHHmHXZo"
      },
      "execution_count": 57,
      "outputs": []
    },
    {
      "cell_type": "code",
      "source": [
        "model = Model(inputs=input_layer, outputs=output)"
      ],
      "metadata": {
        "id": "gpRtWfRvIYOZ"
      },
      "execution_count": 58,
      "outputs": []
    },
    {
      "cell_type": "code",
      "source": [
        "from keras.utils.vis_utils import plot_model\n",
        "\n",
        "plot_model(model)"
      ],
      "metadata": {
        "colab": {
          "base_uri": "https://localhost:8080/",
          "height": 369
        },
        "id": "tRq4VxCQId1d",
        "outputId": "38eded6e-0c4a-4d3d-e550-6815dde9ee61"
      },
      "execution_count": 59,
      "outputs": [
        {
          "output_type": "execute_result",
          "data": {
            "image/png": "[encoded data removed]",
            "text/plain": [
              "<IPython.core.display.Image object>"
            ]
          },
          "metadata": {},
          "execution_count": 59
        }
      ]
    },
    {
      "cell_type": "code",
      "source": [
        "model.compile(optimizer='adam',loss = 'mae')"
      ],
      "metadata": {
        "id": "dpnx1k8CImD9"
      },
      "execution_count": 60,
      "outputs": []
    },
    {
      "cell_type": "code",
      "source": [
        "model.fit(xs,ys,epochs=200,batch_size=64)"
      ],
      "metadata": {
        "colab": {
          "base_uri": "https://localhost:8080/"
        },
        "id": "8qx7nTGdI6G7",
        "outputId": "1353b666-d77f-429b-a24e-cce57cd99a90"
      },
      "execution_count": 61,
      "outputs": [
        {
          "output_type": "stream",
          "name": "stdout",
          "text": [
            "Epoch 1/200\n",
            "1/1 [==============================] - 1s 717ms/step - loss: 9.8201\n",
            "Epoch 2/200\n",
            "1/1 [==============================] - 0s 11ms/step - loss: 9.5421\n",
            "Epoch 3/200\n",
            "1/1 [==============================] - 0s 8ms/step - loss: 9.3225\n",
            "Epoch 4/200\n",
            "1/1 [==============================] - 0s 7ms/step - loss: 9.1555\n",
            "Epoch 5/200\n",
            "1/1 [==============================] - 0s 10ms/step - loss: 8.9886\n",
            "Epoch 6/200\n",
            "1/1 [==============================] - 0s 14ms/step - loss: 8.8592\n",
            "Epoch 7/200\n",
            "1/1 [==============================] - 0s 8ms/step - loss: 8.7461\n",
            "Epoch 8/200\n",
            "1/1 [==============================] - 0s 26ms/step - loss: 8.6414\n",
            "Epoch 9/200\n",
            "1/1 [==============================] - 0s 10ms/step - loss: 8.5557\n",
            "Epoch 10/200\n",
            "1/1 [==============================] - 0s 16ms/step - loss: 8.5033\n",
            "Epoch 11/200\n",
            "1/1 [==============================] - 0s 7ms/step - loss: 8.4636\n",
            "Epoch 12/200\n",
            "1/1 [==============================] - 0s 10ms/step - loss: 8.4263\n",
            "Epoch 13/200\n",
            "1/1 [==============================] - 0s 8ms/step - loss: 8.4003\n",
            "Epoch 14/200\n",
            "1/1 [==============================] - 0s 11ms/step - loss: 8.3825\n",
            "Epoch 15/200\n",
            "1/1 [==============================] - 0s 7ms/step - loss: 8.3736\n",
            "Epoch 16/200\n",
            "1/1 [==============================] - 0s 8ms/step - loss: 8.3650\n",
            "Epoch 17/200\n",
            "1/1 [==============================] - 0s 11ms/step - loss: 8.3569\n",
            "Epoch 18/200\n",
            "1/1 [==============================] - 0s 9ms/step - loss: 8.3568\n",
            "Epoch 19/200\n",
            "1/1 [==============================] - 0s 10ms/step - loss: 8.3567\n",
            "Epoch 20/200\n",
            "1/1 [==============================] - 0s 9ms/step - loss: 8.3562\n",
            "Epoch 21/200\n",
            "1/1 [==============================] - 0s 30ms/step - loss: 8.3556\n",
            "Epoch 22/200\n",
            "1/1 [==============================] - 0s 18ms/step - loss: 8.3546\n",
            "Epoch 23/200\n",
            "1/1 [==============================] - 0s 11ms/step - loss: 8.3535\n",
            "Epoch 24/200\n",
            "1/1 [==============================] - 0s 10ms/step - loss: 8.3523\n",
            "Epoch 25/200\n",
            "1/1 [==============================] - 0s 10ms/step - loss: 8.3536\n",
            "Epoch 26/200\n",
            "1/1 [==============================] - 0s 12ms/step - loss: 8.3536\n",
            "Epoch 27/200\n",
            "1/1 [==============================] - 0s 7ms/step - loss: 8.3545\n",
            "Epoch 28/200\n",
            "1/1 [==============================] - 0s 8ms/step - loss: 8.3531\n",
            "Epoch 29/200\n",
            "1/1 [==============================] - 0s 8ms/step - loss: 8.3496\n",
            "Epoch 30/200\n",
            "1/1 [==============================] - 0s 13ms/step - loss: 8.3442\n",
            "Epoch 31/200\n",
            "1/1 [==============================] - 0s 11ms/step - loss: 8.3374\n",
            "Epoch 32/200\n",
            "1/1 [==============================] - 0s 9ms/step - loss: 8.3317\n",
            "Epoch 33/200\n",
            "1/1 [==============================] - 0s 11ms/step - loss: 8.3257\n",
            "Epoch 34/200\n",
            "1/1 [==============================] - 0s 10ms/step - loss: 8.3198\n",
            "Epoch 35/200\n",
            "1/1 [==============================] - 0s 7ms/step - loss: 8.3159\n",
            "Epoch 36/200\n",
            "1/1 [==============================] - 0s 8ms/step - loss: 8.3120\n",
            "Epoch 37/200\n",
            "1/1 [==============================] - 0s 8ms/step - loss: 8.3081\n",
            "Epoch 38/200\n",
            "1/1 [==============================] - 0s 7ms/step - loss: 8.3042\n",
            "Epoch 39/200\n",
            "1/1 [==============================] - 0s 8ms/step - loss: 8.3003\n",
            "Epoch 40/200\n",
            "1/1 [==============================] - 0s 8ms/step - loss: 8.2965\n",
            "Epoch 41/200\n",
            "1/1 [==============================] - 0s 8ms/step - loss: 8.2926\n",
            "Epoch 42/200\n",
            "1/1 [==============================] - 0s 8ms/step - loss: 8.2888\n",
            "Epoch 43/200\n",
            "1/1 [==============================] - 0s 11ms/step - loss: 8.2850\n",
            "Epoch 44/200\n",
            "1/1 [==============================] - 0s 14ms/step - loss: 8.2811\n",
            "Epoch 45/200\n",
            "1/1 [==============================] - 0s 10ms/step - loss: 8.2773\n",
            "Epoch 46/200\n",
            "1/1 [==============================] - 0s 13ms/step - loss: 8.2735\n",
            "Epoch 47/200\n",
            "1/1 [==============================] - 0s 10ms/step - loss: 8.2697\n",
            "Epoch 48/200\n",
            "1/1 [==============================] - 0s 9ms/step - loss: 8.2658\n",
            "Epoch 49/200\n",
            "1/1 [==============================] - 0s 18ms/step - loss: 8.2620\n",
            "Epoch 50/200\n",
            "1/1 [==============================] - 0s 10ms/step - loss: 8.2582\n",
            "Epoch 51/200\n",
            "1/1 [==============================] - 0s 11ms/step - loss: 8.2544\n",
            "Epoch 52/200\n",
            "1/1 [==============================] - 0s 11ms/step - loss: 8.2505\n",
            "Epoch 53/200\n",
            "1/1 [==============================] - 0s 9ms/step - loss: 8.2467\n",
            "Epoch 54/200\n",
            "1/1 [==============================] - 0s 7ms/step - loss: 8.2428\n",
            "Epoch 55/200\n",
            "1/1 [==============================] - 0s 9ms/step - loss: 8.2389\n",
            "Epoch 56/200\n",
            "1/1 [==============================] - 0s 7ms/step - loss: 8.2351\n",
            "Epoch 57/200\n",
            "1/1 [==============================] - 0s 10ms/step - loss: 8.2312\n",
            "Epoch 58/200\n",
            "1/1 [==============================] - 0s 7ms/step - loss: 8.2273\n",
            "Epoch 59/200\n",
            "1/1 [==============================] - 0s 11ms/step - loss: 8.2234\n",
            "Epoch 60/200\n",
            "1/1 [==============================] - 0s 6ms/step - loss: 8.2196\n",
            "Epoch 61/200\n",
            "1/1 [==============================] - 0s 6ms/step - loss: 8.2165\n",
            "Epoch 62/200\n",
            "1/1 [==============================] - 0s 7ms/step - loss: 8.2131\n",
            "Epoch 63/200\n",
            "1/1 [==============================] - 0s 7ms/step - loss: 8.2093\n",
            "Epoch 64/200\n",
            "1/1 [==============================] - 0s 7ms/step - loss: 8.2053\n",
            "Epoch 65/200\n",
            "1/1 [==============================] - 0s 6ms/step - loss: 8.2011\n",
            "Epoch 66/200\n",
            "1/1 [==============================] - 0s 8ms/step - loss: 8.1973\n",
            "Epoch 67/200\n",
            "1/1 [==============================] - 0s 9ms/step - loss: 8.1936\n",
            "Epoch 68/200\n",
            "1/1 [==============================] - 0s 9ms/step - loss: 8.1899\n",
            "Epoch 69/200\n",
            "1/1 [==============================] - 0s 10ms/step - loss: 8.1861\n",
            "Epoch 70/200\n",
            "1/1 [==============================] - 0s 10ms/step - loss: 8.1822\n",
            "Epoch 71/200\n",
            "1/1 [==============================] - 0s 12ms/step - loss: 8.1782\n",
            "Epoch 72/200\n",
            "1/1 [==============================] - 0s 9ms/step - loss: 8.1743\n",
            "Epoch 73/200\n",
            "1/1 [==============================] - 0s 13ms/step - loss: 8.1702\n",
            "Epoch 74/200\n",
            "1/1 [==============================] - 0s 6ms/step - loss: 8.1661\n",
            "Epoch 75/200\n",
            "1/1 [==============================] - 0s 10ms/step - loss: 8.1619\n",
            "Epoch 76/200\n",
            "1/1 [==============================] - 0s 14ms/step - loss: 8.1577\n",
            "Epoch 77/200\n",
            "1/1 [==============================] - 0s 28ms/step - loss: 8.1534\n",
            "Epoch 78/200\n",
            "1/1 [==============================] - 0s 9ms/step - loss: 8.1491\n",
            "Epoch 79/200\n",
            "1/1 [==============================] - 0s 12ms/step - loss: 8.1447\n",
            "Epoch 80/200\n",
            "1/1 [==============================] - 0s 16ms/step - loss: 8.1402\n",
            "Epoch 81/200\n",
            "1/1 [==============================] - 0s 19ms/step - loss: 8.1363\n",
            "Epoch 82/200\n",
            "1/1 [==============================] - 0s 19ms/step - loss: 8.1320\n",
            "Epoch 83/200\n",
            "1/1 [==============================] - 0s 12ms/step - loss: 8.1273\n",
            "Epoch 84/200\n",
            "1/1 [==============================] - 0s 16ms/step - loss: 8.1224\n",
            "Epoch 85/200\n",
            "1/1 [==============================] - 0s 11ms/step - loss: 8.1179\n",
            "Epoch 86/200\n",
            "1/1 [==============================] - 0s 14ms/step - loss: 8.1133\n",
            "Epoch 87/200\n",
            "1/1 [==============================] - 0s 11ms/step - loss: 8.1087\n",
            "Epoch 88/200\n",
            "1/1 [==============================] - 0s 23ms/step - loss: 8.1039\n",
            "Epoch 89/200\n",
            "1/1 [==============================] - 0s 8ms/step - loss: 8.0991\n",
            "Epoch 90/200\n",
            "1/1 [==============================] - 0s 10ms/step - loss: 8.0942\n",
            "Epoch 91/200\n",
            "1/1 [==============================] - 0s 13ms/step - loss: 8.0892\n",
            "Epoch 92/200\n",
            "1/1 [==============================] - 0s 10ms/step - loss: 8.0841\n",
            "Epoch 93/200\n",
            "1/1 [==============================] - 0s 10ms/step - loss: 8.0790\n",
            "Epoch 94/200\n",
            "1/1 [==============================] - 0s 17ms/step - loss: 8.0738\n",
            "Epoch 95/200\n",
            "1/1 [==============================] - 0s 10ms/step - loss: 8.0686\n",
            "Epoch 96/200\n",
            "1/1 [==============================] - 0s 11ms/step - loss: 8.0633\n",
            "Epoch 97/200\n",
            "1/1 [==============================] - 0s 18ms/step - loss: 8.0579\n",
            "Epoch 98/200\n",
            "1/1 [==============================] - 0s 11ms/step - loss: 8.0526\n",
            "Epoch 99/200\n",
            "1/1 [==============================] - 0s 19ms/step - loss: 8.0470\n",
            "Epoch 100/200\n",
            "1/1 [==============================] - 0s 11ms/step - loss: 8.0414\n",
            "Epoch 101/200\n",
            "1/1 [==============================] - 0s 12ms/step - loss: 8.0356\n",
            "Epoch 102/200\n",
            "1/1 [==============================] - 0s 11ms/step - loss: 8.0298\n",
            "Epoch 103/200\n",
            "1/1 [==============================] - 0s 11ms/step - loss: 8.0239\n",
            "Epoch 104/200\n",
            "1/1 [==============================] - 0s 13ms/step - loss: 8.0182\n",
            "Epoch 105/200\n",
            "1/1 [==============================] - 0s 10ms/step - loss: 8.0121\n",
            "Epoch 106/200\n",
            "1/1 [==============================] - 0s 10ms/step - loss: 8.0057\n",
            "Epoch 107/200\n",
            "1/1 [==============================] - 0s 14ms/step - loss: 7.9996\n",
            "Epoch 108/200\n",
            "1/1 [==============================] - 0s 15ms/step - loss: 7.9932\n",
            "Epoch 109/200\n",
            "1/1 [==============================] - 0s 17ms/step - loss: 7.9868\n",
            "Epoch 110/200\n",
            "1/1 [==============================] - 0s 10ms/step - loss: 7.9802\n",
            "Epoch 111/200\n",
            "1/1 [==============================] - 0s 17ms/step - loss: 7.9735\n",
            "Epoch 112/200\n",
            "1/1 [==============================] - 0s 11ms/step - loss: 7.9666\n",
            "Epoch 113/200\n",
            "1/1 [==============================] - 0s 14ms/step - loss: 7.9597\n",
            "Epoch 114/200\n",
            "1/1 [==============================] - 0s 13ms/step - loss: 7.9525\n",
            "Epoch 115/200\n",
            "1/1 [==============================] - 0s 9ms/step - loss: 7.9456\n",
            "Epoch 116/200\n",
            "1/1 [==============================] - 0s 9ms/step - loss: 7.9382\n",
            "Epoch 117/200\n",
            "1/1 [==============================] - 0s 14ms/step - loss: 7.9308\n",
            "Epoch 118/200\n",
            "1/1 [==============================] - 0s 7ms/step - loss: 7.9234\n",
            "Epoch 119/200\n",
            "1/1 [==============================] - 0s 7ms/step - loss: 7.9158\n",
            "Epoch 120/200\n",
            "1/1 [==============================] - 0s 6ms/step - loss: 7.9080\n",
            "Epoch 121/200\n",
            "1/1 [==============================] - 0s 7ms/step - loss: 7.9001\n",
            "Epoch 122/200\n",
            "1/1 [==============================] - 0s 15ms/step - loss: 7.8919\n",
            "Epoch 123/200\n",
            "1/1 [==============================] - 0s 17ms/step - loss: 7.8836\n",
            "Epoch 124/200\n",
            "1/1 [==============================] - 0s 9ms/step - loss: 7.8751\n",
            "Epoch 125/200\n",
            "1/1 [==============================] - 0s 10ms/step - loss: 7.8665\n",
            "Epoch 126/200\n",
            "1/1 [==============================] - 0s 13ms/step - loss: 7.8582\n",
            "Epoch 127/200\n",
            "1/1 [==============================] - 0s 11ms/step - loss: 7.8492\n",
            "Epoch 128/200\n",
            "1/1 [==============================] - 0s 11ms/step - loss: 7.8402\n",
            "Epoch 129/200\n",
            "1/1 [==============================] - 0s 10ms/step - loss: 7.8312\n",
            "Epoch 130/200\n",
            "1/1 [==============================] - 0s 9ms/step - loss: 7.8220\n",
            "Epoch 131/200\n",
            "1/1 [==============================] - 0s 8ms/step - loss: 7.8125\n",
            "Epoch 132/200\n",
            "1/1 [==============================] - 0s 9ms/step - loss: 7.8028\n",
            "Epoch 133/200\n",
            "1/1 [==============================] - 0s 9ms/step - loss: 7.7929\n",
            "Epoch 134/200\n",
            "1/1 [==============================] - 0s 10ms/step - loss: 7.7827\n",
            "Epoch 135/200\n",
            "1/1 [==============================] - 0s 9ms/step - loss: 7.7722\n",
            "Epoch 136/200\n",
            "1/1 [==============================] - 0s 10ms/step - loss: 7.7618\n",
            "Epoch 137/200\n",
            "1/1 [==============================] - 0s 14ms/step - loss: 7.7510\n",
            "Epoch 138/200\n",
            "1/1 [==============================] - 0s 32ms/step - loss: 7.7401\n",
            "Epoch 139/200\n",
            "1/1 [==============================] - 0s 6ms/step - loss: 7.7290\n",
            "Epoch 140/200\n",
            "1/1 [==============================] - 0s 6ms/step - loss: 7.7178\n",
            "Epoch 141/200\n",
            "1/1 [==============================] - 0s 13ms/step - loss: 7.7062\n",
            "Epoch 142/200\n",
            "1/1 [==============================] - 0s 6ms/step - loss: 7.6944\n",
            "Epoch 143/200\n",
            "1/1 [==============================] - 0s 6ms/step - loss: 7.6825\n",
            "Epoch 144/200\n",
            "1/1 [==============================] - 0s 16ms/step - loss: 7.6702\n",
            "Epoch 145/200\n",
            "1/1 [==============================] - 0s 29ms/step - loss: 7.6577\n",
            "Epoch 146/200\n",
            "1/1 [==============================] - 0s 11ms/step - loss: 7.6448\n",
            "Epoch 147/200\n",
            "1/1 [==============================] - 0s 11ms/step - loss: 7.6322\n",
            "Epoch 148/200\n",
            "1/1 [==============================] - 0s 11ms/step - loss: 7.6187\n",
            "Epoch 149/200\n",
            "1/1 [==============================] - 0s 10ms/step - loss: 7.6052\n",
            "Epoch 150/200\n",
            "1/1 [==============================] - 0s 11ms/step - loss: 7.5914\n",
            "Epoch 151/200\n",
            "1/1 [==============================] - 0s 12ms/step - loss: 7.5773\n",
            "Epoch 152/200\n",
            "1/1 [==============================] - 0s 28ms/step - loss: 7.5630\n",
            "Epoch 153/200\n",
            "1/1 [==============================] - 0s 10ms/step - loss: 7.5482\n",
            "Epoch 154/200\n",
            "1/1 [==============================] - 0s 11ms/step - loss: 7.5332\n",
            "Epoch 155/200\n",
            "1/1 [==============================] - 0s 8ms/step - loss: 7.5179\n",
            "Epoch 156/200\n",
            "1/1 [==============================] - 0s 17ms/step - loss: 7.5025\n",
            "Epoch 157/200\n",
            "1/1 [==============================] - 0s 13ms/step - loss: 7.4867\n",
            "Epoch 158/200\n",
            "1/1 [==============================] - 0s 11ms/step - loss: 7.4705\n",
            "Epoch 159/200\n",
            "1/1 [==============================] - 0s 15ms/step - loss: 7.4541\n",
            "Epoch 160/200\n",
            "1/1 [==============================] - 0s 13ms/step - loss: 7.4372\n",
            "Epoch 161/200\n",
            "1/1 [==============================] - 0s 13ms/step - loss: 7.4198\n",
            "Epoch 162/200\n",
            "1/1 [==============================] - 0s 12ms/step - loss: 7.4024\n",
            "Epoch 163/200\n",
            "1/1 [==============================] - 0s 10ms/step - loss: 7.3843\n",
            "Epoch 164/200\n",
            "1/1 [==============================] - 0s 10ms/step - loss: 7.3661\n",
            "Epoch 165/200\n",
            "1/1 [==============================] - 0s 10ms/step - loss: 7.3474\n",
            "Epoch 166/200\n",
            "1/1 [==============================] - 0s 10ms/step - loss: 7.3287\n",
            "Epoch 167/200\n",
            "1/1 [==============================] - 0s 10ms/step - loss: 7.3089\n",
            "Epoch 168/200\n",
            "1/1 [==============================] - 0s 13ms/step - loss: 7.2891\n",
            "Epoch 169/200\n",
            "1/1 [==============================] - 0s 20ms/step - loss: 7.2688\n",
            "Epoch 170/200\n",
            "1/1 [==============================] - 0s 10ms/step - loss: 7.2484\n",
            "Epoch 171/200\n",
            "1/1 [==============================] - 0s 16ms/step - loss: 7.2274\n",
            "Epoch 172/200\n",
            "1/1 [==============================] - 0s 10ms/step - loss: 7.2057\n",
            "Epoch 173/200\n",
            "1/1 [==============================] - 0s 11ms/step - loss: 7.1836\n",
            "Epoch 174/200\n",
            "1/1 [==============================] - 0s 11ms/step - loss: 7.1619\n",
            "Epoch 175/200\n",
            "1/1 [==============================] - 0s 18ms/step - loss: 7.1385\n",
            "Epoch 176/200\n",
            "1/1 [==============================] - 0s 12ms/step - loss: 7.1153\n",
            "Epoch 177/200\n",
            "1/1 [==============================] - 0s 10ms/step - loss: 7.0918\n",
            "Epoch 178/200\n",
            "1/1 [==============================] - 0s 17ms/step - loss: 7.0676\n",
            "Epoch 179/200\n",
            "1/1 [==============================] - 0s 18ms/step - loss: 7.0427\n",
            "Epoch 180/200\n",
            "1/1 [==============================] - 0s 15ms/step - loss: 7.0170\n",
            "Epoch 181/200\n",
            "1/1 [==============================] - 0s 11ms/step - loss: 6.9909\n",
            "Epoch 182/200\n",
            "1/1 [==============================] - 0s 19ms/step - loss: 6.9644\n",
            "Epoch 183/200\n",
            "1/1 [==============================] - 0s 12ms/step - loss: 6.9375\n",
            "Epoch 184/200\n",
            "1/1 [==============================] - 0s 16ms/step - loss: 6.9103\n",
            "Epoch 185/200\n",
            "1/1 [==============================] - 0s 10ms/step - loss: 6.8824\n",
            "Epoch 186/200\n",
            "1/1 [==============================] - 0s 16ms/step - loss: 6.8537\n",
            "Epoch 187/200\n",
            "1/1 [==============================] - 0s 11ms/step - loss: 6.8243\n",
            "Epoch 188/200\n",
            "1/1 [==============================] - 0s 19ms/step - loss: 6.7951\n",
            "Epoch 189/200\n",
            "1/1 [==============================] - 0s 10ms/step - loss: 6.7643\n",
            "Epoch 190/200\n",
            "1/1 [==============================] - 0s 13ms/step - loss: 6.7335\n",
            "Epoch 191/200\n",
            "1/1 [==============================] - 0s 12ms/step - loss: 6.7022\n",
            "Epoch 192/200\n",
            "1/1 [==============================] - 0s 11ms/step - loss: 6.6700\n",
            "Epoch 193/200\n",
            "1/1 [==============================] - 0s 11ms/step - loss: 6.6368\n",
            "Epoch 194/200\n",
            "1/1 [==============================] - 0s 16ms/step - loss: 6.6027\n",
            "Epoch 195/200\n",
            "1/1 [==============================] - 0s 13ms/step - loss: 6.5702\n",
            "Epoch 196/200\n",
            "1/1 [==============================] - 0s 11ms/step - loss: 6.5341\n",
            "Epoch 197/200\n",
            "1/1 [==============================] - 0s 9ms/step - loss: 6.4995\n",
            "Epoch 198/200\n",
            "1/1 [==============================] - 0s 12ms/step - loss: 6.4637\n",
            "Epoch 199/200\n",
            "1/1 [==============================] - 0s 9ms/step - loss: 6.4268\n",
            "Epoch 200/200\n",
            "1/1 [==============================] - 0s 10ms/step - loss: 6.3888\n"
          ]
        },
        {
          "output_type": "execute_result",
          "data": {
            "text/plain": [
              "<keras.callbacks.History at 0x7f9447a1df90>"
            ]
          },
          "metadata": {},
          "execution_count": 61
        }
      ]
    },
    {
      "cell_type": "code",
      "source": [
        "# model makes prediction\n",
        "y_pred = model.predict(xs)\n",
        "\n",
        "# plot the graph\n",
        "plt.plot(xs,y_pred,'k',label='Predicted')\n",
        "plt.scatter(xs,ys,label=True)"
      ],
      "metadata": {
        "id": "zErgjkr3JNZO",
        "colab": {
          "base_uri": "https://localhost:8080/",
          "height": 320
        },
        "outputId": "e552870b-618c-4b59-f105-ad41f7236fe4"
      },
      "execution_count": 62,
      "outputs": [
        {
          "output_type": "stream",
          "name": "stderr",
          "text": [
            "WARNING:tensorflow:5 out of the last 13 calls to <function Model.make_predict_function.<locals>.predict_function at 0x7f94470fc950> triggered tf.function retracing. Tracing is expensive and the excessive number of tracings could be due to (1) creating @tf.function repeatedly in a loop, (2) passing tensors with different shapes, (3) passing Python objects instead of tensors. For (1), please define your @tf.function outside of the loop. For (2), @tf.function has experimental_relax_shapes=True option that relaxes argument shapes that can avoid unnecessary retracing. For (3), please refer to https://www.tensorflow.org/guide/function#controlling_retracing and https://www.tensorflow.org/api_docs/python/tf/function for  more details.\n"
          ]
        },
        {
          "output_type": "execute_result",
          "data": {
            "text/plain": [
              "<matplotlib.collections.PathCollection at 0x7f9447125950>"
            ]
          },
          "metadata": {},
          "execution_count": 62
        },
        {
          "output_type": "display_data",
          "data": {
            "text/plain": [
              "<Figure size 432x288 with 1 Axes>"
            ],
            "image/png": "[encoded data removed]"
          },
          "metadata": {
            "needs_background": "light"
          }
        }
      ]
    },
    {
      "cell_type": "code",
      "source": [],
      "metadata": {
        "id": "N6iFZsA2MHzD"
      },
      "execution_count": 62,
      "outputs": []
    }
  ]
}