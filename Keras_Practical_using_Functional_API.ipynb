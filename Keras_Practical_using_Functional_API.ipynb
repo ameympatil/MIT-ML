{
  "nbformat": 4,
  "nbformat_minor": 0,
  "metadata": {
    "colab": {
      "name": "Keras Practical using Functional API.ipynb",
      "provenance": [],
      "collapsed_sections": [],
      "include_colab_link": true
    },
    "kernelspec": {
      "name": "python3",
      "display_name": "Python 3"
    },
    "language_info": {
      "name": "python"
    },
    "accelerator": "GPU",
    "gpuClass": "standard"
  },
  "cells": [
    {
      "cell_type": "markdown",
      "metadata": {
        "id": "view-in-github",
        "colab_type": "text"
      },
      "source": [
        "<a href=\"https://colab.research.google.com/github/ameympatil/MIT-ML/blob/main/Keras_Practical_using_Functional_API.ipynb\" target=\"_parent\"><img src=\"https://colab.research.google.com/assets/colab-badge.svg\" alt=\"Open In Colab\"/></a>"
      ]
    },
    {
      "cell_type": "markdown",
      "source": [
        "## Functional API"
      ],
      "metadata": {
        "id": "Xvu3J206M7WX"
      }
    },
    {
      "cell_type": "code",
      "execution_count": 255,
      "metadata": {
        "id": "Ayi5Mx2-6vAC"
      },
      "outputs": [],
      "source": [
        "import numpy as np\n",
        "import pandas as pd\n",
        "from matplotlib import pyplot as plt\n",
        "from keras.models import Model\n",
        "from tensorflow import keras\n",
        "from keras.layers import Input, Dense, Dropout"
      ]
    },
    {
      "cell_type": "code",
      "source": [
        "df = pd.read_csv('/content/ionosphere.data')\n",
        "print(df.shape)"
      ],
      "metadata": {
        "colab": {
          "base_uri": "https://localhost:8080/"
        },
        "id": "czqeSqMZfLZB",
        "outputId": "c76f4296-711a-4e66-8fb3-6e49163a936e"
      },
      "execution_count": 256,
      "outputs": [
        {
          "output_type": "stream",
          "name": "stdout",
          "text": [
            "(350, 35)\n"
          ]
        }
      ]
    },
    {
      "cell_type": "code",
      "source": [
        "lis = list(range(0,35))"
      ],
      "metadata": {
        "id": "GVojItyIfLWo"
      },
      "execution_count": 257,
      "outputs": []
    },
    {
      "cell_type": "code",
      "source": [
        "df.columns = lis"
      ],
      "metadata": {
        "id": "PN1nNCXLfLTq"
      },
      "execution_count": 258,
      "outputs": []
    },
    {
      "cell_type": "code",
      "source": [
        "df = df.drop(columns=[1],axis=1)"
      ],
      "metadata": {
        "id": "0V_A1qLNfLRH"
      },
      "execution_count": 259,
      "outputs": []
    },
    {
      "cell_type": "code",
      "source": [
        "df.head()"
      ],
      "metadata": {
        "colab": {
          "base_uri": "https://localhost:8080/",
          "height": 235
        },
        "id": "LoZELJIFfLOx",
        "outputId": "d5f0ee10-a49a-44da-8122-1a653798befa"
      },
      "execution_count": 260,
      "outputs": [
        {
          "output_type": "execute_result",
          "data": {
            "text/plain": [
              "   0        2        3        4        5        6        7        8        9   \\\n",
              "0   1  1.00000 -0.18829  0.93035 -0.36156 -0.10868 -0.93597  1.00000 -0.04549   \n",
              "1   1  1.00000 -0.03365  1.00000  0.00485  1.00000 -0.12062  0.88965  0.01198   \n",
              "2   1  1.00000 -0.45161  1.00000  1.00000  0.71216 -1.00000  0.00000  0.00000   \n",
              "3   1  1.00000 -0.02401  0.94140  0.06531  0.92106 -0.23255  0.77152 -0.16399   \n",
              "4   1  0.02337 -0.00592 -0.09924 -0.11949 -0.00763 -0.11824  0.14706  0.06637   \n",
              "\n",
              "        10  ...       25       26       27       28       29       30  \\\n",
              "0  0.50874  ... -0.26569 -0.20468 -0.18401 -0.19040 -0.11593 -0.16626   \n",
              "1  0.73082  ... -0.40220  0.58984 -0.22145  0.43100 -0.17365  0.60436   \n",
              "2  0.00000  ...  0.90695  0.51613  1.00000  1.00000 -0.20099  0.25682   \n",
              "3  0.52798  ... -0.65158  0.13290 -0.53206  0.02431 -0.62197 -0.05707   \n",
              "4  0.03786  ... -0.01535 -0.03240  0.09223 -0.07859  0.00732  0.00000   \n",
              "\n",
              "        31       32       33  34  \n",
              "0 -0.06288 -0.13738 -0.02447   b  \n",
              "1 -0.24180  0.56045 -0.38238   g  \n",
              "2  1.00000 -0.32382  1.00000   b  \n",
              "3 -0.59573 -0.04608 -0.65697   g  \n",
              "4  0.00000 -0.00039  0.12011   b  \n",
              "\n",
              "[5 rows x 34 columns]"
            ],
            "text/html": [
              "\n",
              "  <div id=\"df-9768df90-d2d1-4428-9c28-22dc794399fe\">\n",
              "    <div class=\"colab-df-container\">\n",
              "      <div>\n",
              "<style scoped>\n",
              "    .dataframe tbody tr th:only-of-type {\n",
              "        vertical-align: middle;\n",
              "    }\n",
              "\n",
              "    .dataframe tbody tr th {\n",
              "        vertical-align: top;\n",
              "    }\n",
              "\n",
              "    .dataframe thead th {\n",
              "        text-align: right;\n",
              "    }\n",
              "</style>\n",
              "<table border=\"1\" class=\"dataframe\">\n",
              "  <thead>\n",
              "    <tr style=\"text-align: right;\">\n",
              "      <th></th>\n",
              "      <th>0</th>\n",
              "      <th>2</th>\n",
              "      <th>3</th>\n",
              "      <th>4</th>\n",
              "      <th>5</th>\n",
              "      <th>6</th>\n",
              "      <th>7</th>\n",
              "      <th>8</th>\n",
              "      <th>9</th>\n",
              "      <th>10</th>\n",
              "      <th>...</th>\n",
              "      <th>25</th>\n",
              "      <th>26</th>\n",
              "      <th>27</th>\n",
              "      <th>28</th>\n",
              "      <th>29</th>\n",
              "      <th>30</th>\n",
              "      <th>31</th>\n",
              "      <th>32</th>\n",
              "      <th>33</th>\n",
              "      <th>34</th>\n",
              "    </tr>\n",
              "  </thead>\n",
              "  <tbody>\n",
              "    <tr>\n",
              "      <th>0</th>\n",
              "      <td>1</td>\n",
              "      <td>1.00000</td>\n",
              "      <td>-0.18829</td>\n",
              "      <td>0.93035</td>\n",
              "      <td>-0.36156</td>\n",
              "      <td>-0.10868</td>\n",
              "      <td>-0.93597</td>\n",
              "      <td>1.00000</td>\n",
              "      <td>-0.04549</td>\n",
              "      <td>0.50874</td>\n",
              "      <td>...</td>\n",
              "      <td>-0.26569</td>\n",
              "      <td>-0.20468</td>\n",
              "      <td>-0.18401</td>\n",
              "      <td>-0.19040</td>\n",
              "      <td>-0.11593</td>\n",
              "      <td>-0.16626</td>\n",
              "      <td>-0.06288</td>\n",
              "      <td>-0.13738</td>\n",
              "      <td>-0.02447</td>\n",
              "      <td>b</td>\n",
              "    </tr>\n",
              "    <tr>\n",
              "      <th>1</th>\n",
              "      <td>1</td>\n",
              "      <td>1.00000</td>\n",
              "      <td>-0.03365</td>\n",
              "      <td>1.00000</td>\n",
              "      <td>0.00485</td>\n",
              "      <td>1.00000</td>\n",
              "      <td>-0.12062</td>\n",
              "      <td>0.88965</td>\n",
              "      <td>0.01198</td>\n",
              "      <td>0.73082</td>\n",
              "      <td>...</td>\n",
              "      <td>-0.40220</td>\n",
              "      <td>0.58984</td>\n",
              "      <td>-0.22145</td>\n",
              "      <td>0.43100</td>\n",
              "      <td>-0.17365</td>\n",
              "      <td>0.60436</td>\n",
              "      <td>-0.24180</td>\n",
              "      <td>0.56045</td>\n",
              "      <td>-0.38238</td>\n",
              "      <td>g</td>\n",
              "    </tr>\n",
              "    <tr>\n",
              "      <th>2</th>\n",
              "      <td>1</td>\n",
              "      <td>1.00000</td>\n",
              "      <td>-0.45161</td>\n",
              "      <td>1.00000</td>\n",
              "      <td>1.00000</td>\n",
              "      <td>0.71216</td>\n",
              "      <td>-1.00000</td>\n",
              "      <td>0.00000</td>\n",
              "      <td>0.00000</td>\n",
              "      <td>0.00000</td>\n",
              "      <td>...</td>\n",
              "      <td>0.90695</td>\n",
              "      <td>0.51613</td>\n",
              "      <td>1.00000</td>\n",
              "      <td>1.00000</td>\n",
              "      <td>-0.20099</td>\n",
              "      <td>0.25682</td>\n",
              "      <td>1.00000</td>\n",
              "      <td>-0.32382</td>\n",
              "      <td>1.00000</td>\n",
              "      <td>b</td>\n",
              "    </tr>\n",
              "    <tr>\n",
              "      <th>3</th>\n",
              "      <td>1</td>\n",
              "      <td>1.00000</td>\n",
              "      <td>-0.02401</td>\n",
              "      <td>0.94140</td>\n",
              "      <td>0.06531</td>\n",
              "      <td>0.92106</td>\n",
              "      <td>-0.23255</td>\n",
              "      <td>0.77152</td>\n",
              "      <td>-0.16399</td>\n",
              "      <td>0.52798</td>\n",
              "      <td>...</td>\n",
              "      <td>-0.65158</td>\n",
              "      <td>0.13290</td>\n",
              "      <td>-0.53206</td>\n",
              "      <td>0.02431</td>\n",
              "      <td>-0.62197</td>\n",
              "      <td>-0.05707</td>\n",
              "      <td>-0.59573</td>\n",
              "      <td>-0.04608</td>\n",
              "      <td>-0.65697</td>\n",
              "      <td>g</td>\n",
              "    </tr>\n",
              "    <tr>\n",
              "      <th>4</th>\n",
              "      <td>1</td>\n",
              "      <td>0.02337</td>\n",
              "      <td>-0.00592</td>\n",
              "      <td>-0.09924</td>\n",
              "      <td>-0.11949</td>\n",
              "      <td>-0.00763</td>\n",
              "      <td>-0.11824</td>\n",
              "      <td>0.14706</td>\n",
              "      <td>0.06637</td>\n",
              "      <td>0.03786</td>\n",
              "      <td>...</td>\n",
              "      <td>-0.01535</td>\n",
              "      <td>-0.03240</td>\n",
              "      <td>0.09223</td>\n",
              "      <td>-0.07859</td>\n",
              "      <td>0.00732</td>\n",
              "      <td>0.00000</td>\n",
              "      <td>0.00000</td>\n",
              "      <td>-0.00039</td>\n",
              "      <td>0.12011</td>\n",
              "      <td>b</td>\n",
              "    </tr>\n",
              "  </tbody>\n",
              "</table>\n",
              "<p>5 rows × 34 columns</p>\n",
              "</div>\n",
              "      <button class=\"colab-df-convert\" onclick=\"convertToInteractive('df-9768df90-d2d1-4428-9c28-22dc794399fe')\"\n",
              "              title=\"Convert this dataframe to an interactive table.\"\n",
              "              style=\"display:none;\">\n",
              "        \n",
              "  <svg xmlns=\"http://www.w3.org/2000/svg\" height=\"24px\"viewBox=\"0 0 24 24\"\n",
              "       width=\"24px\">\n",
              "    <path d=\"M0 0h24v24H0V0z\" fill=\"none\"/>\n",
              "    <path d=\"M18.56 5.44l.94 2.06.94-2.06 2.06-.94-2.06-.94-.94-2.06-.94 2.06-2.06.94zm-11 1L8.5 8.5l.94-2.06 2.06-.94-2.06-.94L8.5 2.5l-.94 2.06-2.06.94zm10 10l.94 2.06.94-2.06 2.06-.94-2.06-.94-.94-2.06-.94 2.06-2.06.94z\"/><path d=\"M17.41 7.96l-1.37-1.37c-.4-.4-.92-.59-1.43-.59-.52 0-1.04.2-1.43.59L10.3 9.45l-7.72 7.72c-.78.78-.78 2.05 0 2.83L4 21.41c.39.39.9.59 1.41.59.51 0 1.02-.2 1.41-.59l7.78-7.78 2.81-2.81c.8-.78.8-2.07 0-2.86zM5.41 20L4 18.59l7.72-7.72 1.47 1.35L5.41 20z\"/>\n",
              "  </svg>\n",
              "      </button>\n",
              "      \n",
              "  <style>\n",
              "    .colab-df-container {\n",
              "      display:flex;\n",
              "      flex-wrap:wrap;\n",
              "      gap: 12px;\n",
              "    }\n",
              "\n",
              "    .colab-df-convert {\n",
              "      background-color: #E8F0FE;\n",
              "      border: none;\n",
              "      border-radius: 50%;\n",
              "      cursor: pointer;\n",
              "      display: none;\n",
              "      fill: #1967D2;\n",
              "      height: 32px;\n",
              "      padding: 0 0 0 0;\n",
              "      width: 32px;\n",
              "    }\n",
              "\n",
              "    .colab-df-convert:hover {\n",
              "      background-color: #E2EBFA;\n",
              "      box-shadow: 0px 1px 2px rgba(60, 64, 67, 0.3), 0px 1px 3px 1px rgba(60, 64, 67, 0.15);\n",
              "      fill: #174EA6;\n",
              "    }\n",
              "\n",
              "    [theme=dark] .colab-df-convert {\n",
              "      background-color: #3B4455;\n",
              "      fill: #D2E3FC;\n",
              "    }\n",
              "\n",
              "    [theme=dark] .colab-df-convert:hover {\n",
              "      background-color: #434B5C;\n",
              "      box-shadow: 0px 1px 3px 1px rgba(0, 0, 0, 0.15);\n",
              "      filter: drop-shadow(0px 1px 2px rgba(0, 0, 0, 0.3));\n",
              "      fill: #FFFFFF;\n",
              "    }\n",
              "  </style>\n",
              "\n",
              "      <script>\n",
              "        const buttonEl =\n",
              "          document.querySelector('#df-9768df90-d2d1-4428-9c28-22dc794399fe button.colab-df-convert');\n",
              "        buttonEl.style.display =\n",
              "          google.colab.kernel.accessAllowed ? 'block' : 'none';\n",
              "\n",
              "        async function convertToInteractive(key) {\n",
              "          const element = document.querySelector('#df-9768df90-d2d1-4428-9c28-22dc794399fe');\n",
              "          const dataTable =\n",
              "            await google.colab.kernel.invokeFunction('convertToInteractive',\n",
              "                                                     [key], {});\n",
              "          if (!dataTable) return;\n",
              "\n",
              "          const docLinkHtml = 'Like what you see? Visit the ' +\n",
              "            '<a target=\"_blank\" href=https://colab.research.google.com/notebooks/data_table.ipynb>data table notebook</a>'\n",
              "            + ' to learn more about interactive tables.';\n",
              "          element.innerHTML = '';\n",
              "          dataTable['output_type'] = 'display_data';\n",
              "          await google.colab.output.renderOutput(dataTable, element);\n",
              "          const docLink = document.createElement('div');\n",
              "          docLink.innerHTML = docLinkHtml;\n",
              "          element.appendChild(docLink);\n",
              "        }\n",
              "      </script>\n",
              "    </div>\n",
              "  </div>\n",
              "  "
            ]
          },
          "metadata": {},
          "execution_count": 260
        }
      ]
    },
    {
      "cell_type": "code",
      "source": [
        "df[0].unique()"
      ],
      "metadata": {
        "colab": {
          "base_uri": "https://localhost:8080/"
        },
        "id": "hNdYrYOz3LtA",
        "outputId": "1de5ada9-8608-408a-9b26-c235820b76b8"
      },
      "execution_count": 261,
      "outputs": [
        {
          "output_type": "execute_result",
          "data": {
            "text/plain": [
              "array([1, 0])"
            ]
          },
          "metadata": {},
          "execution_count": 261
        }
      ]
    },
    {
      "cell_type": "code",
      "source": [
        "df[34].replace(['b', 'g'],[0,1],inplace=True)"
      ],
      "metadata": {
        "id": "V-Ro3HhogDSi"
      },
      "execution_count": 262,
      "outputs": []
    },
    {
      "cell_type": "code",
      "source": [
        "df.head()"
      ],
      "metadata": {
        "colab": {
          "base_uri": "https://localhost:8080/",
          "height": 235
        },
        "id": "lzBrpi9zgEji",
        "outputId": "fe5afbc5-2510-463a-e053-21f77f808c82"
      },
      "execution_count": 263,
      "outputs": [
        {
          "output_type": "execute_result",
          "data": {
            "text/plain": [
              "   0        2        3        4        5        6        7        8        9   \\\n",
              "0   1  1.00000 -0.18829  0.93035 -0.36156 -0.10868 -0.93597  1.00000 -0.04549   \n",
              "1   1  1.00000 -0.03365  1.00000  0.00485  1.00000 -0.12062  0.88965  0.01198   \n",
              "2   1  1.00000 -0.45161  1.00000  1.00000  0.71216 -1.00000  0.00000  0.00000   \n",
              "3   1  1.00000 -0.02401  0.94140  0.06531  0.92106 -0.23255  0.77152 -0.16399   \n",
              "4   1  0.02337 -0.00592 -0.09924 -0.11949 -0.00763 -0.11824  0.14706  0.06637   \n",
              "\n",
              "        10  ...       25       26       27       28       29       30  \\\n",
              "0  0.50874  ... -0.26569 -0.20468 -0.18401 -0.19040 -0.11593 -0.16626   \n",
              "1  0.73082  ... -0.40220  0.58984 -0.22145  0.43100 -0.17365  0.60436   \n",
              "2  0.00000  ...  0.90695  0.51613  1.00000  1.00000 -0.20099  0.25682   \n",
              "3  0.52798  ... -0.65158  0.13290 -0.53206  0.02431 -0.62197 -0.05707   \n",
              "4  0.03786  ... -0.01535 -0.03240  0.09223 -0.07859  0.00732  0.00000   \n",
              "\n",
              "        31       32       33  34  \n",
              "0 -0.06288 -0.13738 -0.02447   0  \n",
              "1 -0.24180  0.56045 -0.38238   1  \n",
              "2  1.00000 -0.32382  1.00000   0  \n",
              "3 -0.59573 -0.04608 -0.65697   1  \n",
              "4  0.00000 -0.00039  0.12011   0  \n",
              "\n",
              "[5 rows x 34 columns]"
            ],
            "text/html": [
              "\n",
              "  <div id=\"df-2b9d0caf-c401-4a78-b569-622e52facce9\">\n",
              "    <div class=\"colab-df-container\">\n",
              "      <div>\n",
              "<style scoped>\n",
              "    .dataframe tbody tr th:only-of-type {\n",
              "        vertical-align: middle;\n",
              "    }\n",
              "\n",
              "    .dataframe tbody tr th {\n",
              "        vertical-align: top;\n",
              "    }\n",
              "\n",
              "    .dataframe thead th {\n",
              "        text-align: right;\n",
              "    }\n",
              "</style>\n",
              "<table border=\"1\" class=\"dataframe\">\n",
              "  <thead>\n",
              "    <tr style=\"text-align: right;\">\n",
              "      <th></th>\n",
              "      <th>0</th>\n",
              "      <th>2</th>\n",
              "      <th>3</th>\n",
              "      <th>4</th>\n",
              "      <th>5</th>\n",
              "      <th>6</th>\n",
              "      <th>7</th>\n",
              "      <th>8</th>\n",
              "      <th>9</th>\n",
              "      <th>10</th>\n",
              "      <th>...</th>\n",
              "      <th>25</th>\n",
              "      <th>26</th>\n",
              "      <th>27</th>\n",
              "      <th>28</th>\n",
              "      <th>29</th>\n",
              "      <th>30</th>\n",
              "      <th>31</th>\n",
              "      <th>32</th>\n",
              "      <th>33</th>\n",
              "      <th>34</th>\n",
              "    </tr>\n",
              "  </thead>\n",
              "  <tbody>\n",
              "    <tr>\n",
              "      <th>0</th>\n",
              "      <td>1</td>\n",
              "      <td>1.00000</td>\n",
              "      <td>-0.18829</td>\n",
              "      <td>0.93035</td>\n",
              "      <td>-0.36156</td>\n",
              "      <td>-0.10868</td>\n",
              "      <td>-0.93597</td>\n",
              "      <td>1.00000</td>\n",
              "      <td>-0.04549</td>\n",
              "      <td>0.50874</td>\n",
              "      <td>...</td>\n",
              "      <td>-0.26569</td>\n",
              "      <td>-0.20468</td>\n",
              "      <td>-0.18401</td>\n",
              "      <td>-0.19040</td>\n",
              "      <td>-0.11593</td>\n",
              "      <td>-0.16626</td>\n",
              "      <td>-0.06288</td>\n",
              "      <td>-0.13738</td>\n",
              "      <td>-0.02447</td>\n",
              "      <td>0</td>\n",
              "    </tr>\n",
              "    <tr>\n",
              "      <th>1</th>\n",
              "      <td>1</td>\n",
              "      <td>1.00000</td>\n",
              "      <td>-0.03365</td>\n",
              "      <td>1.00000</td>\n",
              "      <td>0.00485</td>\n",
              "      <td>1.00000</td>\n",
              "      <td>-0.12062</td>\n",
              "      <td>0.88965</td>\n",
              "      <td>0.01198</td>\n",
              "      <td>0.73082</td>\n",
              "      <td>...</td>\n",
              "      <td>-0.40220</td>\n",
              "      <td>0.58984</td>\n",
              "      <td>-0.22145</td>\n",
              "      <td>0.43100</td>\n",
              "      <td>-0.17365</td>\n",
              "      <td>0.60436</td>\n",
              "      <td>-0.24180</td>\n",
              "      <td>0.56045</td>\n",
              "      <td>-0.38238</td>\n",
              "      <td>1</td>\n",
              "    </tr>\n",
              "    <tr>\n",
              "      <th>2</th>\n",
              "      <td>1</td>\n",
              "      <td>1.00000</td>\n",
              "      <td>-0.45161</td>\n",
              "      <td>1.00000</td>\n",
              "      <td>1.00000</td>\n",
              "      <td>0.71216</td>\n",
              "      <td>-1.00000</td>\n",
              "      <td>0.00000</td>\n",
              "      <td>0.00000</td>\n",
              "      <td>0.00000</td>\n",
              "      <td>...</td>\n",
              "      <td>0.90695</td>\n",
              "      <td>0.51613</td>\n",
              "      <td>1.00000</td>\n",
              "      <td>1.00000</td>\n",
              "      <td>-0.20099</td>\n",
              "      <td>0.25682</td>\n",
              "      <td>1.00000</td>\n",
              "      <td>-0.32382</td>\n",
              "      <td>1.00000</td>\n",
              "      <td>0</td>\n",
              "    </tr>\n",
              "    <tr>\n",
              "      <th>3</th>\n",
              "      <td>1</td>\n",
              "      <td>1.00000</td>\n",
              "      <td>-0.02401</td>\n",
              "      <td>0.94140</td>\n",
              "      <td>0.06531</td>\n",
              "      <td>0.92106</td>\n",
              "      <td>-0.23255</td>\n",
              "      <td>0.77152</td>\n",
              "      <td>-0.16399</td>\n",
              "      <td>0.52798</td>\n",
              "      <td>...</td>\n",
              "      <td>-0.65158</td>\n",
              "      <td>0.13290</td>\n",
              "      <td>-0.53206</td>\n",
              "      <td>0.02431</td>\n",
              "      <td>-0.62197</td>\n",
              "      <td>-0.05707</td>\n",
              "      <td>-0.59573</td>\n",
              "      <td>-0.04608</td>\n",
              "      <td>-0.65697</td>\n",
              "      <td>1</td>\n",
              "    </tr>\n",
              "    <tr>\n",
              "      <th>4</th>\n",
              "      <td>1</td>\n",
              "      <td>0.02337</td>\n",
              "      <td>-0.00592</td>\n",
              "      <td>-0.09924</td>\n",
              "      <td>-0.11949</td>\n",
              "      <td>-0.00763</td>\n",
              "      <td>-0.11824</td>\n",
              "      <td>0.14706</td>\n",
              "      <td>0.06637</td>\n",
              "      <td>0.03786</td>\n",
              "      <td>...</td>\n",
              "      <td>-0.01535</td>\n",
              "      <td>-0.03240</td>\n",
              "      <td>0.09223</td>\n",
              "      <td>-0.07859</td>\n",
              "      <td>0.00732</td>\n",
              "      <td>0.00000</td>\n",
              "      <td>0.00000</td>\n",
              "      <td>-0.00039</td>\n",
              "      <td>0.12011</td>\n",
              "      <td>0</td>\n",
              "    </tr>\n",
              "  </tbody>\n",
              "</table>\n",
              "<p>5 rows × 34 columns</p>\n",
              "</div>\n",
              "      <button class=\"colab-df-convert\" onclick=\"convertToInteractive('df-2b9d0caf-c401-4a78-b569-622e52facce9')\"\n",
              "              title=\"Convert this dataframe to an interactive table.\"\n",
              "              style=\"display:none;\">\n",
              "        \n",
              "  <svg xmlns=\"http://www.w3.org/2000/svg\" height=\"24px\"viewBox=\"0 0 24 24\"\n",
              "       width=\"24px\">\n",
              "    <path d=\"M0 0h24v24H0V0z\" fill=\"none\"/>\n",
              "    <path d=\"M18.56 5.44l.94 2.06.94-2.06 2.06-.94-2.06-.94-.94-2.06-.94 2.06-2.06.94zm-11 1L8.5 8.5l.94-2.06 2.06-.94-2.06-.94L8.5 2.5l-.94 2.06-2.06.94zm10 10l.94 2.06.94-2.06 2.06-.94-2.06-.94-.94-2.06-.94 2.06-2.06.94z\"/><path d=\"M17.41 7.96l-1.37-1.37c-.4-.4-.92-.59-1.43-.59-.52 0-1.04.2-1.43.59L10.3 9.45l-7.72 7.72c-.78.78-.78 2.05 0 2.83L4 21.41c.39.39.9.59 1.41.59.51 0 1.02-.2 1.41-.59l7.78-7.78 2.81-2.81c.8-.78.8-2.07 0-2.86zM5.41 20L4 18.59l7.72-7.72 1.47 1.35L5.41 20z\"/>\n",
              "  </svg>\n",
              "      </button>\n",
              "      \n",
              "  <style>\n",
              "    .colab-df-container {\n",
              "      display:flex;\n",
              "      flex-wrap:wrap;\n",
              "      gap: 12px;\n",
              "    }\n",
              "\n",
              "    .colab-df-convert {\n",
              "      background-color: #E8F0FE;\n",
              "      border: none;\n",
              "      border-radius: 50%;\n",
              "      cursor: pointer;\n",
              "      display: none;\n",
              "      fill: #1967D2;\n",
              "      height: 32px;\n",
              "      padding: 0 0 0 0;\n",
              "      width: 32px;\n",
              "    }\n",
              "\n",
              "    .colab-df-convert:hover {\n",
              "      background-color: #E2EBFA;\n",
              "      box-shadow: 0px 1px 2px rgba(60, 64, 67, 0.3), 0px 1px 3px 1px rgba(60, 64, 67, 0.15);\n",
              "      fill: #174EA6;\n",
              "    }\n",
              "\n",
              "    [theme=dark] .colab-df-convert {\n",
              "      background-color: #3B4455;\n",
              "      fill: #D2E3FC;\n",
              "    }\n",
              "\n",
              "    [theme=dark] .colab-df-convert:hover {\n",
              "      background-color: #434B5C;\n",
              "      box-shadow: 0px 1px 3px 1px rgba(0, 0, 0, 0.15);\n",
              "      filter: drop-shadow(0px 1px 2px rgba(0, 0, 0, 0.3));\n",
              "      fill: #FFFFFF;\n",
              "    }\n",
              "  </style>\n",
              "\n",
              "      <script>\n",
              "        const buttonEl =\n",
              "          document.querySelector('#df-2b9d0caf-c401-4a78-b569-622e52facce9 button.colab-df-convert');\n",
              "        buttonEl.style.display =\n",
              "          google.colab.kernel.accessAllowed ? 'block' : 'none';\n",
              "\n",
              "        async function convertToInteractive(key) {\n",
              "          const element = document.querySelector('#df-2b9d0caf-c401-4a78-b569-622e52facce9');\n",
              "          const dataTable =\n",
              "            await google.colab.kernel.invokeFunction('convertToInteractive',\n",
              "                                                     [key], {});\n",
              "          if (!dataTable) return;\n",
              "\n",
              "          const docLinkHtml = 'Like what you see? Visit the ' +\n",
              "            '<a target=\"_blank\" href=https://colab.research.google.com/notebooks/data_table.ipynb>data table notebook</a>'\n",
              "            + ' to learn more about interactive tables.';\n",
              "          element.innerHTML = '';\n",
              "          dataTable['output_type'] = 'display_data';\n",
              "          await google.colab.output.renderOutput(dataTable, element);\n",
              "          const docLink = document.createElement('div');\n",
              "          docLink.innerHTML = docLinkHtml;\n",
              "          element.appendChild(docLink);\n",
              "        }\n",
              "      </script>\n",
              "    </div>\n",
              "  </div>\n",
              "  "
            ]
          },
          "metadata": {},
          "execution_count": 263
        }
      ]
    },
    {
      "cell_type": "code",
      "source": [
        "X = df.iloc[:,:-1].values\n",
        "y = df.iloc[:,-1].values\n",
        "from sklearn.model_selection import train_test_split\n",
        "X_train,X_test,y_train,y_test = train_test_split(X,y,test_size=0.2,random_state=0)\n",
        "X_train.shape"
      ],
      "metadata": {
        "colab": {
          "base_uri": "https://localhost:8080/"
        },
        "id": "eAXB48gbgJ69",
        "outputId": "d3c604b1-207a-43c9-bf31-d8e07800309d"
      },
      "execution_count": 264,
      "outputs": [
        {
          "output_type": "execute_result",
          "data": {
            "text/plain": [
              "(280, 33)"
            ]
          },
          "metadata": {},
          "execution_count": 264
        }
      ]
    },
    {
      "cell_type": "code",
      "source": [
        "# Create the input layer\n",
        "input_layer = Input(shape=(33, ))\n",
        "\n",
        "# Create the other hidden layers and the output layer\n",
        "hidden_1 = Dense(128, activation='relu')(input_layer)\n",
        "hidden_2 = Dense(64, activation='relu')(hidden_1)\n",
        "hidden_3 = Dense(32, activation='relu')(hidden_2)\n",
        "output = Dense(1, activation='sigmoid')(hidden_3)"
      ],
      "metadata": {
        "id": "bNvELHHmHXZo"
      },
      "execution_count": 265,
      "outputs": []
    },
    {
      "cell_type": "code",
      "source": [
        "model = Model(inputs=input_layer, outputs=output)"
      ],
      "metadata": {
        "id": "gpRtWfRvIYOZ"
      },
      "execution_count": 266,
      "outputs": []
    },
    {
      "cell_type": "code",
      "source": [
        "from keras.utils.vis_utils import plot_model\n",
        "\n",
        "plot_model(model)"
      ],
      "metadata": {
        "colab": {
          "base_uri": "https://localhost:8080/",
          "height": 466
        },
        "id": "tRq4VxCQId1d",
        "outputId": "e9789f40-800f-4c8f-e10a-170eda8df0f7"
      },
      "execution_count": 267,
      "outputs": [
        {
          "output_type": "execute_result",
          "data": {
            "image/png": "[encoded data removed]",
            "text/plain": [
              "<IPython.core.display.Image object>"
            ]
          },
          "metadata": {},
          "execution_count": 267
        }
      ]
    },
    {
      "cell_type": "code",
      "source": [
        "model.compile(optimizer='adam',loss = keras.losses.binary_crossentropy,metrics='accuracy')"
      ],
      "metadata": {
        "id": "dpnx1k8CImD9"
      },
      "execution_count": 268,
      "outputs": []
    },
    {
      "cell_type": "code",
      "source": [
        "model.fit(X_train,y_train,epochs=100)"
      ],
      "metadata": {
        "colab": {
          "base_uri": "https://localhost:8080/"
        },
        "id": "8qx7nTGdI6G7",
        "outputId": "30ee2817-4ace-471e-dee2-7e44c88e6ac4"
      },
      "execution_count": 269,
      "outputs": [
        {
          "output_type": "stream",
          "name": "stdout",
          "text": [
            "Epoch 1/100\n",
            "9/9 [==============================] - 0s 4ms/step - loss: 0.5975 - accuracy: 0.6643\n",
            "Epoch 2/100\n",
            "9/9 [==============================] - 0s 4ms/step - loss: 0.4755 - accuracy: 0.8000\n",
            "Epoch 3/100\n",
            "9/9 [==============================] - 0s 3ms/step - loss: 0.3701 - accuracy: 0.8893\n",
            "Epoch 4/100\n",
            "9/9 [==============================] - 0s 3ms/step - loss: 0.2803 - accuracy: 0.9321\n",
            "Epoch 5/100\n",
            "9/9 [==============================] - 0s 3ms/step - loss: 0.2111 - accuracy: 0.9357\n",
            "Epoch 6/100\n",
            "9/9 [==============================] - 0s 4ms/step - loss: 0.1710 - accuracy: 0.9429\n",
            "Epoch 7/100\n",
            "9/9 [==============================] - 0s 3ms/step - loss: 0.1456 - accuracy: 0.9714\n",
            "Epoch 8/100\n",
            "9/9 [==============================] - 0s 4ms/step - loss: 0.1152 - accuracy: 0.9643\n",
            "Epoch 9/100\n",
            "9/9 [==============================] - 0s 4ms/step - loss: 0.0981 - accuracy: 0.9750\n",
            "Epoch 10/100\n",
            "9/9 [==============================] - 0s 3ms/step - loss: 0.0883 - accuracy: 0.9821\n",
            "Epoch 11/100\n",
            "9/9 [==============================] - 0s 3ms/step - loss: 0.0760 - accuracy: 0.9786\n",
            "Epoch 12/100\n",
            "9/9 [==============================] - 0s 3ms/step - loss: 0.0724 - accuracy: 0.9821\n",
            "Epoch 13/100\n",
            "9/9 [==============================] - 0s 3ms/step - loss: 0.0666 - accuracy: 0.9857\n",
            "Epoch 14/100\n",
            "9/9 [==============================] - 0s 3ms/step - loss: 0.0569 - accuracy: 0.9821\n",
            "Epoch 15/100\n",
            "9/9 [==============================] - 0s 3ms/step - loss: 0.0568 - accuracy: 0.9857\n",
            "Epoch 16/100\n",
            "9/9 [==============================] - 0s 3ms/step - loss: 0.0472 - accuracy: 0.9857\n",
            "Epoch 17/100\n",
            "9/9 [==============================] - 0s 3ms/step - loss: 0.0441 - accuracy: 0.9857\n",
            "Epoch 18/100\n",
            "9/9 [==============================] - 0s 3ms/step - loss: 0.0435 - accuracy: 0.9857\n",
            "Epoch 19/100\n",
            "9/9 [==============================] - 0s 3ms/step - loss: 0.0393 - accuracy: 0.9857\n",
            "Epoch 20/100\n",
            "9/9 [==============================] - 0s 3ms/step - loss: 0.0349 - accuracy: 0.9893\n",
            "Epoch 21/100\n",
            "9/9 [==============================] - 0s 3ms/step - loss: 0.0311 - accuracy: 0.9893\n",
            "Epoch 22/100\n",
            "9/9 [==============================] - 0s 3ms/step - loss: 0.0307 - accuracy: 0.9857\n",
            "Epoch 23/100\n",
            "9/9 [==============================] - 0s 3ms/step - loss: 0.0312 - accuracy: 0.9929\n",
            "Epoch 24/100\n",
            "9/9 [==============================] - 0s 3ms/step - loss: 0.0268 - accuracy: 0.9929\n",
            "Epoch 25/100\n",
            "9/9 [==============================] - 0s 3ms/step - loss: 0.0232 - accuracy: 0.9964\n",
            "Epoch 26/100\n",
            "9/9 [==============================] - 0s 3ms/step - loss: 0.0234 - accuracy: 0.9964\n",
            "Epoch 27/100\n",
            "9/9 [==============================] - 0s 4ms/step - loss: 0.0257 - accuracy: 0.9929\n",
            "Epoch 28/100\n",
            "9/9 [==============================] - 0s 3ms/step - loss: 0.0220 - accuracy: 0.9929\n",
            "Epoch 29/100\n",
            "9/9 [==============================] - 0s 3ms/step - loss: 0.0247 - accuracy: 0.9964\n",
            "Epoch 30/100\n",
            "9/9 [==============================] - 0s 3ms/step - loss: 0.0226 - accuracy: 0.9964\n",
            "Epoch 31/100\n",
            "9/9 [==============================] - 0s 4ms/step - loss: 0.0188 - accuracy: 0.9964\n",
            "Epoch 32/100\n",
            "9/9 [==============================] - 0s 4ms/step - loss: 0.0143 - accuracy: 0.9964\n",
            "Epoch 33/100\n",
            "9/9 [==============================] - 0s 4ms/step - loss: 0.0163 - accuracy: 0.9964\n",
            "Epoch 34/100\n",
            "9/9 [==============================] - 0s 4ms/step - loss: 0.0179 - accuracy: 0.9964\n",
            "Epoch 35/100\n",
            "9/9 [==============================] - 0s 3ms/step - loss: 0.0116 - accuracy: 0.9964\n",
            "Epoch 36/100\n",
            "9/9 [==============================] - 0s 3ms/step - loss: 0.0127 - accuracy: 0.9964\n",
            "Epoch 37/100\n",
            "9/9 [==============================] - 0s 3ms/step - loss: 0.0117 - accuracy: 0.9964\n",
            "Epoch 38/100\n",
            "9/9 [==============================] - 0s 5ms/step - loss: 0.0106 - accuracy: 0.9964\n",
            "Epoch 39/100\n",
            "9/9 [==============================] - 0s 4ms/step - loss: 0.0105 - accuracy: 0.9964\n",
            "Epoch 40/100\n",
            "9/9 [==============================] - 0s 4ms/step - loss: 0.0089 - accuracy: 0.9964\n",
            "Epoch 41/100\n",
            "9/9 [==============================] - 0s 3ms/step - loss: 0.0077 - accuracy: 0.9964\n",
            "Epoch 42/100\n",
            "9/9 [==============================] - 0s 3ms/step - loss: 0.0074 - accuracy: 1.0000\n",
            "Epoch 43/100\n",
            "9/9 [==============================] - 0s 4ms/step - loss: 0.0095 - accuracy: 0.9964\n",
            "Epoch 44/100\n",
            "9/9 [==============================] - 0s 4ms/step - loss: 0.0061 - accuracy: 1.0000\n",
            "Epoch 45/100\n",
            "9/9 [==============================] - 0s 4ms/step - loss: 0.0055 - accuracy: 1.0000\n",
            "Epoch 46/100\n",
            "9/9 [==============================] - 0s 4ms/step - loss: 0.0055 - accuracy: 1.0000\n",
            "Epoch 47/100\n",
            "9/9 [==============================] - 0s 3ms/step - loss: 0.0050 - accuracy: 1.0000\n",
            "Epoch 48/100\n",
            "9/9 [==============================] - 0s 3ms/step - loss: 0.0064 - accuracy: 0.9964\n",
            "Epoch 49/100\n",
            "9/9 [==============================] - 0s 3ms/step - loss: 0.0053 - accuracy: 1.0000\n",
            "Epoch 50/100\n",
            "9/9 [==============================] - 0s 3ms/step - loss: 0.0040 - accuracy: 1.0000\n",
            "Epoch 51/100\n",
            "9/9 [==============================] - 0s 4ms/step - loss: 0.0036 - accuracy: 1.0000\n",
            "Epoch 52/100\n",
            "9/9 [==============================] - 0s 3ms/step - loss: 0.0056 - accuracy: 0.9964\n",
            "Epoch 53/100\n",
            "9/9 [==============================] - 0s 3ms/step - loss: 0.0039 - accuracy: 1.0000\n",
            "Epoch 54/100\n",
            "9/9 [==============================] - 0s 3ms/step - loss: 0.0047 - accuracy: 0.9964\n",
            "Epoch 55/100\n",
            "9/9 [==============================] - 0s 3ms/step - loss: 0.0048 - accuracy: 1.0000\n",
            "Epoch 56/100\n",
            "9/9 [==============================] - 0s 3ms/step - loss: 0.0070 - accuracy: 0.9964\n",
            "Epoch 57/100\n",
            "9/9 [==============================] - 0s 3ms/step - loss: 0.0051 - accuracy: 1.0000\n",
            "Epoch 58/100\n",
            "9/9 [==============================] - 0s 3ms/step - loss: 0.0045 - accuracy: 0.9964\n",
            "Epoch 59/100\n",
            "9/9 [==============================] - 0s 4ms/step - loss: 0.0033 - accuracy: 1.0000\n",
            "Epoch 60/100\n",
            "9/9 [==============================] - 0s 4ms/step - loss: 0.0027 - accuracy: 1.0000\n",
            "Epoch 61/100\n",
            "9/9 [==============================] - 0s 3ms/step - loss: 0.0018 - accuracy: 1.0000\n",
            "Epoch 62/100\n",
            "9/9 [==============================] - 0s 3ms/step - loss: 0.0019 - accuracy: 1.0000\n",
            "Epoch 63/100\n",
            "9/9 [==============================] - 0s 3ms/step - loss: 0.0019 - accuracy: 1.0000\n",
            "Epoch 64/100\n",
            "9/9 [==============================] - 0s 3ms/step - loss: 0.0017 - accuracy: 1.0000\n",
            "Epoch 65/100\n",
            "9/9 [==============================] - 0s 4ms/step - loss: 0.0016 - accuracy: 1.0000\n",
            "Epoch 66/100\n",
            "9/9 [==============================] - 0s 4ms/step - loss: 0.0015 - accuracy: 1.0000\n",
            "Epoch 67/100\n",
            "9/9 [==============================] - 0s 3ms/step - loss: 0.0015 - accuracy: 1.0000\n",
            "Epoch 68/100\n",
            "9/9 [==============================] - 0s 4ms/step - loss: 0.0014 - accuracy: 1.0000\n",
            "Epoch 69/100\n",
            "9/9 [==============================] - 0s 4ms/step - loss: 0.0013 - accuracy: 1.0000\n",
            "Epoch 70/100\n",
            "9/9 [==============================] - 0s 3ms/step - loss: 0.0012 - accuracy: 1.0000\n",
            "Epoch 71/100\n",
            "9/9 [==============================] - 0s 3ms/step - loss: 0.0016 - accuracy: 1.0000\n",
            "Epoch 72/100\n",
            "9/9 [==============================] - 0s 3ms/step - loss: 0.0022 - accuracy: 1.0000\n",
            "Epoch 73/100\n",
            "9/9 [==============================] - 0s 3ms/step - loss: 0.0016 - accuracy: 1.0000\n",
            "Epoch 74/100\n",
            "9/9 [==============================] - 0s 3ms/step - loss: 0.0014 - accuracy: 1.0000\n",
            "Epoch 75/100\n",
            "9/9 [==============================] - 0s 3ms/step - loss: 0.0010 - accuracy: 1.0000\n",
            "Epoch 76/100\n",
            "9/9 [==============================] - 0s 3ms/step - loss: 0.0011 - accuracy: 1.0000\n",
            "Epoch 77/100\n",
            "9/9 [==============================] - 0s 3ms/step - loss: 9.4141e-04 - accuracy: 1.0000\n",
            "Epoch 78/100\n",
            "9/9 [==============================] - 0s 3ms/step - loss: 0.0010 - accuracy: 1.0000\n",
            "Epoch 79/100\n",
            "9/9 [==============================] - 0s 3ms/step - loss: 0.0010 - accuracy: 1.0000\n",
            "Epoch 80/100\n",
            "9/9 [==============================] - 0s 3ms/step - loss: 8.0367e-04 - accuracy: 1.0000\n",
            "Epoch 81/100\n",
            "9/9 [==============================] - 0s 3ms/step - loss: 8.9742e-04 - accuracy: 1.0000\n",
            "Epoch 82/100\n",
            "9/9 [==============================] - 0s 4ms/step - loss: 7.4421e-04 - accuracy: 1.0000\n",
            "Epoch 83/100\n",
            "9/9 [==============================] - 0s 3ms/step - loss: 7.2535e-04 - accuracy: 1.0000\n",
            "Epoch 84/100\n",
            "9/9 [==============================] - 0s 4ms/step - loss: 6.6454e-04 - accuracy: 1.0000\n",
            "Epoch 85/100\n",
            "9/9 [==============================] - 0s 3ms/step - loss: 7.3604e-04 - accuracy: 1.0000\n",
            "Epoch 86/100\n",
            "9/9 [==============================] - 0s 4ms/step - loss: 7.0962e-04 - accuracy: 1.0000\n",
            "Epoch 87/100\n",
            "9/9 [==============================] - 0s 3ms/step - loss: 6.2734e-04 - accuracy: 1.0000\n",
            "Epoch 88/100\n",
            "9/9 [==============================] - 0s 4ms/step - loss: 6.1513e-04 - accuracy: 1.0000\n",
            "Epoch 89/100\n",
            "9/9 [==============================] - 0s 3ms/step - loss: 6.3314e-04 - accuracy: 1.0000\n",
            "Epoch 90/100\n",
            "9/9 [==============================] - 0s 3ms/step - loss: 6.3492e-04 - accuracy: 1.0000\n",
            "Epoch 91/100\n",
            "9/9 [==============================] - 0s 4ms/step - loss: 6.7695e-04 - accuracy: 1.0000\n",
            "Epoch 92/100\n",
            "9/9 [==============================] - 0s 4ms/step - loss: 6.1303e-04 - accuracy: 1.0000\n",
            "Epoch 93/100\n",
            "9/9 [==============================] - 0s 3ms/step - loss: 5.7138e-04 - accuracy: 1.0000\n",
            "Epoch 94/100\n",
            "9/9 [==============================] - 0s 4ms/step - loss: 5.3688e-04 - accuracy: 1.0000\n",
            "Epoch 95/100\n",
            "9/9 [==============================] - 0s 3ms/step - loss: 5.2138e-04 - accuracy: 1.0000\n",
            "Epoch 96/100\n",
            "9/9 [==============================] - 0s 5ms/step - loss: 4.9684e-04 - accuracy: 1.0000\n",
            "Epoch 97/100\n",
            "9/9 [==============================] - 0s 3ms/step - loss: 4.6653e-04 - accuracy: 1.0000\n",
            "Epoch 98/100\n",
            "9/9 [==============================] - 0s 4ms/step - loss: 4.9176e-04 - accuracy: 1.0000\n",
            "Epoch 99/100\n",
            "9/9 [==============================] - 0s 4ms/step - loss: 4.6633e-04 - accuracy: 1.0000\n",
            "Epoch 100/100\n",
            "9/9 [==============================] - 0s 3ms/step - loss: 4.3477e-04 - accuracy: 1.0000\n"
          ]
        },
        {
          "output_type": "execute_result",
          "data": {
            "text/plain": [
              "<keras.callbacks.History at 0x7f5ab31cb150>"
            ]
          },
          "metadata": {},
          "execution_count": 269
        }
      ]
    },
    {
      "cell_type": "code",
      "source": [
        "model.evaluate(X_test,y_test,verbose=1)"
      ],
      "metadata": {
        "colab": {
          "base_uri": "https://localhost:8080/"
        },
        "id": "t09JQ95L6rJB",
        "outputId": "b8d2b687-f01d-4827-9e32-b1b73ecf08d3"
      },
      "execution_count": 270,
      "outputs": [
        {
          "output_type": "stream",
          "name": "stdout",
          "text": [
            "3/3 [==============================] - 0s 5ms/step - loss: 0.1438 - accuracy: 0.9429\n"
          ]
        },
        {
          "output_type": "execute_result",
          "data": {
            "text/plain": [
              "[0.14379628002643585, 0.9428571462631226]"
            ]
          },
          "metadata": {},
          "execution_count": 270
        }
      ]
    },
    {
      "cell_type": "code",
      "source": [
        "loss,accuracy = model.evaluate(X_test,y_test,verbose=1)\n",
        "print('Model Loss: %.4f, Accuracy:%.2f' %((loss),(accuracy*100)))"
      ],
      "metadata": {
        "colab": {
          "base_uri": "https://localhost:8080/"
        },
        "id": "eDhwsI4z3w6T",
        "outputId": "c400e813-7eed-455c-c901-445a46c0cc70"
      },
      "execution_count": 271,
      "outputs": [
        {
          "output_type": "stream",
          "name": "stdout",
          "text": [
            "3/3 [==============================] - 0s 4ms/step - loss: 0.1438 - accuracy: 0.9429\n",
            "Model Loss: 0.1438, Accuracy:94.29\n"
          ]
        }
      ]
    },
    {
      "cell_type": "code",
      "source": [],
      "metadata": {
        "id": "N6iFZsA2MHzD"
      },
      "execution_count": 271,
      "outputs": []
    }
  ]
}