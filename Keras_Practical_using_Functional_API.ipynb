{
  "nbformat": 4,
  "nbformat_minor": 0,
  "metadata": {
    "colab": {
      "name": "Keras Practical using Functional API.ipynb",
      "provenance": [],
      "collapsed_sections": [],
      "include_colab_link": true
    },
    "kernelspec": {
      "name": "python3",
      "display_name": "Python 3"
    },
    "language_info": {
      "name": "python"
    },
    "accelerator": "GPU",
    "gpuClass": "standard"
  },
  "cells": [
    {
      "cell_type": "markdown",
      "metadata": {
        "id": "view-in-github",
        "colab_type": "text"
      },
      "source": [
        "<a href=\"https://colab.research.google.com/github/ameympatil/MIT-ML/blob/main/Keras_Practical_using_Functional_API.ipynb\" target=\"_parent\"><img src=\"https://colab.research.google.com/assets/colab-badge.svg\" alt=\"Open In Colab\"/></a>"
      ]
    },
    {
      "cell_type": "code",
      "execution_count": 20,
      "metadata": {
        "id": "Ayi5Mx2-6vAC"
      },
      "outputs": [],
      "source": [
        "import numpy as np\n",
        "import pandas as pd\n",
        "from matplotlib import pyplot as plt\n",
        "from keras.models import Model\n",
        "from keras.layers import Input, Dense, Dropout"
      ]
    },
    {
      "cell_type": "code",
      "source": [
        "# Define random seed\n",
        "np.random.seed(42)\n",
        "\n",
        "# Create random points for the x and y axis from 0 to 20\n",
        "xs = np.linspace(0,20,50)\n",
        "ys = np.linspace(20,0,50)\n",
        "\n",
        "# Add some positive and negative noise on the y axis\n",
        "ys += np.random.uniform(-2,2,50)\n",
        "\n",
        "# Plot the graph\n",
        "plt.plot(xs,ys,'.')"
      ],
      "metadata": {
        "colab": {
          "base_uri": "https://localhost:8080/",
          "height": 282
        },
        "id": "kDlOvuPQ9Q_4",
        "outputId": "0d70da9e-6b96-4333-e609-0949d65ffbf0"
      },
      "execution_count": 21,
      "outputs": [
        {
          "output_type": "execute_result",
          "data": {
            "text/plain": [
              "[<matplotlib.lines.Line2D at 0x7f944b22c490>]"
            ]
          },
          "metadata": {},
          "execution_count": 21
        },
        {
          "output_type": "display_data",
          "data": {
            "text/plain": [
              "<Figure size 432x288 with 1 Axes>"
            ],
            "image/png": "[encoded data removed]"
          },
          "metadata": {
            "needs_background": "light"
          }
        }
      ]
    },
    {
      "cell_type": "code",
      "source": [
        "# Create the input layer\n",
        "input_layer = Input(shape=(1, ))\n",
        "\n",
        "# Create the other hidden layers and the output layer\n",
        "hidden_1 = Dense(64, activation='relu')(input_layer)\n",
        "hidden_2 = Dense(32, activation='relu')(hidden_1)\n",
        "output = Dense(1, activation='linear')(hidden_2)"
      ],
      "metadata": {
        "id": "bNvELHHmHXZo"
      },
      "execution_count": 22,
      "outputs": []
    },
    {
      "cell_type": "code",
      "source": [
        "model = Model(inputs=input_layer, outputs=output)"
      ],
      "metadata": {
        "id": "gpRtWfRvIYOZ"
      },
      "execution_count": 23,
      "outputs": []
    },
    {
      "cell_type": "code",
      "source": [
        "from keras.utils.vis_utils import plot_model\n",
        "\n",
        "plot_model(model)"
      ],
      "metadata": {
        "colab": {
          "base_uri": "https://localhost:8080/",
          "height": 369
        },
        "id": "tRq4VxCQId1d",
        "outputId": "5bd9dec9-c815-4192-cbbd-249a4e5517df"
      },
      "execution_count": 24,
      "outputs": [
        {
          "output_type": "execute_result",
          "data": {
            "image/png": "[encoded data removed]",
            "text/plain": [
              "<IPython.core.display.Image object>"
            ]
          },
          "metadata": {},
          "execution_count": 24
        }
      ]
    },
    {
      "cell_type": "code",
      "source": [
        "model.compile(optimizer='adam',loss = 'mae')"
      ],
      "metadata": {
        "id": "dpnx1k8CImD9"
      },
      "execution_count": 25,
      "outputs": []
    },
    {
      "cell_type": "code",
      "source": [
        "model.fit(xs,ys,epochs=200\n",
        "          ,batch_size=128)"
      ],
      "metadata": {
        "colab": {
          "base_uri": "https://localhost:8080/"
        },
        "id": "8qx7nTGdI6G7",
        "outputId": "2b266da2-18a5-4a10-96a0-bf7021f1b88e"
      },
      "execution_count": 26,
      "outputs": [
        {
          "output_type": "stream",
          "name": "stdout",
          "text": [
            "Epoch 1/200\n",
            "1/1 [==============================] - 0s 328ms/step - loss: 10.5374\n",
            "Epoch 2/200\n",
            "1/1 [==============================] - 0s 7ms/step - loss: 10.3119\n",
            "Epoch 3/200\n",
            "1/1 [==============================] - 0s 6ms/step - loss: 10.0976\n",
            "Epoch 4/200\n",
            "1/1 [==============================] - 0s 14ms/step - loss: 9.8842\n",
            "Epoch 5/200\n",
            "1/1 [==============================] - 0s 6ms/step - loss: 9.6747\n",
            "Epoch 6/200\n",
            "1/1 [==============================] - 0s 6ms/step - loss: 9.4941\n",
            "Epoch 7/200\n",
            "1/1 [==============================] - 0s 9ms/step - loss: 9.3415\n",
            "Epoch 8/200\n",
            "1/1 [==============================] - 0s 7ms/step - loss: 9.2250\n",
            "Epoch 9/200\n",
            "1/1 [==============================] - 0s 10ms/step - loss: 9.1136\n",
            "Epoch 10/200\n",
            "1/1 [==============================] - 0s 8ms/step - loss: 9.0078\n",
            "Epoch 11/200\n",
            "1/1 [==============================] - 0s 9ms/step - loss: 8.9120\n",
            "Epoch 12/200\n",
            "1/1 [==============================] - 0s 10ms/step - loss: 8.8346\n",
            "Epoch 13/200\n",
            "1/1 [==============================] - 0s 9ms/step - loss: 8.7642\n",
            "Epoch 14/200\n",
            "1/1 [==============================] - 0s 12ms/step - loss: 8.6966\n",
            "Epoch 15/200\n",
            "1/1 [==============================] - 0s 7ms/step - loss: 8.6359\n",
            "Epoch 16/200\n",
            "1/1 [==============================] - 0s 9ms/step - loss: 8.5835\n",
            "Epoch 17/200\n",
            "1/1 [==============================] - 0s 15ms/step - loss: 8.5431\n",
            "Epoch 18/200\n",
            "1/1 [==============================] - 0s 10ms/step - loss: 8.5142\n",
            "Epoch 19/200\n",
            "1/1 [==============================] - 0s 6ms/step - loss: 8.4939\n",
            "Epoch 20/200\n",
            "1/1 [==============================] - 0s 6ms/step - loss: 8.4757\n",
            "Epoch 21/200\n",
            "1/1 [==============================] - 0s 7ms/step - loss: 8.4579\n",
            "Epoch 22/200\n",
            "1/1 [==============================] - 0s 11ms/step - loss: 8.4409\n",
            "Epoch 23/200\n",
            "1/1 [==============================] - 0s 8ms/step - loss: 8.4252\n",
            "Epoch 24/200\n",
            "1/1 [==============================] - 0s 8ms/step - loss: 8.4142\n",
            "Epoch 25/200\n",
            "1/1 [==============================] - 0s 9ms/step - loss: 8.4061\n",
            "Epoch 26/200\n",
            "1/1 [==============================] - 0s 11ms/step - loss: 8.3972\n",
            "Epoch 27/200\n",
            "1/1 [==============================] - 0s 9ms/step - loss: 8.3887\n",
            "Epoch 28/200\n",
            "1/1 [==============================] - 0s 10ms/step - loss: 8.3830\n",
            "Epoch 29/200\n",
            "1/1 [==============================] - 0s 7ms/step - loss: 8.3795\n",
            "Epoch 30/200\n",
            "1/1 [==============================] - 0s 8ms/step - loss: 8.3764\n",
            "Epoch 31/200\n",
            "1/1 [==============================] - 0s 7ms/step - loss: 8.3738\n",
            "Epoch 32/200\n",
            "1/1 [==============================] - 0s 7ms/step - loss: 8.3711\n",
            "Epoch 33/200\n",
            "1/1 [==============================] - 0s 8ms/step - loss: 8.3684\n",
            "Epoch 34/200\n",
            "1/1 [==============================] - 0s 7ms/step - loss: 8.3656\n",
            "Epoch 35/200\n",
            "1/1 [==============================] - 0s 7ms/step - loss: 8.3622\n",
            "Epoch 36/200\n",
            "1/1 [==============================] - 0s 7ms/step - loss: 8.3585\n",
            "Epoch 37/200\n",
            "1/1 [==============================] - 0s 6ms/step - loss: 8.3549\n",
            "Epoch 38/200\n",
            "1/1 [==============================] - 0s 8ms/step - loss: 8.3513\n",
            "Epoch 39/200\n",
            "1/1 [==============================] - 0s 8ms/step - loss: 8.3478\n",
            "Epoch 40/200\n",
            "1/1 [==============================] - 0s 9ms/step - loss: 8.3454\n",
            "Epoch 41/200\n",
            "1/1 [==============================] - 0s 9ms/step - loss: 8.3437\n",
            "Epoch 42/200\n",
            "1/1 [==============================] - 0s 9ms/step - loss: 8.3417\n",
            "Epoch 43/200\n",
            "1/1 [==============================] - 0s 9ms/step - loss: 8.3394\n",
            "Epoch 44/200\n",
            "1/1 [==============================] - 0s 11ms/step - loss: 8.3364\n",
            "Epoch 45/200\n",
            "1/1 [==============================] - 0s 7ms/step - loss: 8.3314\n",
            "Epoch 46/200\n",
            "1/1 [==============================] - 0s 7ms/step - loss: 8.3248\n",
            "Epoch 47/200\n",
            "1/1 [==============================] - 0s 7ms/step - loss: 8.3232\n",
            "Epoch 48/200\n",
            "1/1 [==============================] - 0s 11ms/step - loss: 8.3214\n",
            "Epoch 49/200\n",
            "1/1 [==============================] - 0s 7ms/step - loss: 8.3194\n",
            "Epoch 50/200\n",
            "1/1 [==============================] - 0s 10ms/step - loss: 8.3173\n",
            "Epoch 51/200\n",
            "1/1 [==============================] - 0s 13ms/step - loss: 8.3151\n",
            "Epoch 52/200\n",
            "1/1 [==============================] - 0s 9ms/step - loss: 8.3125\n",
            "Epoch 53/200\n",
            "1/1 [==============================] - 0s 8ms/step - loss: 8.3095\n",
            "Epoch 54/200\n",
            "1/1 [==============================] - 0s 12ms/step - loss: 8.3042\n",
            "Epoch 55/200\n",
            "1/1 [==============================] - 0s 8ms/step - loss: 8.2997\n",
            "Epoch 56/200\n",
            "1/1 [==============================] - 0s 6ms/step - loss: 8.2943\n",
            "Epoch 57/200\n",
            "1/1 [==============================] - 0s 8ms/step - loss: 8.2916\n",
            "Epoch 58/200\n",
            "1/1 [==============================] - 0s 11ms/step - loss: 8.2889\n",
            "Epoch 59/200\n",
            "1/1 [==============================] - 0s 7ms/step - loss: 8.2860\n",
            "Epoch 60/200\n",
            "1/1 [==============================] - 0s 9ms/step - loss: 8.2830\n",
            "Epoch 61/200\n",
            "1/1 [==============================] - 0s 8ms/step - loss: 8.2798\n",
            "Epoch 62/200\n",
            "1/1 [==============================] - 0s 12ms/step - loss: 8.2765\n",
            "Epoch 63/200\n",
            "1/1 [==============================] - 0s 10ms/step - loss: 8.2731\n",
            "Epoch 64/200\n",
            "1/1 [==============================] - 0s 10ms/step - loss: 8.2695\n",
            "Epoch 65/200\n",
            "1/1 [==============================] - 0s 7ms/step - loss: 8.2659\n",
            "Epoch 66/200\n",
            "1/1 [==============================] - 0s 7ms/step - loss: 8.2622\n",
            "Epoch 67/200\n",
            "1/1 [==============================] - 0s 7ms/step - loss: 8.2584\n",
            "Epoch 68/200\n",
            "1/1 [==============================] - 0s 13ms/step - loss: 8.2545\n",
            "Epoch 69/200\n",
            "1/1 [==============================] - 0s 7ms/step - loss: 8.2505\n",
            "Epoch 70/200\n",
            "1/1 [==============================] - 0s 6ms/step - loss: 8.2465\n",
            "Epoch 71/200\n",
            "1/1 [==============================] - 0s 10ms/step - loss: 8.2423\n",
            "Epoch 72/200\n",
            "1/1 [==============================] - 0s 13ms/step - loss: 8.2388\n",
            "Epoch 73/200\n",
            "1/1 [==============================] - 0s 8ms/step - loss: 8.2342\n",
            "Epoch 74/200\n",
            "1/1 [==============================] - 0s 6ms/step - loss: 8.2301\n",
            "Epoch 75/200\n",
            "1/1 [==============================] - 0s 8ms/step - loss: 8.2259\n",
            "Epoch 76/200\n",
            "1/1 [==============================] - 0s 6ms/step - loss: 8.2217\n",
            "Epoch 77/200\n",
            "1/1 [==============================] - 0s 7ms/step - loss: 8.2174\n",
            "Epoch 78/200\n",
            "1/1 [==============================] - 0s 7ms/step - loss: 8.2130\n",
            "Epoch 79/200\n",
            "1/1 [==============================] - 0s 7ms/step - loss: 8.2085\n",
            "Epoch 80/200\n",
            "1/1 [==============================] - 0s 6ms/step - loss: 8.2040\n",
            "Epoch 81/200\n",
            "1/1 [==============================] - 0s 9ms/step - loss: 8.1994\n",
            "Epoch 82/200\n",
            "1/1 [==============================] - 0s 13ms/step - loss: 8.1957\n",
            "Epoch 83/200\n",
            "1/1 [==============================] - 0s 14ms/step - loss: 8.1905\n",
            "Epoch 84/200\n",
            "1/1 [==============================] - 0s 11ms/step - loss: 8.1858\n",
            "Epoch 85/200\n",
            "1/1 [==============================] - 0s 10ms/step - loss: 8.1821\n",
            "Epoch 86/200\n",
            "1/1 [==============================] - 0s 11ms/step - loss: 8.1770\n",
            "Epoch 87/200\n",
            "1/1 [==============================] - 0s 8ms/step - loss: 8.1726\n",
            "Epoch 88/200\n",
            "1/1 [==============================] - 0s 9ms/step - loss: 8.1680\n",
            "Epoch 89/200\n",
            "1/1 [==============================] - 0s 7ms/step - loss: 8.1633\n",
            "Epoch 90/200\n",
            "1/1 [==============================] - 0s 10ms/step - loss: 8.1587\n",
            "Epoch 91/200\n",
            "1/1 [==============================] - 0s 9ms/step - loss: 8.1538\n",
            "Epoch 92/200\n",
            "1/1 [==============================] - 0s 9ms/step - loss: 8.1490\n",
            "Epoch 93/200\n",
            "1/1 [==============================] - 0s 9ms/step - loss: 8.1440\n",
            "Epoch 94/200\n",
            "1/1 [==============================] - 0s 6ms/step - loss: 8.1390\n",
            "Epoch 95/200\n",
            "1/1 [==============================] - 0s 9ms/step - loss: 8.1338\n",
            "Epoch 96/200\n",
            "1/1 [==============================] - 0s 9ms/step - loss: 8.1287\n",
            "Epoch 97/200\n",
            "1/1 [==============================] - 0s 9ms/step - loss: 8.1238\n",
            "Epoch 98/200\n",
            "1/1 [==============================] - 0s 7ms/step - loss: 8.1184\n",
            "Epoch 99/200\n",
            "1/1 [==============================] - 0s 8ms/step - loss: 8.1132\n",
            "Epoch 100/200\n",
            "1/1 [==============================] - 0s 8ms/step - loss: 8.1081\n",
            "Epoch 101/200\n",
            "1/1 [==============================] - 0s 9ms/step - loss: 8.1028\n",
            "Epoch 102/200\n",
            "1/1 [==============================] - 0s 8ms/step - loss: 8.0973\n",
            "Epoch 103/200\n",
            "1/1 [==============================] - 0s 7ms/step - loss: 8.0918\n",
            "Epoch 104/200\n",
            "1/1 [==============================] - 0s 12ms/step - loss: 8.0863\n",
            "Epoch 105/200\n",
            "1/1 [==============================] - 0s 8ms/step - loss: 8.0804\n",
            "Epoch 106/200\n",
            "1/1 [==============================] - 0s 7ms/step - loss: 8.0748\n",
            "Epoch 107/200\n",
            "1/1 [==============================] - 0s 7ms/step - loss: 8.0689\n",
            "Epoch 108/200\n",
            "1/1 [==============================] - 0s 8ms/step - loss: 8.0630\n",
            "Epoch 109/200\n",
            "1/1 [==============================] - 0s 8ms/step - loss: 8.0570\n",
            "Epoch 110/200\n",
            "1/1 [==============================] - 0s 7ms/step - loss: 8.0509\n",
            "Epoch 111/200\n",
            "1/1 [==============================] - 0s 7ms/step - loss: 8.0450\n",
            "Epoch 112/200\n",
            "1/1 [==============================] - 0s 7ms/step - loss: 8.0386\n",
            "Epoch 113/200\n",
            "1/1 [==============================] - 0s 7ms/step - loss: 8.0322\n",
            "Epoch 114/200\n",
            "1/1 [==============================] - 0s 8ms/step - loss: 8.0258\n",
            "Epoch 115/200\n",
            "1/1 [==============================] - 0s 7ms/step - loss: 8.0195\n",
            "Epoch 116/200\n",
            "1/1 [==============================] - 0s 10ms/step - loss: 8.0126\n",
            "Epoch 117/200\n",
            "1/1 [==============================] - 0s 7ms/step - loss: 8.0062\n",
            "Epoch 118/200\n",
            "1/1 [==============================] - 0s 7ms/step - loss: 7.9996\n",
            "Epoch 119/200\n",
            "1/1 [==============================] - 0s 7ms/step - loss: 7.9927\n",
            "Epoch 120/200\n",
            "1/1 [==============================] - 0s 7ms/step - loss: 7.9857\n",
            "Epoch 121/200\n",
            "1/1 [==============================] - 0s 7ms/step - loss: 7.9786\n",
            "Epoch 122/200\n",
            "1/1 [==============================] - 0s 9ms/step - loss: 7.9712\n",
            "Epoch 123/200\n",
            "1/1 [==============================] - 0s 6ms/step - loss: 7.9637\n",
            "Epoch 124/200\n",
            "1/1 [==============================] - 0s 11ms/step - loss: 7.9562\n",
            "Epoch 125/200\n",
            "1/1 [==============================] - 0s 11ms/step - loss: 7.9483\n",
            "Epoch 126/200\n",
            "1/1 [==============================] - 0s 14ms/step - loss: 7.9408\n",
            "Epoch 127/200\n",
            "1/1 [==============================] - 0s 6ms/step - loss: 7.9329\n",
            "Epoch 128/200\n",
            "1/1 [==============================] - 0s 6ms/step - loss: 7.9251\n",
            "Epoch 129/200\n",
            "1/1 [==============================] - 0s 7ms/step - loss: 7.9173\n",
            "Epoch 130/200\n",
            "1/1 [==============================] - 0s 6ms/step - loss: 7.9091\n",
            "Epoch 131/200\n",
            "1/1 [==============================] - 0s 6ms/step - loss: 7.9007\n",
            "Epoch 132/200\n",
            "1/1 [==============================] - 0s 6ms/step - loss: 7.8922\n",
            "Epoch 133/200\n",
            "1/1 [==============================] - 0s 7ms/step - loss: 7.8836\n",
            "Epoch 134/200\n",
            "1/1 [==============================] - 0s 6ms/step - loss: 7.8751\n",
            "Epoch 135/200\n",
            "1/1 [==============================] - 0s 6ms/step - loss: 7.8661\n",
            "Epoch 136/200\n",
            "1/1 [==============================] - 0s 10ms/step - loss: 7.8571\n",
            "Epoch 137/200\n",
            "1/1 [==============================] - 0s 7ms/step - loss: 7.8480\n",
            "Epoch 138/200\n",
            "1/1 [==============================] - 0s 7ms/step - loss: 7.8388\n",
            "Epoch 139/200\n",
            "1/1 [==============================] - 0s 7ms/step - loss: 7.8293\n",
            "Epoch 140/200\n",
            "1/1 [==============================] - 0s 6ms/step - loss: 7.8197\n",
            "Epoch 141/200\n",
            "1/1 [==============================] - 0s 7ms/step - loss: 7.8099\n",
            "Epoch 142/200\n",
            "1/1 [==============================] - 0s 7ms/step - loss: 7.8004\n",
            "Epoch 143/200\n",
            "1/1 [==============================] - 0s 7ms/step - loss: 7.7901\n",
            "Epoch 144/200\n",
            "1/1 [==============================] - 0s 8ms/step - loss: 7.7801\n",
            "Epoch 145/200\n",
            "1/1 [==============================] - 0s 7ms/step - loss: 7.7697\n",
            "Epoch 146/200\n",
            "1/1 [==============================] - 0s 7ms/step - loss: 7.7591\n",
            "Epoch 147/200\n",
            "1/1 [==============================] - 0s 7ms/step - loss: 7.7483\n",
            "Epoch 148/200\n",
            "1/1 [==============================] - 0s 16ms/step - loss: 7.7372\n",
            "Epoch 149/200\n",
            "1/1 [==============================] - 0s 9ms/step - loss: 7.7266\n",
            "Epoch 150/200\n",
            "1/1 [==============================] - 0s 6ms/step - loss: 7.7149\n",
            "Epoch 151/200\n",
            "1/1 [==============================] - 0s 7ms/step - loss: 7.7036\n",
            "Epoch 152/200\n",
            "1/1 [==============================] - 0s 6ms/step - loss: 7.6920\n",
            "Epoch 153/200\n",
            "1/1 [==============================] - 0s 6ms/step - loss: 7.6801\n",
            "Epoch 154/200\n",
            "1/1 [==============================] - 0s 6ms/step - loss: 7.6680\n",
            "Epoch 155/200\n",
            "1/1 [==============================] - 0s 6ms/step - loss: 7.6556\n",
            "Epoch 156/200\n",
            "1/1 [==============================] - 0s 6ms/step - loss: 7.6431\n",
            "Epoch 157/200\n",
            "1/1 [==============================] - 0s 7ms/step - loss: 7.6305\n",
            "Epoch 158/200\n",
            "1/1 [==============================] - 0s 6ms/step - loss: 7.6177\n",
            "Epoch 159/200\n",
            "1/1 [==============================] - 0s 7ms/step - loss: 7.6047\n",
            "Epoch 160/200\n",
            "1/1 [==============================] - 0s 7ms/step - loss: 7.5914\n",
            "Epoch 161/200\n",
            "1/1 [==============================] - 0s 6ms/step - loss: 7.5778\n",
            "Epoch 162/200\n",
            "1/1 [==============================] - 0s 7ms/step - loss: 7.5639\n",
            "Epoch 163/200\n",
            "1/1 [==============================] - 0s 6ms/step - loss: 7.5499\n",
            "Epoch 164/200\n",
            "1/1 [==============================] - 0s 17ms/step - loss: 7.5358\n",
            "Epoch 165/200\n",
            "1/1 [==============================] - 0s 10ms/step - loss: 7.5211\n",
            "Epoch 166/200\n",
            "1/1 [==============================] - 0s 9ms/step - loss: 7.5062\n",
            "Epoch 167/200\n",
            "1/1 [==============================] - 0s 9ms/step - loss: 7.4913\n",
            "Epoch 168/200\n",
            "1/1 [==============================] - 0s 7ms/step - loss: 7.4761\n",
            "Epoch 169/200\n",
            "1/1 [==============================] - 0s 6ms/step - loss: 7.4606\n",
            "Epoch 170/200\n",
            "1/1 [==============================] - 0s 8ms/step - loss: 7.4446\n",
            "Epoch 171/200\n",
            "1/1 [==============================] - 0s 6ms/step - loss: 7.4285\n",
            "Epoch 172/200\n",
            "1/1 [==============================] - 0s 7ms/step - loss: 7.4128\n",
            "Epoch 173/200\n",
            "1/1 [==============================] - 0s 8ms/step - loss: 7.3956\n",
            "Epoch 174/200\n",
            "1/1 [==============================] - 0s 6ms/step - loss: 7.3789\n",
            "Epoch 175/200\n",
            "1/1 [==============================] - 0s 7ms/step - loss: 7.3619\n",
            "Epoch 176/200\n",
            "1/1 [==============================] - 0s 7ms/step - loss: 7.3444\n",
            "Epoch 177/200\n",
            "1/1 [==============================] - 0s 7ms/step - loss: 7.3264\n",
            "Epoch 178/200\n",
            "1/1 [==============================] - 0s 8ms/step - loss: 7.3083\n",
            "Epoch 179/200\n",
            "1/1 [==============================] - 0s 6ms/step - loss: 7.2902\n",
            "Epoch 180/200\n",
            "1/1 [==============================] - 0s 6ms/step - loss: 7.2713\n",
            "Epoch 181/200\n",
            "1/1 [==============================] - 0s 11ms/step - loss: 7.2526\n",
            "Epoch 182/200\n",
            "1/1 [==============================] - 0s 10ms/step - loss: 7.2333\n",
            "Epoch 183/200\n",
            "1/1 [==============================] - 0s 10ms/step - loss: 7.2137\n",
            "Epoch 184/200\n",
            "1/1 [==============================] - 0s 16ms/step - loss: 7.1937\n",
            "Epoch 185/200\n",
            "1/1 [==============================] - 0s 8ms/step - loss: 7.1732\n",
            "Epoch 186/200\n",
            "1/1 [==============================] - 0s 12ms/step - loss: 7.1522\n",
            "Epoch 187/200\n",
            "1/1 [==============================] - 0s 8ms/step - loss: 7.1313\n",
            "Epoch 188/200\n",
            "1/1 [==============================] - 0s 7ms/step - loss: 7.1099\n",
            "Epoch 189/200\n",
            "1/1 [==============================] - 0s 8ms/step - loss: 7.0878\n",
            "Epoch 190/200\n",
            "1/1 [==============================] - 0s 8ms/step - loss: 7.0657\n",
            "Epoch 191/200\n",
            "1/1 [==============================] - 0s 7ms/step - loss: 7.0432\n",
            "Epoch 192/200\n",
            "1/1 [==============================] - 0s 6ms/step - loss: 7.0202\n",
            "Epoch 193/200\n",
            "1/1 [==============================] - 0s 7ms/step - loss: 6.9969\n",
            "Epoch 194/200\n",
            "1/1 [==============================] - 0s 7ms/step - loss: 6.9731\n",
            "Epoch 195/200\n",
            "1/1 [==============================] - 0s 7ms/step - loss: 6.9490\n",
            "Epoch 196/200\n",
            "1/1 [==============================] - 0s 6ms/step - loss: 6.9250\n",
            "Epoch 197/200\n",
            "1/1 [==============================] - 0s 7ms/step - loss: 6.9004\n",
            "Epoch 198/200\n",
            "1/1 [==============================] - 0s 6ms/step - loss: 6.8752\n",
            "Epoch 199/200\n",
            "1/1 [==============================] - 0s 6ms/step - loss: 6.8497\n",
            "Epoch 200/200\n",
            "1/1 [==============================] - 0s 5ms/step - loss: 6.8234\n"
          ]
        },
        {
          "output_type": "execute_result",
          "data": {
            "text/plain": [
              "<keras.callbacks.History at 0x7f944b1df910>"
            ]
          },
          "metadata": {},
          "execution_count": 26
        }
      ]
    },
    {
      "cell_type": "code",
      "source": [
        "# model makes prediction\n",
        "y_pred = model.predict(xs)\n",
        "\n",
        "# plot the graph\n",
        "plt.plot(xs,y_pred,'k',label='Predicted')"
      ],
      "metadata": {
        "id": "zErgjkr3JNZO",
        "colab": {
          "base_uri": "https://localhost:8080/",
          "height": 282
        },
        "outputId": "9123b65f-e889-469f-9403-c400d337c7f6"
      },
      "execution_count": 27,
      "outputs": [
        {
          "output_type": "execute_result",
          "data": {
            "text/plain": [
              "[<matplotlib.lines.Line2D at 0x7f944b197810>]"
            ]
          },
          "metadata": {},
          "execution_count": 27
        },
        {
          "output_type": "display_data",
          "data": {
            "text/plain": [
              "<Figure size 432x288 with 1 Axes>"
            ],
            "image/png": "[encoded data removed]"
          },
          "metadata": {
            "needs_background": "light"
          }
        }
      ]
    },
    {
      "cell_type": "code",
      "source": [],
      "metadata": {
        "id": "N6iFZsA2MHzD"
      },
      "execution_count": 27,
      "outputs": []
    }
  ]
}