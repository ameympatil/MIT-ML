{
  "nbformat": 4,
  "nbformat_minor": 0,
  "metadata": {
    "colab": {
      "name": "A1_Building ANN.ipynb",
      "provenance": [],
      "authorship_tag": "ABX9TyPBH74kuhxFSSQ7eD00NXni",
      "include_colab_link": true
    },
    "kernelspec": {
      "name": "python3",
      "display_name": "Python 3"
    },
    "language_info": {
      "name": "python"
    },
    "accelerator": "GPU",
    "gpuClass": "standard"
  },
  "cells": [
    {
      "cell_type": "markdown",
      "metadata": {
        "id": "view-in-github",
        "colab_type": "text"
      },
      "source": [
        "<a href=\"https://colab.research.google.com/github/ameympatil/MIT-ML/blob/main/A1_Building_ANN.ipynb\" target=\"_parent\"><img src=\"https://colab.research.google.com/assets/colab-badge.svg\" alt=\"Open In Colab\"/></a>"
      ]
    },
    {
      "cell_type": "markdown",
      "source": [
        "# Amey Patil\n",
        "### 1132210050"
      ],
      "metadata": {
        "id": "Ov0k90AQntsn"
      }
    },
    {
      "cell_type": "code",
      "execution_count": null,
      "metadata": {
        "id": "SQc-xeWB2_r2"
      },
      "outputs": [],
      "source": [
        "from tensorflow.keras.models import Sequential\n",
        "from tensorflow.keras.layers import Dense,Dropout\n",
        "from sklearn.model_selection import train_test_split\n",
        "from tensorflow.keras.utils import plot_model\n",
        "from numpy import loadtxt\n",
        "import pandas as pd"
      ]
    },
    {
      "cell_type": "code",
      "source": [
        "data = pd.read_csv('/content/Tetuan City power consumption (1).csv')\n",
        "data.head()"
      ],
      "metadata": {
        "colab": {
          "base_uri": "https://localhost:8080/",
          "height": 267
        },
        "id": "WCKGLFva5fjg",
        "outputId": "c277adef-3d23-47b1-fa44-af661bc95cb9"
      },
      "execution_count": null,
      "outputs": [
        {
          "output_type": "execute_result",
          "data": {
            "text/plain": [
              "   Temperature  Humidity  Wind Speed  general diffuse flows  diffuse flows  \\\n",
              "0        6.559      73.8       0.083                  0.051          0.119   \n",
              "1        6.414      74.5       0.083                  0.070          0.085   \n",
              "2        6.313      74.5       0.080                  0.062          0.100   \n",
              "3        6.121      75.0       0.083                  0.091          0.096   \n",
              "4        5.921      75.7       0.081                  0.048          0.085   \n",
              "\n",
              "   Zone 1 Power Consumption  Zone 2  Power Consumption  \\\n",
              "0               34055.69620                16128.87538   \n",
              "1               29814.68354                19375.07599   \n",
              "2               29128.10127                19006.68693   \n",
              "3               28228.86076                18361.09422   \n",
              "4               27335.69620                17872.34043   \n",
              "\n",
              "   Zone 3  Power Consumption  \n",
              "0                20240.96386  \n",
              "1                20131.08434  \n",
              "2                19668.43373  \n",
              "3                18899.27711  \n",
              "4                18442.40964  "
            ],
            "text/html": [
              "\n",
              "  <div id=\"df-2323e06e-d866-4e8f-be49-1373f1d8a6af\">\n",
              "    <div class=\"colab-df-container\">\n",
              "      <div>\n",
              "<style scoped>\n",
              "    .dataframe tbody tr th:only-of-type {\n",
              "        vertical-align: middle;\n",
              "    }\n",
              "\n",
              "    .dataframe tbody tr th {\n",
              "        vertical-align: top;\n",
              "    }\n",
              "\n",
              "    .dataframe thead th {\n",
              "        text-align: right;\n",
              "    }\n",
              "</style>\n",
              "<table border=\"1\" class=\"dataframe\">\n",
              "  <thead>\n",
              "    <tr style=\"text-align: right;\">\n",
              "      <th></th>\n",
              "      <th>Temperature</th>\n",
              "      <th>Humidity</th>\n",
              "      <th>Wind Speed</th>\n",
              "      <th>general diffuse flows</th>\n",
              "      <th>diffuse flows</th>\n",
              "      <th>Zone 1 Power Consumption</th>\n",
              "      <th>Zone 2  Power Consumption</th>\n",
              "      <th>Zone 3  Power Consumption</th>\n",
              "    </tr>\n",
              "  </thead>\n",
              "  <tbody>\n",
              "    <tr>\n",
              "      <th>0</th>\n",
              "      <td>6.559</td>\n",
              "      <td>73.8</td>\n",
              "      <td>0.083</td>\n",
              "      <td>0.051</td>\n",
              "      <td>0.119</td>\n",
              "      <td>34055.69620</td>\n",
              "      <td>16128.87538</td>\n",
              "      <td>20240.96386</td>\n",
              "    </tr>\n",
              "    <tr>\n",
              "      <th>1</th>\n",
              "      <td>6.414</td>\n",
              "      <td>74.5</td>\n",
              "      <td>0.083</td>\n",
              "      <td>0.070</td>\n",
              "      <td>0.085</td>\n",
              "      <td>29814.68354</td>\n",
              "      <td>19375.07599</td>\n",
              "      <td>20131.08434</td>\n",
              "    </tr>\n",
              "    <tr>\n",
              "      <th>2</th>\n",
              "      <td>6.313</td>\n",
              "      <td>74.5</td>\n",
              "      <td>0.080</td>\n",
              "      <td>0.062</td>\n",
              "      <td>0.100</td>\n",
              "      <td>29128.10127</td>\n",
              "      <td>19006.68693</td>\n",
              "      <td>19668.43373</td>\n",
              "    </tr>\n",
              "    <tr>\n",
              "      <th>3</th>\n",
              "      <td>6.121</td>\n",
              "      <td>75.0</td>\n",
              "      <td>0.083</td>\n",
              "      <td>0.091</td>\n",
              "      <td>0.096</td>\n",
              "      <td>28228.86076</td>\n",
              "      <td>18361.09422</td>\n",
              "      <td>18899.27711</td>\n",
              "    </tr>\n",
              "    <tr>\n",
              "      <th>4</th>\n",
              "      <td>5.921</td>\n",
              "      <td>75.7</td>\n",
              "      <td>0.081</td>\n",
              "      <td>0.048</td>\n",
              "      <td>0.085</td>\n",
              "      <td>27335.69620</td>\n",
              "      <td>17872.34043</td>\n",
              "      <td>18442.40964</td>\n",
              "    </tr>\n",
              "  </tbody>\n",
              "</table>\n",
              "</div>\n",
              "      <button class=\"colab-df-convert\" onclick=\"convertToInteractive('df-2323e06e-d866-4e8f-be49-1373f1d8a6af')\"\n",
              "              title=\"Convert this dataframe to an interactive table.\"\n",
              "              style=\"display:none;\">\n",
              "        \n",
              "  <svg xmlns=\"http://www.w3.org/2000/svg\" height=\"24px\"viewBox=\"0 0 24 24\"\n",
              "       width=\"24px\">\n",
              "    <path d=\"M0 0h24v24H0V0z\" fill=\"none\"/>\n",
              "    <path d=\"M18.56 5.44l.94 2.06.94-2.06 2.06-.94-2.06-.94-.94-2.06-.94 2.06-2.06.94zm-11 1L8.5 8.5l.94-2.06 2.06-.94-2.06-.94L8.5 2.5l-.94 2.06-2.06.94zm10 10l.94 2.06.94-2.06 2.06-.94-2.06-.94-.94-2.06-.94 2.06-2.06.94z\"/><path d=\"M17.41 7.96l-1.37-1.37c-.4-.4-.92-.59-1.43-.59-.52 0-1.04.2-1.43.59L10.3 9.45l-7.72 7.72c-.78.78-.78 2.05 0 2.83L4 21.41c.39.39.9.59 1.41.59.51 0 1.02-.2 1.41-.59l7.78-7.78 2.81-2.81c.8-.78.8-2.07 0-2.86zM5.41 20L4 18.59l7.72-7.72 1.47 1.35L5.41 20z\"/>\n",
              "  </svg>\n",
              "      </button>\n",
              "      \n",
              "  <style>\n",
              "    .colab-df-container {\n",
              "      display:flex;\n",
              "      flex-wrap:wrap;\n",
              "      gap: 12px;\n",
              "    }\n",
              "\n",
              "    .colab-df-convert {\n",
              "      background-color: #E8F0FE;\n",
              "      border: none;\n",
              "      border-radius: 50%;\n",
              "      cursor: pointer;\n",
              "      display: none;\n",
              "      fill: #1967D2;\n",
              "      height: 32px;\n",
              "      padding: 0 0 0 0;\n",
              "      width: 32px;\n",
              "    }\n",
              "\n",
              "    .colab-df-convert:hover {\n",
              "      background-color: #E2EBFA;\n",
              "      box-shadow: 0px 1px 2px rgba(60, 64, 67, 0.3), 0px 1px 3px 1px rgba(60, 64, 67, 0.15);\n",
              "      fill: #174EA6;\n",
              "    }\n",
              "\n",
              "    [theme=dark] .colab-df-convert {\n",
              "      background-color: #3B4455;\n",
              "      fill: #D2E3FC;\n",
              "    }\n",
              "\n",
              "    [theme=dark] .colab-df-convert:hover {\n",
              "      background-color: #434B5C;\n",
              "      box-shadow: 0px 1px 3px 1px rgba(0, 0, 0, 0.15);\n",
              "      filter: drop-shadow(0px 1px 2px rgba(0, 0, 0, 0.3));\n",
              "      fill: #FFFFFF;\n",
              "    }\n",
              "  </style>\n",
              "\n",
              "      <script>\n",
              "        const buttonEl =\n",
              "          document.querySelector('#df-2323e06e-d866-4e8f-be49-1373f1d8a6af button.colab-df-convert');\n",
              "        buttonEl.style.display =\n",
              "          google.colab.kernel.accessAllowed ? 'block' : 'none';\n",
              "\n",
              "        async function convertToInteractive(key) {\n",
              "          const element = document.querySelector('#df-2323e06e-d866-4e8f-be49-1373f1d8a6af');\n",
              "          const dataTable =\n",
              "            await google.colab.kernel.invokeFunction('convertToInteractive',\n",
              "                                                     [key], {});\n",
              "          if (!dataTable) return;\n",
              "\n",
              "          const docLinkHtml = 'Like what you see? Visit the ' +\n",
              "            '<a target=\"_blank\" href=https://colab.research.google.com/notebooks/data_table.ipynb>data table notebook</a>'\n",
              "            + ' to learn more about interactive tables.';\n",
              "          element.innerHTML = '';\n",
              "          dataTable['output_type'] = 'display_data';\n",
              "          await google.colab.output.renderOutput(dataTable, element);\n",
              "          const docLink = document.createElement('div');\n",
              "          docLink.innerHTML = docLinkHtml;\n",
              "          element.appendChild(docLink);\n",
              "        }\n",
              "      </script>\n",
              "    </div>\n",
              "  </div>\n",
              "  "
            ]
          },
          "metadata": {},
          "execution_count": 7
        }
      ]
    },
    {
      "cell_type": "code",
      "source": [
        "data.shape"
      ],
      "metadata": {
        "colab": {
          "base_uri": "https://localhost:8080/"
        },
        "id": "Jx2Zt9tH6Meu",
        "outputId": "0fb79db6-97e3-4c0d-f0f9-2fd194bb2268"
      },
      "execution_count": null,
      "outputs": [
        {
          "output_type": "execute_result",
          "data": {
            "text/plain": [
              "(52416, 8)"
            ]
          },
          "metadata": {},
          "execution_count": 8
        }
      ]
    },
    {
      "cell_type": "code",
      "source": [
        "X = data.iloc[:,:5]\n",
        "y = data.iloc[:,5]"
      ],
      "metadata": {
        "id": "fN3P-rtV5vmL"
      },
      "execution_count": null,
      "outputs": []
    },
    {
      "cell_type": "code",
      "source": [
        "X_train,X_test,y_train,y_test = train_test_split(X,y,test_size=0.2,random_state=42)\n",
        "\n",
        "print(X_train.shape,X_test.shape,y_train.shape,y_test.shape)"
      ],
      "metadata": {
        "id": "sHGKGDb63MWs",
        "outputId": "ffb872e6-ed09-4045-9105-b3b052da9188",
        "colab": {
          "base_uri": "https://localhost:8080/"
        }
      },
      "execution_count": null,
      "outputs": [
        {
          "output_type": "stream",
          "name": "stdout",
          "text": [
            "(41932, 5) (10484, 5) (41932,) (10484,)\n"
          ]
        }
      ]
    },
    {
      "cell_type": "code",
      "source": [
        "from sklearn.preprocessing import StandardScaler\n",
        "sc = StandardScaler()\n",
        "X_train = sc.fit_transform(X_train)\n",
        "X_test = sc.transform(X_test)"
      ],
      "metadata": {
        "id": "ncCZrElFL8LV"
      },
      "execution_count": null,
      "outputs": []
    },
    {
      "cell_type": "markdown",
      "source": [
        "## Model 1 (activation = 'Linear')"
      ],
      "metadata": {
        "id": "gVhpt6J8mKd3"
      }
    },
    {
      "cell_type": "code",
      "source": [
        "model=Sequential()\n",
        "model.add(Dense(224,input_dim=5,activation='relu'))\n",
        "model.add(Dense(448,activation='relu'))\n",
        "model.add(Dense(32,activation='relu'))\n",
        "model.add(Dense(32,activation='relu'))\n",
        "model.add(Dense(32,activation='relu'))\n",
        "model.add(Dense(32,activation='relu'))\n",
        "model.add(Dense(1,activation='linear'))"
      ],
      "metadata": {
        "id": "T6Z7YU1J3OzC"
      },
      "execution_count": null,
      "outputs": []
    },
    {
      "cell_type": "code",
      "source": [
        "plot_model(model,show_shapes=True,show_layer_names=True)"
      ],
      "metadata": {
        "id": "C45EOtAA3RRx",
        "colab": {
          "base_uri": "https://localhost:8080/",
          "height": 865
        },
        "outputId": "1f66e4a4-91b4-4410-d078-bfbb143ac36b"
      },
      "execution_count": null,
      "outputs": [
        {
          "output_type": "execute_result",
          "data": {
            "text/plain": [
              "<IPython.core.display.Image object>"
            ],
            "image/png": "[encoded data removed]"
          },
          "metadata": {},
          "execution_count": 22
        }
      ]
    },
    {
      "cell_type": "code",
      "source": [
        "from tensorflow.keras.losses import MeanSquaredLogarithmicError\n",
        "msle = MeanSquaredLogarithmicError()"
      ],
      "metadata": {
        "id": "iOCQhpEPbkFR"
      },
      "execution_count": null,
      "outputs": []
    },
    {
      "cell_type": "code",
      "source": [
        "model.compile(loss='mae',optimizer='adam',metrics=['MeanAbsoluteError'])"
      ],
      "metadata": {
        "id": "-kel5UDR6gn6"
      },
      "execution_count": null,
      "outputs": []
    },
    {
      "cell_type": "code",
      "source": [
        "model.fit(X_train,y_train,epochs=20,batch_size=20,verbose=1)"
      ],
      "metadata": {
        "colab": {
          "base_uri": "https://localhost:8080/"
        },
        "id": "E4uC7upS6ka4",
        "outputId": "1b340e7c-c3a0-484e-c538-df1b2ee7f1ee"
      },
      "execution_count": null,
      "outputs": [
        {
          "output_type": "stream",
          "name": "stdout",
          "text": [
            "Epoch 1/20\n",
            "2097/2097 [==============================] - 6s 3ms/step - loss: 6295.3369 - mean_absolute_error: 6295.3369\n",
            "Epoch 2/20\n",
            "2097/2097 [==============================] - 6s 3ms/step - loss: 4828.0571 - mean_absolute_error: 4828.0571\n",
            "Epoch 3/20\n",
            "2097/2097 [==============================] - 6s 3ms/step - loss: 4794.6157 - mean_absolute_error: 4794.6157\n",
            "Epoch 4/20\n",
            "2097/2097 [==============================] - 6s 3ms/step - loss: 4781.8081 - mean_absolute_error: 4781.8081\n",
            "Epoch 5/20\n",
            "2097/2097 [==============================] - 6s 3ms/step - loss: 4766.4224 - mean_absolute_error: 4766.4224\n",
            "Epoch 6/20\n",
            "2097/2097 [==============================] - 6s 3ms/step - loss: 4756.8584 - mean_absolute_error: 4756.8584\n",
            "Epoch 7/20\n",
            "2097/2097 [==============================] - 6s 3ms/step - loss: 4762.2554 - mean_absolute_error: 4762.2554\n",
            "Epoch 8/20\n",
            "2097/2097 [==============================] - 6s 3ms/step - loss: 4739.1211 - mean_absolute_error: 4739.1211\n",
            "Epoch 9/20\n",
            "2097/2097 [==============================] - 6s 3ms/step - loss: 4735.8682 - mean_absolute_error: 4735.8682\n",
            "Epoch 10/20\n",
            "2097/2097 [==============================] - 6s 3ms/step - loss: 4716.5078 - mean_absolute_error: 4716.5078\n",
            "Epoch 11/20\n",
            "2097/2097 [==============================] - 6s 3ms/step - loss: 4700.3672 - mean_absolute_error: 4700.3672\n",
            "Epoch 12/20\n",
            "2097/2097 [==============================] - 6s 3ms/step - loss: 4699.0332 - mean_absolute_error: 4699.0332\n",
            "Epoch 13/20\n",
            "2097/2097 [==============================] - 6s 3ms/step - loss: 4683.0029 - mean_absolute_error: 4683.0029\n",
            "Epoch 14/20\n",
            "2097/2097 [==============================] - 6s 3ms/step - loss: 4666.9375 - mean_absolute_error: 4666.9375\n",
            "Epoch 15/20\n",
            "2097/2097 [==============================] - 6s 3ms/step - loss: 4656.9600 - mean_absolute_error: 4656.9600\n",
            "Epoch 16/20\n",
            "2097/2097 [==============================] - 6s 3ms/step - loss: 4653.2319 - mean_absolute_error: 4653.2319\n",
            "Epoch 17/20\n",
            "2097/2097 [==============================] - 6s 3ms/step - loss: 4639.2271 - mean_absolute_error: 4639.2271\n",
            "Epoch 18/20\n",
            "2097/2097 [==============================] - 6s 3ms/step - loss: 4631.4927 - mean_absolute_error: 4631.4927\n",
            "Epoch 19/20\n",
            "2097/2097 [==============================] - 6s 3ms/step - loss: 4612.9233 - mean_absolute_error: 4612.9233\n",
            "Epoch 20/20\n",
            "2097/2097 [==============================] - 6s 3ms/step - loss: 4606.3018 - mean_absolute_error: 4606.3018\n"
          ]
        },
        {
          "output_type": "execute_result",
          "data": {
            "text/plain": [
              "<keras.callbacks.History at 0x7f3eb6406f90>"
            ]
          },
          "metadata": {},
          "execution_count": 25
        }
      ]
    },
    {
      "cell_type": "code",
      "source": [
        "pred = model.predict(X_test)\n",
        "import numpy as np\n",
        "from sklearn.metrics import r2_score\n",
        "pred = np.squeeze(pred)\n",
        "y_test = np.squeeze(np.array(y_test))\n",
        "r2_score(y_test,pred)"
      ],
      "metadata": {
        "colab": {
          "base_uri": "https://localhost:8080/"
        },
        "id": "Tzv1_cP5kI7Z",
        "outputId": "43905cad-cbdd-4f20-8598-9917fbfc6824"
      },
      "execution_count": null,
      "outputs": [
        {
          "output_type": "execute_result",
          "data": {
            "text/plain": [
              "0.2002066561909397"
            ]
          },
          "metadata": {},
          "execution_count": 26
        }
      ]
    },
    {
      "cell_type": "markdown",
      "source": [
        "## Model 2 ('reLU')"
      ],
      "metadata": {
        "id": "T57WE0JCmefJ"
      }
    },
    {
      "cell_type": "code",
      "source": [
        "model=Sequential()\n",
        "model.add(Dense(128,input_dim=7,activation='relu'))\n",
        "model.add(Dense(64,activation='relu'))\n",
        "model.add(Dense(1,activation='relu'))"
      ],
      "metadata": {
        "id": "sdVWwkiOhCWD"
      },
      "execution_count": null,
      "outputs": []
    },
    {
      "cell_type": "code",
      "source": [
        "plot_model(model,show_shapes=True,show_layer_names=True)"
      ],
      "metadata": {
        "colab": {
          "base_uri": "https://localhost:8080/",
          "height": 422
        },
        "id": "PANJ6b8anKCv",
        "outputId": "f17b6500-c1df-4bee-de69-a86b51a52acb"
      },
      "execution_count": null,
      "outputs": [
        {
          "output_type": "execute_result",
          "data": {
            "text/plain": [
              "<IPython.core.display.Image object>"
            ],
            "image/png": "[encoded data removed]"
          },
          "metadata": {},
          "execution_count": 202
        }
      ]
    },
    {
      "cell_type": "code",
      "source": [
        "model.compile(loss='msle',optimizer='adam',metrics=['RootMeanSquaredError'])"
      ],
      "metadata": {
        "id": "jTsNhM2CnaAr"
      },
      "execution_count": null,
      "outputs": []
    },
    {
      "cell_type": "code",
      "source": [
        "model.fit(X_train,y_train,epochs=20,batch_size=20,verbose=1)"
      ],
      "metadata": {
        "colab": {
          "base_uri": "https://localhost:8080/"
        },
        "id": "_6vw0wFdnfQ6",
        "outputId": "50b8888c-cd94-4183-c025-b079fe72d79f"
      },
      "execution_count": null,
      "outputs": [
        {
          "output_type": "stream",
          "name": "stdout",
          "text": [
            "Epoch 1/20\n",
            "2097/2097 [==============================] - 6s 3ms/step - loss: 13.2516 - root_mean_squared_error: 17709.7012\n",
            "Epoch 2/20\n",
            "2097/2097 [==============================] - 6s 3ms/step - loss: 1.0721 - root_mean_squared_error: 12312.5166\n",
            "Epoch 3/20\n",
            "2097/2097 [==============================] - 6s 3ms/step - loss: 0.1793 - root_mean_squared_error: 6879.0889\n",
            "Epoch 4/20\n",
            "2097/2097 [==============================] - 6s 3ms/step - loss: 0.0793 - root_mean_squared_error: 4801.6445\n",
            "Epoch 5/20\n",
            "2097/2097 [==============================] - 6s 3ms/step - loss: 0.0493 - root_mean_squared_error: 3931.8794\n",
            "Epoch 6/20\n",
            "2097/2097 [==============================] - 6s 3ms/step - loss: 0.0388 - root_mean_squared_error: 3574.5908\n",
            "Epoch 7/20\n",
            "2097/2097 [==============================] - 6s 3ms/step - loss: 0.0359 - root_mean_squared_error: 3437.8972\n",
            "Epoch 8/20\n",
            "2097/2097 [==============================] - 6s 3ms/step - loss: 0.0342 - root_mean_squared_error: 3342.9443\n",
            "Epoch 9/20\n",
            "2097/2097 [==============================] - 6s 3ms/step - loss: 0.0327 - root_mean_squared_error: 3257.3101\n",
            "Epoch 10/20\n",
            "2097/2097 [==============================] - 6s 3ms/step - loss: 0.0314 - root_mean_squared_error: 3185.7058\n",
            "Epoch 11/20\n",
            "2097/2097 [==============================] - 6s 3ms/step - loss: 0.0303 - root_mean_squared_error: 3126.6838\n",
            "Epoch 12/20\n",
            "2097/2097 [==============================] - 6s 3ms/step - loss: 0.0293 - root_mean_squared_error: 3075.7996\n",
            "Epoch 13/20\n",
            "2097/2097 [==============================] - 6s 3ms/step - loss: 0.0285 - root_mean_squared_error: 3031.6936\n",
            "Epoch 14/20\n",
            "2097/2097 [==============================] - 6s 3ms/step - loss: 0.0278 - root_mean_squared_error: 2996.5371\n",
            "Epoch 15/20\n",
            "2097/2097 [==============================] - 6s 3ms/step - loss: 0.0273 - root_mean_squared_error: 2972.9602\n",
            "Epoch 16/20\n",
            "2097/2097 [==============================] - 9s 4ms/step - loss: 0.0269 - root_mean_squared_error: 2952.4780\n",
            "Epoch 17/20\n",
            "2097/2097 [==============================] - 6s 3ms/step - loss: 0.0266 - root_mean_squared_error: 2937.4463\n",
            "Epoch 18/20\n",
            "2097/2097 [==============================] - 6s 3ms/step - loss: 0.0263 - root_mean_squared_error: 2927.0994\n",
            "Epoch 19/20\n",
            "2097/2097 [==============================] - 6s 3ms/step - loss: 0.0261 - root_mean_squared_error: 2915.3855\n",
            "Epoch 20/20\n",
            "2097/2097 [==============================] - 6s 3ms/step - loss: 0.0259 - root_mean_squared_error: 2907.0068\n"
          ]
        },
        {
          "output_type": "execute_result",
          "data": {
            "text/plain": [
              "<keras.callbacks.History at 0x7fbe7ec02290>"
            ]
          },
          "metadata": {},
          "execution_count": 204
        }
      ]
    },
    {
      "cell_type": "code",
      "source": [
        "pred = model.predict(X_test)\n",
        "import numpy as np\n",
        "from sklearn.metrics import r2_score\n",
        "pred = np.squeeze(pred)\n",
        "y_test = np.squeeze(np.array(y_test))\n",
        "r2_score(y_test,pred)"
      ],
      "metadata": {
        "colab": {
          "base_uri": "https://localhost:8080/"
        },
        "id": "Zc2afnuDn7ei",
        "outputId": "d2a5b561-6eb3-43a9-f7a7-04607911dc2e"
      },
      "execution_count": null,
      "outputs": [
        {
          "output_type": "execute_result",
          "data": {
            "text/plain": [
              "0.8092637428280075"
            ]
          },
          "metadata": {},
          "execution_count": 205
        }
      ]
    },
    {
      "cell_type": "markdown",
      "source": [
        "## Model 3 ('PreLU')"
      ],
      "metadata": {
        "id": "kagY_CyHmo34"
      }
    },
    {
      "cell_type": "code",
      "source": [
        "model=Sequential()\n",
        "model.add(Dense(128,input_dim=7,activation='relu'))\n",
        "model.add(Dense(64,activation='relu'))\n",
        "model.add(Dense(1,activation='PReLU'))"
      ],
      "metadata": {
        "id": "W6A3bq-Qf8lw"
      },
      "execution_count": null,
      "outputs": []
    },
    {
      "cell_type": "code",
      "source": [
        "plot_model(model,show_shapes=True,show_layer_names=True)"
      ],
      "metadata": {
        "colab": {
          "base_uri": "https://localhost:8080/",
          "height": 422
        },
        "id": "DKhrIncgnLf4",
        "outputId": "d6da4055-f422-4ae8-8dbb-d2cfe8d8eb93"
      },
      "execution_count": null,
      "outputs": [
        {
          "output_type": "execute_result",
          "data": {
            "text/plain": [
              "<IPython.core.display.Image object>"
            ],
            "image/png": "[encoded data removed]"
          },
          "metadata": {},
          "execution_count": 207
        }
      ]
    },
    {
      "cell_type": "code",
      "source": [
        "model.compile(loss='msle',optimizer='adam',metrics=['RootMeanSquaredError'])"
      ],
      "metadata": {
        "id": "2amunNl-nWV8"
      },
      "execution_count": null,
      "outputs": []
    },
    {
      "cell_type": "code",
      "source": [
        "model.fit(X_train,y_train,epochs=20,batch_size=20,verbose=1)"
      ],
      "metadata": {
        "colab": {
          "base_uri": "https://localhost:8080/"
        },
        "id": "ydhoT8orngPZ",
        "outputId": "dc41d7cd-af63-4f7d-cace-756f60ba361a"
      },
      "execution_count": null,
      "outputs": [
        {
          "output_type": "stream",
          "name": "stdout",
          "text": [
            "Epoch 1/20\n",
            "2097/2097 [==============================] - 6s 3ms/step - loss: 12.6328 - root_mean_squared_error: 17602.0781\n",
            "Epoch 2/20\n",
            "2097/2097 [==============================] - 6s 3ms/step - loss: 0.8968 - root_mean_squared_error: 11658.1650\n",
            "Epoch 3/20\n",
            "2097/2097 [==============================] - 7s 3ms/step - loss: 0.1473 - root_mean_squared_error: 6332.3599\n",
            "Epoch 4/20\n",
            "2097/2097 [==============================] - 6s 3ms/step - loss: 0.0725 - root_mean_squared_error: 4633.9204\n",
            "Epoch 5/20\n",
            "2097/2097 [==============================] - 6s 3ms/step - loss: 0.0461 - root_mean_squared_error: 3835.8286\n",
            "Epoch 6/20\n",
            "2097/2097 [==============================] - 6s 3ms/step - loss: 0.0380 - root_mean_squared_error: 3547.4292\n",
            "Epoch 7/20\n",
            "2097/2097 [==============================] - 6s 3ms/step - loss: 0.0357 - root_mean_squared_error: 3425.9861\n",
            "Epoch 8/20\n",
            "2097/2097 [==============================] - 6s 3ms/step - loss: 0.0339 - root_mean_squared_error: 3329.5144\n",
            "Epoch 9/20\n",
            "2097/2097 [==============================] - 6s 3ms/step - loss: 0.0324 - root_mean_squared_error: 3244.3823\n",
            "Epoch 10/20\n",
            "2097/2097 [==============================] - 6s 3ms/step - loss: 0.0311 - root_mean_squared_error: 3172.6621\n",
            "Epoch 11/20\n",
            "2097/2097 [==============================] - 6s 3ms/step - loss: 0.0300 - root_mean_squared_error: 3112.5964\n",
            "Epoch 12/20\n",
            "2097/2097 [==============================] - 6s 3ms/step - loss: 0.0290 - root_mean_squared_error: 3061.9185\n",
            "Epoch 13/20\n",
            "2097/2097 [==============================] - 7s 3ms/step - loss: 0.0282 - root_mean_squared_error: 3023.8411\n",
            "Epoch 14/20\n",
            "2097/2097 [==============================] - 6s 3ms/step - loss: 0.0276 - root_mean_squared_error: 2992.5876\n",
            "Epoch 15/20\n",
            "2097/2097 [==============================] - 6s 3ms/step - loss: 0.0272 - root_mean_squared_error: 2969.8606\n",
            "Epoch 16/20\n",
            "2097/2097 [==============================] - 6s 3ms/step - loss: 0.0268 - root_mean_squared_error: 2953.6846\n",
            "Epoch 17/20\n",
            "2097/2097 [==============================] - 6s 3ms/step - loss: 0.0265 - root_mean_squared_error: 2941.3606\n",
            "Epoch 18/20\n",
            "2097/2097 [==============================] - 6s 3ms/step - loss: 0.0263 - root_mean_squared_error: 2931.3357\n",
            "Epoch 19/20\n",
            "2097/2097 [==============================] - 6s 3ms/step - loss: 0.0261 - root_mean_squared_error: 2923.8010\n",
            "Epoch 20/20\n",
            "2097/2097 [==============================] - 6s 3ms/step - loss: 0.0260 - root_mean_squared_error: 2917.5803\n"
          ]
        },
        {
          "output_type": "execute_result",
          "data": {
            "text/plain": [
              "<keras.callbacks.History at 0x7fbf30607990>"
            ]
          },
          "metadata": {},
          "execution_count": 209
        }
      ]
    },
    {
      "cell_type": "code",
      "source": [
        "pred = model.predict(X_test)\n",
        "import numpy as np\n",
        "from sklearn.metrics import r2_score\n",
        "pred = np.squeeze(pred)\n",
        "y_test = np.squeeze(np.array(y_test))\n",
        "r2_score(y_test,pred)"
      ],
      "metadata": {
        "colab": {
          "base_uri": "https://localhost:8080/"
        },
        "id": "k8pz-TiXoWcQ",
        "outputId": "b9ec0a3c-7103-49f2-f811-b8f32dfbf9aa"
      },
      "execution_count": null,
      "outputs": [
        {
          "output_type": "execute_result",
          "data": {
            "text/plain": [
              "0.8062491415481072"
            ]
          },
          "metadata": {},
          "execution_count": 210
        }
      ]
    },
    {
      "cell_type": "markdown",
      "source": [
        "## Model 4 ('Elu')"
      ],
      "metadata": {
        "id": "2WempFhPmue6"
      }
    },
    {
      "cell_type": "code",
      "source": [
        "model=Sequential()\n",
        "model.add(Dense(128,input_dim=7,activation='relu'))\n",
        "model.add(Dense(64,activation='relu'))\n",
        "model.add(Dense(1,activation='ELU'))"
      ],
      "metadata": {
        "id": "GuAO5hwzmzNV"
      },
      "execution_count": null,
      "outputs": []
    },
    {
      "cell_type": "code",
      "source": [
        "plot_model(model,show_shapes=True,show_layer_names=True)"
      ],
      "metadata": {
        "colab": {
          "base_uri": "https://localhost:8080/",
          "height": 422
        },
        "id": "0gPtCixunMzX",
        "outputId": "f6944cad-1bf7-4325-92e1-d26988d4658a"
      },
      "execution_count": null,
      "outputs": [
        {
          "output_type": "execute_result",
          "data": {
            "text/plain": [
              "<IPython.core.display.Image object>"
            ],
            "image/png": "[encoded data removed]"
          },
          "metadata": {},
          "execution_count": 212
        }
      ]
    },
    {
      "cell_type": "code",
      "source": [
        "model.compile(loss='msle',optimizer='adam',metrics=['RootMeanSquaredError'])"
      ],
      "metadata": {
        "id": "JHEU0YBBnYl_"
      },
      "execution_count": null,
      "outputs": []
    },
    {
      "cell_type": "code",
      "source": [
        "model.fit(X_train,y_train,epochs=20,batch_size=20,verbose=1)"
      ],
      "metadata": {
        "colab": {
          "base_uri": "https://localhost:8080/"
        },
        "id": "Vh1Rmzaunhau",
        "outputId": "03d6e1a3-abb6-45a0-97b1-0f1f80a62e2f"
      },
      "execution_count": null,
      "outputs": [
        {
          "output_type": "stream",
          "name": "stdout",
          "text": [
            "Epoch 1/20\n",
            "2097/2097 [==============================] - 6s 3ms/step - loss: 14.4340 - root_mean_squared_error: 17943.6504\n",
            "Epoch 2/20\n",
            "2097/2097 [==============================] - 6s 3ms/step - loss: 1.3877 - root_mean_squared_error: 13125.8408\n",
            "Epoch 3/20\n",
            "2097/2097 [==============================] - 6s 3ms/step - loss: 0.2200 - root_mean_squared_error: 7434.5142\n",
            "Epoch 4/20\n",
            "2097/2097 [==============================] - 6s 3ms/step - loss: 0.0847 - root_mean_squared_error: 4944.1890\n",
            "Epoch 5/20\n",
            "2097/2097 [==============================] - 6s 3ms/step - loss: 0.0522 - root_mean_squared_error: 4033.1313\n",
            "Epoch 6/20\n",
            "2097/2097 [==============================] - 6s 3ms/step - loss: 0.0401 - root_mean_squared_error: 3658.2703\n",
            "Epoch 7/20\n",
            "2097/2097 [==============================] - 6s 3ms/step - loss: 0.0369 - root_mean_squared_error: 3516.3970\n",
            "Epoch 8/20\n",
            "2097/2097 [==============================] - 6s 3ms/step - loss: 0.0351 - root_mean_squared_error: 3413.2175\n",
            "Epoch 9/20\n",
            "2097/2097 [==============================] - 6s 3ms/step - loss: 0.0336 - root_mean_squared_error: 3321.2898\n",
            "Epoch 10/20\n",
            "2097/2097 [==============================] - 6s 3ms/step - loss: 0.0322 - root_mean_squared_error: 3242.5481\n",
            "Epoch 11/20\n",
            "2097/2097 [==============================] - 6s 3ms/step - loss: 0.0309 - root_mean_squared_error: 3168.0322\n",
            "Epoch 12/20\n",
            "2097/2097 [==============================] - 6s 3ms/step - loss: 0.0298 - root_mean_squared_error: 3105.8723\n",
            "Epoch 13/20\n",
            "2097/2097 [==============================] - 6s 3ms/step - loss: 0.0288 - root_mean_squared_error: 3054.7158\n",
            "Epoch 14/20\n",
            "2097/2097 [==============================] - 6s 3ms/step - loss: 0.0281 - root_mean_squared_error: 3011.9634\n",
            "Epoch 15/20\n",
            "2097/2097 [==============================] - 6s 3ms/step - loss: 0.0275 - root_mean_squared_error: 2983.0232\n",
            "Epoch 16/20\n",
            "2097/2097 [==============================] - 6s 3ms/step - loss: 0.0270 - root_mean_squared_error: 2961.6682\n",
            "Epoch 17/20\n",
            "2097/2097 [==============================] - 6s 3ms/step - loss: 0.0267 - root_mean_squared_error: 2944.5171\n",
            "Epoch 18/20\n",
            "2097/2097 [==============================] - 6s 3ms/step - loss: 0.0264 - root_mean_squared_error: 2935.0420\n",
            "Epoch 19/20\n",
            "2097/2097 [==============================] - 6s 3ms/step - loss: 0.0262 - root_mean_squared_error: 2925.4338\n",
            "Epoch 20/20\n",
            "2097/2097 [==============================] - 6s 3ms/step - loss: 0.0260 - root_mean_squared_error: 2918.3164\n"
          ]
        },
        {
          "output_type": "execute_result",
          "data": {
            "text/plain": [
              "<keras.callbacks.History at 0x7fbe8c70dd50>"
            ]
          },
          "metadata": {},
          "execution_count": 214
        }
      ]
    },
    {
      "cell_type": "code",
      "source": [
        "pred = model.predict(X_test)\n",
        "import numpy as np\n",
        "from sklearn.metrics import r2_score\n",
        "pred = np.squeeze(pred)\n",
        "y_test = np.squeeze(np.array(y_test))\n",
        "r2_score(y_test,pred)"
      ],
      "metadata": {
        "colab": {
          "base_uri": "https://localhost:8080/"
        },
        "id": "CEurRBEAoXmf",
        "outputId": "6743bb87-3833-4205-e15b-5bbe38582bd8"
      },
      "execution_count": null,
      "outputs": [
        {
          "output_type": "execute_result",
          "data": {
            "text/plain": [
              "0.8064191863812953"
            ]
          },
          "metadata": {},
          "execution_count": 215
        }
      ]
    },
    {
      "cell_type": "code",
      "source": [
        ""
      ],
      "metadata": {
        "id": "ihzB94VJoeT4"
      },
      "execution_count": null,
      "outputs": []
    }
  ]
}