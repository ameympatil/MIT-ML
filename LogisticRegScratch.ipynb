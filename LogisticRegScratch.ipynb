{
  "nbformat": 4,
  "nbformat_minor": 0,
  "metadata": {
    "colab": {
      "name": "ML1.ipynb",
      "provenance": [],
      "mount_file_id": "1My_3BCVyhBfAEidVOFqcWwJHNp2D-Gir",
      "authorship_tag": "ABX9TyOh8kpZ44UgExbDwe7L/6d+",
      "include_colab_link": true
    },
    "kernelspec": {
      "name": "python3",
      "display_name": "Python 3"
    },
    "language_info": {
      "name": "python"
    }
  },
  "cells": [
    {
      "cell_type": "markdown",
      "metadata": {
        "id": "view-in-github",
        "colab_type": "text"
      },
      "source": [
        "<a href=\"https://colab.research.google.com/github/ameympatil/MIT-ML/blob/main/LogisticRegScratch.ipynb\" target=\"_parent\"><img src=\"https://colab.research.google.com/assets/colab-badge.svg\" alt=\"Open In Colab\"/></a>"
      ]
    },
    {
      "cell_type": "markdown",
      "source": [
        "# **Amey** **Patil**\n",
        "### Batch 1\n",
        "### Roll:12"
      ],
      "metadata": {
        "id": "SwEq8Jlg35Tu"
      }
    },
    {
      "cell_type": "code",
      "source": [
        "import pandas as pd\n",
        "import numpy as np"
      ],
      "metadata": {
        "id": "tc7mVWTf6MmY"
      },
      "execution_count": 1,
      "outputs": []
    },
    {
      "cell_type": "code",
      "source": [
        "from sklearn import datasets\n",
        "df = datasets.load_iris()       #Iris Dataset\n",
        "X, y = df.data, df.target"
      ],
      "metadata": {
        "id": "iNvl5plL17e5"
      },
      "execution_count": 2,
      "outputs": []
    },
    {
      "cell_type": "code",
      "source": [
        "# Train-test-split\n",
        "from sklearn.model_selection import train_test_split\n",
        "X_train,X_test,y_train,y_test = train_test_split(X,y,test_size=0.2,random_state=1234)"
      ],
      "metadata": {
        "id": "OYLXkjWi8Atn"
      },
      "execution_count": 3,
      "outputs": []
    },
    {
      "cell_type": "code",
      "source": [
        "class log:\n",
        "  def __init__(self,lr = 0.005, itr=1000):\n",
        "    self.lr = lr\n",
        "    self.itr = itr\n",
        "    self.w = None\n",
        "    self.b = None\n",
        "\n",
        "  def sigmoid(self,x):\n",
        "    return 1/ (1+np.exp(-x))\n",
        "\n",
        "  def fit(self,X_train,y_train):\n",
        "    sam,fet = X_train.shape\n",
        "\n",
        "    self.w = np.zeros(fet)\n",
        "    self.b = 0\n",
        "\n",
        "    # for gradient descent\n",
        "    for _ in range(self.itr):\n",
        "      lm = np.dot(X_train, self.w) +self.b\n",
        "      y_pred = self.sigmoid(lm)\n",
        "      \n",
        "      dw = (1/sam) * np.dot(X_train.T , (y_pred - y_train))\n",
        "      db = (1/sam) * np.sum(y_pred - y_train)\n",
        "      self.w = self.lr*dw\n",
        "      self.b = self.lr*db\n",
        "\n",
        "\n",
        "  def predict(self, x):\n",
        "    pred_list = []\n",
        "    for ip in x:\n",
        "      ip = ip.reshape(-1)\n",
        "      pred = self.w.T @ ip + self.b\n",
        "      pred = pred.reshape(-1)\n",
        "      i = pred[0]\n",
        "      if i < 0.33:\n",
        "        pred_list.append(0)\n",
        "      elif i < 0.66:\n",
        "        pred_list.append(1)\n",
        "      else:\n",
        "        pred_list.append(2)\n",
        "    return pred_list"
      ],
      "metadata": {
        "id": "WVEDzndiEZpe"
      },
      "execution_count": 4,
      "outputs": []
    },
    {
      "cell_type": "code",
      "source": [
        "reg = log()\n",
        "reg.fit(X_train,y_train)\n",
        "y_pred = reg.predict(X_test)"
      ],
      "metadata": {
        "id": "5ypC36rVxQs2"
      },
      "execution_count": 5,
      "outputs": []
    },
    {
      "cell_type": "code",
      "source": [
        "# Accuracy score\n",
        "acc = np.sum(y_pred == y_test) / len(y_test)\n",
        "print(acc)"
      ],
      "metadata": {
        "colab": {
          "base_uri": "https://localhost:8080/"
        },
        "id": "cyLzjad227mi",
        "outputId": "7eeb2f13-d47e-4168-dce2-82d862a6c7c7"
      },
      "execution_count": 6,
      "outputs": [
        {
          "output_type": "stream",
          "name": "stdout",
          "text": [
            "0.3\n"
          ]
        }
      ]
    },
    {
      "cell_type": "markdown",
      "source": [
        "## Using Sklearn"
      ],
      "metadata": {
        "id": "eafgIcZ9Hy6A"
      }
    },
    {
      "cell_type": "code",
      "source": [
        "from sklearn.linear_model import LogisticRegression\n",
        "lr = LogisticRegression()\n",
        "lr.fit(X_train,y_train)\n",
        "y_pred = lr.predict(X_test)"
      ],
      "metadata": {
        "colab": {
          "base_uri": "https://localhost:8080/"
        },
        "id": "A32pNpgj5t4w",
        "outputId": "f95a695b-f217-48f3-e94f-face54a4ee8d"
      },
      "execution_count": 7,
      "outputs": [
        {
          "output_type": "stream",
          "name": "stderr",
          "text": [
            "/usr/local/lib/python3.7/dist-packages/sklearn/linear_model/_logistic.py:818: ConvergenceWarning: lbfgs failed to converge (status=1):\n",
            "STOP: TOTAL NO. of ITERATIONS REACHED LIMIT.\n",
            "\n",
            "Increase the number of iterations (max_iter) or scale the data as shown in:\n",
            "    https://scikit-learn.org/stable/modules/preprocessing.html\n",
            "Please also refer to the documentation for alternative solver options:\n",
            "    https://scikit-learn.org/stable/modules/linear_model.html#logistic-regression\n",
            "  extra_warning_msg=_LOGISTIC_SOLVER_CONVERGENCE_MSG,\n"
          ]
        }
      ]
    },
    {
      "cell_type": "code",
      "source": [
        "# Accuracy score\n",
        "acc = np.sum(y_pred == y_test) / len(y_test)\n",
        "print(acc)"
      ],
      "metadata": {
        "colab": {
          "base_uri": "https://localhost:8080/"
        },
        "id": "q79vJ-GhATvh",
        "outputId": "57c16560-f642-4381-be65-f1a7cae1594c"
      },
      "execution_count": 8,
      "outputs": [
        {
          "output_type": "stream",
          "name": "stdout",
          "text": [
            "1.0\n"
          ]
        }
      ]
    },
    {
      "cell_type": "code",
      "source": [
        ""
      ],
      "metadata": {
        "id": "8RodXkgUH4_y"
      },
      "execution_count": 8,
      "outputs": []
    }
  ]
}