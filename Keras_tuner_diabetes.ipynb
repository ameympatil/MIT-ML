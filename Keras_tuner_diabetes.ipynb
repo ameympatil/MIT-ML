{
  "nbformat": 4,
  "nbformat_minor": 0,
  "metadata": {
    "colab": {
      "provenance": [],
      "authorship_tag": "ABX9TyPXadH5KVibu6CHZke2arq4",
      "include_colab_link": true
    },
    "kernelspec": {
      "name": "python3",
      "display_name": "Python 3"
    },
    "language_info": {
      "name": "python"
    },
    "accelerator": "GPU",
    "gpuClass": "standard"
  },
  "cells": [
    {
      "cell_type": "markdown",
      "metadata": {
        "id": "view-in-github",
        "colab_type": "text"
      },
      "source": [
        "<a href=\"https://colab.research.google.com/github/ameympatil/MIT-ML/blob/main/Keras_tuner_diabetes.ipynb\" target=\"_parent\"><img src=\"https://colab.research.google.com/assets/colab-badge.svg\" alt=\"Open In Colab\"/></a>"
      ]
    },
    {
      "cell_type": "code",
      "source": [
        "import numpy as np\n",
        "import pandas as pd"
      ],
      "metadata": {
        "id": "V6K2QdzS-f-V"
      },
      "execution_count": 1,
      "outputs": []
    },
    {
      "cell_type": "code",
      "source": [
        "df = pd.read_csv('/content/diabetes.csv')\n",
        "df.head()"
      ],
      "metadata": {
        "colab": {
          "base_uri": "https://localhost:8080/",
          "height": 206
        },
        "id": "tNgLtEfO_GxN",
        "outputId": "899c84cc-2225-4539-f535-c90875783747"
      },
      "execution_count": 2,
      "outputs": [
        {
          "output_type": "execute_result",
          "data": {
            "text/plain": [
              "   Pregnancies  Glucose  BloodPressure  SkinThickness  Insulin   BMI  \\\n",
              "0            6      148             72             35        0  33.6   \n",
              "1            1       85             66             29        0  26.6   \n",
              "2            8      183             64              0        0  23.3   \n",
              "3            1       89             66             23       94  28.1   \n",
              "4            0      137             40             35      168  43.1   \n",
              "\n",
              "   DiabetesPedigreeFunction  Age  Outcome  \n",
              "0                     0.627   50        1  \n",
              "1                     0.351   31        0  \n",
              "2                     0.672   32        1  \n",
              "3                     0.167   21        0  \n",
              "4                     2.288   33        1  "
            ],
            "text/html": [
              "\n",
              "  <div id=\"df-ca93692f-3649-434b-b208-a91a172933d4\">\n",
              "    <div class=\"colab-df-container\">\n",
              "      <div>\n",
              "<style scoped>\n",
              "    .dataframe tbody tr th:only-of-type {\n",
              "        vertical-align: middle;\n",
              "    }\n",
              "\n",
              "    .dataframe tbody tr th {\n",
              "        vertical-align: top;\n",
              "    }\n",
              "\n",
              "    .dataframe thead th {\n",
              "        text-align: right;\n",
              "    }\n",
              "</style>\n",
              "<table border=\"1\" class=\"dataframe\">\n",
              "  <thead>\n",
              "    <tr style=\"text-align: right;\">\n",
              "      <th></th>\n",
              "      <th>Pregnancies</th>\n",
              "      <th>Glucose</th>\n",
              "      <th>BloodPressure</th>\n",
              "      <th>SkinThickness</th>\n",
              "      <th>Insulin</th>\n",
              "      <th>BMI</th>\n",
              "      <th>DiabetesPedigreeFunction</th>\n",
              "      <th>Age</th>\n",
              "      <th>Outcome</th>\n",
              "    </tr>\n",
              "  </thead>\n",
              "  <tbody>\n",
              "    <tr>\n",
              "      <th>0</th>\n",
              "      <td>6</td>\n",
              "      <td>148</td>\n",
              "      <td>72</td>\n",
              "      <td>35</td>\n",
              "      <td>0</td>\n",
              "      <td>33.6</td>\n",
              "      <td>0.627</td>\n",
              "      <td>50</td>\n",
              "      <td>1</td>\n",
              "    </tr>\n",
              "    <tr>\n",
              "      <th>1</th>\n",
              "      <td>1</td>\n",
              "      <td>85</td>\n",
              "      <td>66</td>\n",
              "      <td>29</td>\n",
              "      <td>0</td>\n",
              "      <td>26.6</td>\n",
              "      <td>0.351</td>\n",
              "      <td>31</td>\n",
              "      <td>0</td>\n",
              "    </tr>\n",
              "    <tr>\n",
              "      <th>2</th>\n",
              "      <td>8</td>\n",
              "      <td>183</td>\n",
              "      <td>64</td>\n",
              "      <td>0</td>\n",
              "      <td>0</td>\n",
              "      <td>23.3</td>\n",
              "      <td>0.672</td>\n",
              "      <td>32</td>\n",
              "      <td>1</td>\n",
              "    </tr>\n",
              "    <tr>\n",
              "      <th>3</th>\n",
              "      <td>1</td>\n",
              "      <td>89</td>\n",
              "      <td>66</td>\n",
              "      <td>23</td>\n",
              "      <td>94</td>\n",
              "      <td>28.1</td>\n",
              "      <td>0.167</td>\n",
              "      <td>21</td>\n",
              "      <td>0</td>\n",
              "    </tr>\n",
              "    <tr>\n",
              "      <th>4</th>\n",
              "      <td>0</td>\n",
              "      <td>137</td>\n",
              "      <td>40</td>\n",
              "      <td>35</td>\n",
              "      <td>168</td>\n",
              "      <td>43.1</td>\n",
              "      <td>2.288</td>\n",
              "      <td>33</td>\n",
              "      <td>1</td>\n",
              "    </tr>\n",
              "  </tbody>\n",
              "</table>\n",
              "</div>\n",
              "      <button class=\"colab-df-convert\" onclick=\"convertToInteractive('df-ca93692f-3649-434b-b208-a91a172933d4')\"\n",
              "              title=\"Convert this dataframe to an interactive table.\"\n",
              "              style=\"display:none;\">\n",
              "        \n",
              "  <svg xmlns=\"http://www.w3.org/2000/svg\" height=\"24px\"viewBox=\"0 0 24 24\"\n",
              "       width=\"24px\">\n",
              "    <path d=\"M0 0h24v24H0V0z\" fill=\"none\"/>\n",
              "    <path d=\"M18.56 5.44l.94 2.06.94-2.06 2.06-.94-2.06-.94-.94-2.06-.94 2.06-2.06.94zm-11 1L8.5 8.5l.94-2.06 2.06-.94-2.06-.94L8.5 2.5l-.94 2.06-2.06.94zm10 10l.94 2.06.94-2.06 2.06-.94-2.06-.94-.94-2.06-.94 2.06-2.06.94z\"/><path d=\"M17.41 7.96l-1.37-1.37c-.4-.4-.92-.59-1.43-.59-.52 0-1.04.2-1.43.59L10.3 9.45l-7.72 7.72c-.78.78-.78 2.05 0 2.83L4 21.41c.39.39.9.59 1.41.59.51 0 1.02-.2 1.41-.59l7.78-7.78 2.81-2.81c.8-.78.8-2.07 0-2.86zM5.41 20L4 18.59l7.72-7.72 1.47 1.35L5.41 20z\"/>\n",
              "  </svg>\n",
              "      </button>\n",
              "      \n",
              "  <style>\n",
              "    .colab-df-container {\n",
              "      display:flex;\n",
              "      flex-wrap:wrap;\n",
              "      gap: 12px;\n",
              "    }\n",
              "\n",
              "    .colab-df-convert {\n",
              "      background-color: #E8F0FE;\n",
              "      border: none;\n",
              "      border-radius: 50%;\n",
              "      cursor: pointer;\n",
              "      display: none;\n",
              "      fill: #1967D2;\n",
              "      height: 32px;\n",
              "      padding: 0 0 0 0;\n",
              "      width: 32px;\n",
              "    }\n",
              "\n",
              "    .colab-df-convert:hover {\n",
              "      background-color: #E2EBFA;\n",
              "      box-shadow: 0px 1px 2px rgba(60, 64, 67, 0.3), 0px 1px 3px 1px rgba(60, 64, 67, 0.15);\n",
              "      fill: #174EA6;\n",
              "    }\n",
              "\n",
              "    [theme=dark] .colab-df-convert {\n",
              "      background-color: #3B4455;\n",
              "      fill: #D2E3FC;\n",
              "    }\n",
              "\n",
              "    [theme=dark] .colab-df-convert:hover {\n",
              "      background-color: #434B5C;\n",
              "      box-shadow: 0px 1px 3px 1px rgba(0, 0, 0, 0.15);\n",
              "      filter: drop-shadow(0px 1px 2px rgba(0, 0, 0, 0.3));\n",
              "      fill: #FFFFFF;\n",
              "    }\n",
              "  </style>\n",
              "\n",
              "      <script>\n",
              "        const buttonEl =\n",
              "          document.querySelector('#df-ca93692f-3649-434b-b208-a91a172933d4 button.colab-df-convert');\n",
              "        buttonEl.style.display =\n",
              "          google.colab.kernel.accessAllowed ? 'block' : 'none';\n",
              "\n",
              "        async function convertToInteractive(key) {\n",
              "          const element = document.querySelector('#df-ca93692f-3649-434b-b208-a91a172933d4');\n",
              "          const dataTable =\n",
              "            await google.colab.kernel.invokeFunction('convertToInteractive',\n",
              "                                                     [key], {});\n",
              "          if (!dataTable) return;\n",
              "\n",
              "          const docLinkHtml = 'Like what you see? Visit the ' +\n",
              "            '<a target=\"_blank\" href=https://colab.research.google.com/notebooks/data_table.ipynb>data table notebook</a>'\n",
              "            + ' to learn more about interactive tables.';\n",
              "          element.innerHTML = '';\n",
              "          dataTable['output_type'] = 'display_data';\n",
              "          await google.colab.output.renderOutput(dataTable, element);\n",
              "          const docLink = document.createElement('div');\n",
              "          docLink.innerHTML = docLinkHtml;\n",
              "          element.appendChild(docLink);\n",
              "        }\n",
              "      </script>\n",
              "    </div>\n",
              "  </div>\n",
              "  "
            ]
          },
          "metadata": {},
          "execution_count": 2
        }
      ]
    },
    {
      "cell_type": "code",
      "source": [
        "df.corr()['Outcome']"
      ],
      "metadata": {
        "colab": {
          "base_uri": "https://localhost:8080/"
        },
        "id": "EdyLSeBA_Lvu",
        "outputId": "c737847e-b169-4457-ce30-120b91f8ad39"
      },
      "execution_count": 3,
      "outputs": [
        {
          "output_type": "execute_result",
          "data": {
            "text/plain": [
              "Pregnancies                 0.221898\n",
              "Glucose                     0.466581\n",
              "BloodPressure               0.065068\n",
              "SkinThickness               0.074752\n",
              "Insulin                     0.130548\n",
              "BMI                         0.292695\n",
              "DiabetesPedigreeFunction    0.173844\n",
              "Age                         0.238356\n",
              "Outcome                     1.000000\n",
              "Name: Outcome, dtype: float64"
            ]
          },
          "metadata": {},
          "execution_count": 3
        }
      ]
    },
    {
      "cell_type": "code",
      "source": [
        "X = df.drop('Outcome',axis=1)\n",
        "y = df['Outcome']"
      ],
      "metadata": {
        "id": "VZhQe8OV_VpF"
      },
      "execution_count": 4,
      "outputs": []
    },
    {
      "cell_type": "code",
      "source": [
        "from sklearn.preprocessing import StandardScaler\n",
        "scaler = StandardScaler()\n",
        "X = scaler.fit_transform(X)"
      ],
      "metadata": {
        "id": "eMNh_1oO_oqY"
      },
      "execution_count": 5,
      "outputs": []
    },
    {
      "cell_type": "code",
      "source": [
        "X.shape"
      ],
      "metadata": {
        "colab": {
          "base_uri": "https://localhost:8080/"
        },
        "id": "6kd7Uybl_0s8",
        "outputId": "d7c5bf42-1abd-4abb-a752-9b9650d5acdb"
      },
      "execution_count": 6,
      "outputs": [
        {
          "output_type": "execute_result",
          "data": {
            "text/plain": [
              "(768, 8)"
            ]
          },
          "metadata": {},
          "execution_count": 6
        }
      ]
    },
    {
      "cell_type": "code",
      "source": [
        "from sklearn.model_selection import train_test_split\n",
        "X_train,X_test,y_train,y_test = train_test_split(X,y,test_size=0.2,random_state=1)"
      ],
      "metadata": {
        "id": "d7I4Uiop_-tT"
      },
      "execution_count": 7,
      "outputs": []
    },
    {
      "cell_type": "code",
      "source": [
        "import tensorflow as tf\n",
        "from tensorflow.keras import Sequential\n",
        "from tensorflow.keras.layers import Dense,Dropout"
      ],
      "metadata": {
        "id": "nIvAAqdSAVit"
      },
      "execution_count": 58,
      "outputs": []
    },
    {
      "cell_type": "code",
      "source": [
        "model = Sequential()\n",
        "\n",
        "model.add(Dense(32,input_dim=X_train.shape[1],activation='relu'))\n",
        "model.add(Dense(1,activation='sigmoid'))\n",
        "\n",
        "model.compile(optimizer='adam',loss='binary_crossentropy',metrics=['accuracy'])"
      ],
      "metadata": {
        "id": "f9vs-cwZAriV"
      },
      "execution_count": 9,
      "outputs": []
    },
    {
      "cell_type": "code",
      "source": [
        "model.fit(X_train,y_train,validation_data=(X_test,y_test),epochs=20,batch_size=32)"
      ],
      "metadata": {
        "colab": {
          "base_uri": "https://localhost:8080/"
        },
        "id": "Ez_5MR23BOqA",
        "outputId": "f0d8f24a-4ec1-43cf-a4b1-a3e210d42c26"
      },
      "execution_count": 10,
      "outputs": [
        {
          "output_type": "stream",
          "name": "stdout",
          "text": [
            "Epoch 1/20\n",
            "20/20 [==============================] - 3s 13ms/step - loss: 0.7761 - accuracy: 0.4756 - val_loss: 0.7162 - val_accuracy: 0.5325\n",
            "Epoch 2/20\n",
            "20/20 [==============================] - 0s 5ms/step - loss: 0.6812 - accuracy: 0.6075 - val_loss: 0.6466 - val_accuracy: 0.7013\n",
            "Epoch 3/20\n",
            "20/20 [==============================] - 0s 5ms/step - loss: 0.6220 - accuracy: 0.6710 - val_loss: 0.5953 - val_accuracy: 0.7662\n",
            "Epoch 4/20\n",
            "20/20 [==============================] - 0s 5ms/step - loss: 0.5807 - accuracy: 0.6954 - val_loss: 0.5639 - val_accuracy: 0.7792\n",
            "Epoch 5/20\n",
            "20/20 [==============================] - 0s 5ms/step - loss: 0.5557 - accuracy: 0.7329 - val_loss: 0.5425 - val_accuracy: 0.8052\n",
            "Epoch 6/20\n",
            "20/20 [==============================] - 0s 5ms/step - loss: 0.5383 - accuracy: 0.7476 - val_loss: 0.5268 - val_accuracy: 0.7987\n",
            "Epoch 7/20\n",
            "20/20 [==============================] - 0s 5ms/step - loss: 0.5246 - accuracy: 0.7524 - val_loss: 0.5146 - val_accuracy: 0.7922\n",
            "Epoch 8/20\n",
            "20/20 [==============================] - 0s 5ms/step - loss: 0.5132 - accuracy: 0.7655 - val_loss: 0.5042 - val_accuracy: 0.7792\n",
            "Epoch 9/20\n",
            "20/20 [==============================] - 0s 5ms/step - loss: 0.5035 - accuracy: 0.7752 - val_loss: 0.4962 - val_accuracy: 0.7922\n",
            "Epoch 10/20\n",
            "20/20 [==============================] - 0s 5ms/step - loss: 0.4956 - accuracy: 0.7736 - val_loss: 0.4883 - val_accuracy: 0.7857\n",
            "Epoch 11/20\n",
            "20/20 [==============================] - 0s 5ms/step - loss: 0.4891 - accuracy: 0.7752 - val_loss: 0.4824 - val_accuracy: 0.7922\n",
            "Epoch 12/20\n",
            "20/20 [==============================] - 0s 5ms/step - loss: 0.4829 - accuracy: 0.7704 - val_loss: 0.4771 - val_accuracy: 0.7922\n",
            "Epoch 13/20\n",
            "20/20 [==============================] - 0s 4ms/step - loss: 0.4778 - accuracy: 0.7785 - val_loss: 0.4733 - val_accuracy: 0.7987\n",
            "Epoch 14/20\n",
            "20/20 [==============================] - 0s 4ms/step - loss: 0.4733 - accuracy: 0.7785 - val_loss: 0.4704 - val_accuracy: 0.7987\n",
            "Epoch 15/20\n",
            "20/20 [==============================] - 0s 5ms/step - loss: 0.4698 - accuracy: 0.7752 - val_loss: 0.4678 - val_accuracy: 0.8117\n",
            "Epoch 16/20\n",
            "20/20 [==============================] - 0s 5ms/step - loss: 0.4663 - accuracy: 0.7769 - val_loss: 0.4656 - val_accuracy: 0.7987\n",
            "Epoch 17/20\n",
            "20/20 [==============================] - 0s 6ms/step - loss: 0.4638 - accuracy: 0.7834 - val_loss: 0.4630 - val_accuracy: 0.8052\n",
            "Epoch 18/20\n",
            "20/20 [==============================] - 0s 5ms/step - loss: 0.4615 - accuracy: 0.7818 - val_loss: 0.4622 - val_accuracy: 0.7857\n",
            "Epoch 19/20\n",
            "20/20 [==============================] - 0s 5ms/step - loss: 0.4596 - accuracy: 0.7834 - val_loss: 0.4623 - val_accuracy: 0.7857\n",
            "Epoch 20/20\n",
            "20/20 [==============================] - 0s 5ms/step - loss: 0.4583 - accuracy: 0.7801 - val_loss: 0.4608 - val_accuracy: 0.7857\n"
          ]
        },
        {
          "output_type": "execute_result",
          "data": {
            "text/plain": [
              "<keras.callbacks.History at 0x7fd254443350>"
            ]
          },
          "metadata": {},
          "execution_count": 10
        }
      ]
    },
    {
      "cell_type": "code",
      "source": [
        "! pip install -U keras-tuner"
      ],
      "metadata": {
        "colab": {
          "base_uri": "https://localhost:8080/"
        },
        "id": "IPGDOVbsCx_b",
        "outputId": "620001eb-ec20-425e-e336-c7a72ee20015"
      },
      "execution_count": 11,
      "outputs": [
        {
          "output_type": "stream",
          "name": "stdout",
          "text": [
            "Looking in indexes: https://pypi.org/simple, https://us-python.pkg.dev/colab-wheels/public/simple/\n",
            "Collecting keras-tuner\n",
            "  Downloading keras_tuner-1.1.3-py3-none-any.whl (135 kB)\n",
            "\u001b[K     |████████████████████████████████| 135 kB 4.8 MB/s \n",
            "\u001b[?25hRequirement already satisfied: ipython in /usr/local/lib/python3.7/dist-packages (from keras-tuner) (7.9.0)\n",
            "Requirement already satisfied: numpy in /usr/local/lib/python3.7/dist-packages (from keras-tuner) (1.21.6)\n",
            "Collecting kt-legacy\n",
            "  Downloading kt_legacy-1.0.4-py3-none-any.whl (9.6 kB)\n",
            "Requirement already satisfied: requests in /usr/local/lib/python3.7/dist-packages (from keras-tuner) (2.23.0)\n",
            "Requirement already satisfied: tensorboard in /usr/local/lib/python3.7/dist-packages (from keras-tuner) (2.9.1)\n",
            "Requirement already satisfied: packaging in /usr/local/lib/python3.7/dist-packages (from keras-tuner) (21.3)\n",
            "Requirement already satisfied: traitlets>=4.2 in /usr/local/lib/python3.7/dist-packages (from ipython->keras-tuner) (5.1.1)\n",
            "Requirement already satisfied: backcall in /usr/local/lib/python3.7/dist-packages (from ipython->keras-tuner) (0.2.0)\n",
            "Requirement already satisfied: prompt-toolkit<2.1.0,>=2.0.0 in /usr/local/lib/python3.7/dist-packages (from ipython->keras-tuner) (2.0.10)\n",
            "Requirement already satisfied: pexpect in /usr/local/lib/python3.7/dist-packages (from ipython->keras-tuner) (4.8.0)\n",
            "Requirement already satisfied: pygments in /usr/local/lib/python3.7/dist-packages (from ipython->keras-tuner) (2.6.1)\n",
            "Requirement already satisfied: setuptools>=18.5 in /usr/local/lib/python3.7/dist-packages (from ipython->keras-tuner) (57.4.0)\n",
            "Requirement already satisfied: pickleshare in /usr/local/lib/python3.7/dist-packages (from ipython->keras-tuner) (0.7.5)\n",
            "Collecting jedi>=0.10\n",
            "  Downloading jedi-0.18.1-py2.py3-none-any.whl (1.6 MB)\n",
            "\u001b[K     |████████████████████████████████| 1.6 MB 52.1 MB/s \n",
            "\u001b[?25hRequirement already satisfied: decorator in /usr/local/lib/python3.7/dist-packages (from ipython->keras-tuner) (4.4.2)\n",
            "Requirement already satisfied: parso<0.9.0,>=0.8.0 in /usr/local/lib/python3.7/dist-packages (from jedi>=0.10->ipython->keras-tuner) (0.8.3)\n",
            "Requirement already satisfied: six>=1.9.0 in /usr/local/lib/python3.7/dist-packages (from prompt-toolkit<2.1.0,>=2.0.0->ipython->keras-tuner) (1.15.0)\n",
            "Requirement already satisfied: wcwidth in /usr/local/lib/python3.7/dist-packages (from prompt-toolkit<2.1.0,>=2.0.0->ipython->keras-tuner) (0.2.5)\n",
            "Requirement already satisfied: pyparsing!=3.0.5,>=2.0.2 in /usr/local/lib/python3.7/dist-packages (from packaging->keras-tuner) (3.0.9)\n",
            "Requirement already satisfied: ptyprocess>=0.5 in /usr/local/lib/python3.7/dist-packages (from pexpect->ipython->keras-tuner) (0.7.0)\n",
            "Requirement already satisfied: certifi>=2017.4.17 in /usr/local/lib/python3.7/dist-packages (from requests->keras-tuner) (2022.9.24)\n",
            "Requirement already satisfied: idna<3,>=2.5 in /usr/local/lib/python3.7/dist-packages (from requests->keras-tuner) (2.10)\n",
            "Requirement already satisfied: chardet<4,>=3.0.2 in /usr/local/lib/python3.7/dist-packages (from requests->keras-tuner) (3.0.4)\n",
            "Requirement already satisfied: urllib3!=1.25.0,!=1.25.1,<1.26,>=1.21.1 in /usr/local/lib/python3.7/dist-packages (from requests->keras-tuner) (1.24.3)\n",
            "Requirement already satisfied: google-auth<3,>=1.6.3 in /usr/local/lib/python3.7/dist-packages (from tensorboard->keras-tuner) (1.35.0)\n",
            "Requirement already satisfied: markdown>=2.6.8 in /usr/local/lib/python3.7/dist-packages (from tensorboard->keras-tuner) (3.4.1)\n",
            "Requirement already satisfied: tensorboard-plugin-wit>=1.6.0 in /usr/local/lib/python3.7/dist-packages (from tensorboard->keras-tuner) (1.8.1)\n",
            "Requirement already satisfied: tensorboard-data-server<0.7.0,>=0.6.0 in /usr/local/lib/python3.7/dist-packages (from tensorboard->keras-tuner) (0.6.1)\n",
            "Requirement already satisfied: absl-py>=0.4 in /usr/local/lib/python3.7/dist-packages (from tensorboard->keras-tuner) (1.3.0)\n",
            "Requirement already satisfied: grpcio>=1.24.3 in /usr/local/lib/python3.7/dist-packages (from tensorboard->keras-tuner) (1.50.0)\n",
            "Requirement already satisfied: protobuf<3.20,>=3.9.2 in /usr/local/lib/python3.7/dist-packages (from tensorboard->keras-tuner) (3.17.3)\n",
            "Requirement already satisfied: wheel>=0.26 in /usr/local/lib/python3.7/dist-packages (from tensorboard->keras-tuner) (0.38.1)\n",
            "Requirement already satisfied: google-auth-oauthlib<0.5,>=0.4.1 in /usr/local/lib/python3.7/dist-packages (from tensorboard->keras-tuner) (0.4.6)\n",
            "Requirement already satisfied: werkzeug>=1.0.1 in /usr/local/lib/python3.7/dist-packages (from tensorboard->keras-tuner) (1.0.1)\n",
            "Requirement already satisfied: rsa<5,>=3.1.4 in /usr/local/lib/python3.7/dist-packages (from google-auth<3,>=1.6.3->tensorboard->keras-tuner) (4.9)\n",
            "Requirement already satisfied: pyasn1-modules>=0.2.1 in /usr/local/lib/python3.7/dist-packages (from google-auth<3,>=1.6.3->tensorboard->keras-tuner) (0.2.8)\n",
            "Requirement already satisfied: cachetools<5.0,>=2.0.0 in /usr/local/lib/python3.7/dist-packages (from google-auth<3,>=1.6.3->tensorboard->keras-tuner) (4.2.4)\n",
            "Requirement already satisfied: requests-oauthlib>=0.7.0 in /usr/local/lib/python3.7/dist-packages (from google-auth-oauthlib<0.5,>=0.4.1->tensorboard->keras-tuner) (1.3.1)\n",
            "Requirement already satisfied: importlib-metadata>=4.4 in /usr/local/lib/python3.7/dist-packages (from markdown>=2.6.8->tensorboard->keras-tuner) (4.13.0)\n",
            "Requirement already satisfied: zipp>=0.5 in /usr/local/lib/python3.7/dist-packages (from importlib-metadata>=4.4->markdown>=2.6.8->tensorboard->keras-tuner) (3.10.0)\n",
            "Requirement already satisfied: typing-extensions>=3.6.4 in /usr/local/lib/python3.7/dist-packages (from importlib-metadata>=4.4->markdown>=2.6.8->tensorboard->keras-tuner) (4.1.1)\n",
            "Requirement already satisfied: pyasn1<0.5.0,>=0.4.6 in /usr/local/lib/python3.7/dist-packages (from pyasn1-modules>=0.2.1->google-auth<3,>=1.6.3->tensorboard->keras-tuner) (0.4.8)\n",
            "Requirement already satisfied: oauthlib>=3.0.0 in /usr/local/lib/python3.7/dist-packages (from requests-oauthlib>=0.7.0->google-auth-oauthlib<0.5,>=0.4.1->tensorboard->keras-tuner) (3.2.2)\n",
            "Installing collected packages: jedi, kt-legacy, keras-tuner\n",
            "Successfully installed jedi-0.18.1 keras-tuner-1.1.3 kt-legacy-1.0.4\n"
          ]
        }
      ]
    },
    {
      "cell_type": "code",
      "source": [
        "# Tuning Optimizer\n",
        "import keras_tuner as kt"
      ],
      "metadata": {
        "id": "Tqlrg6_KCO-1"
      },
      "execution_count": 12,
      "outputs": []
    },
    {
      "cell_type": "code",
      "source": [
        "def build_model(hp):\n",
        "  model = Sequential()\n",
        "  \n",
        "  model.add(Dense(32,input_dim=8,activation='relu'))\n",
        "  model.add(Dense(1,activation='sigmoid'))\n",
        "\n",
        "  opt = hp.Choice('opt',values=['adam','sgd','rmsprop','adadelta'])\n",
        "\n",
        "  model.compile(optimizer=opt,loss='binary_crossentropy',metrics=['accuracy'])\n",
        "  return model"
      ],
      "metadata": {
        "id": "dQ269JcqCr-O"
      },
      "execution_count": 13,
      "outputs": []
    },
    {
      "cell_type": "code",
      "source": [
        "tuner = kt.RandomSearch(\n",
        "    build_model,\n",
        "    objective='val_accuracy',\n",
        "    max_trials=5,\n",
        "    directory='KT',\n",
        "    project_name='Optimizers'\n",
        ")"
      ],
      "metadata": {
        "id": "v6wEduprEC9t"
      },
      "execution_count": 14,
      "outputs": []
    },
    {
      "cell_type": "code",
      "source": [
        "tuner.search(X_train,y_train,epochs=5,validation_data=(X_test,y_test))"
      ],
      "metadata": {
        "colab": {
          "base_uri": "https://localhost:8080/"
        },
        "id": "iJzgfF9nEp_s",
        "outputId": "414e3197-e4c4-4845-cbff-a11c52f64165"
      },
      "execution_count": 15,
      "outputs": [
        {
          "output_type": "stream",
          "name": "stdout",
          "text": [
            "Trial 4 Complete [00h 00m 01s]\n",
            "val_accuracy: 0.5649350881576538\n",
            "\n",
            "Best val_accuracy So Far: 0.798701286315918\n",
            "Total elapsed time: 00h 00m 07s\n"
          ]
        }
      ]
    },
    {
      "cell_type": "code",
      "source": [
        "tuner.get_best_hyperparameters()[0].values"
      ],
      "metadata": {
        "colab": {
          "base_uri": "https://localhost:8080/"
        },
        "id": "aLfU-nn-FEGv",
        "outputId": "a6f64c28-965d-4df3-d886-d053a85d95e6"
      },
      "execution_count": 16,
      "outputs": [
        {
          "output_type": "execute_result",
          "data": {
            "text/plain": [
              "{'opt': 'adam'}"
            ]
          },
          "metadata": {},
          "execution_count": 16
        }
      ]
    },
    {
      "cell_type": "code",
      "source": [
        "tuner.results_summary()"
      ],
      "metadata": {
        "colab": {
          "base_uri": "https://localhost:8080/"
        },
        "id": "gvgEOYN9LuHH",
        "outputId": "2f879d3c-180d-4a4b-c7ce-c13655e4c047"
      },
      "execution_count": 17,
      "outputs": [
        {
          "output_type": "stream",
          "name": "stdout",
          "text": [
            "Results summary\n",
            "Results in KT/Optimizers\n",
            "Showing 10 best trials\n",
            "<keras_tuner.engine.objective.Objective object at 0x7fd2540ae490>\n",
            "Trial summary\n",
            "Hyperparameters:\n",
            "opt: adam\n",
            "Score: 0.798701286315918\n",
            "Trial summary\n",
            "Hyperparameters:\n",
            "opt: rmsprop\n",
            "Score: 0.7662337422370911\n",
            "Trial summary\n",
            "Hyperparameters:\n",
            "opt: sgd\n",
            "Score: 0.6948052048683167\n",
            "Trial summary\n",
            "Hyperparameters:\n",
            "opt: adadelta\n",
            "Score: 0.5649350881576538\n"
          ]
        }
      ]
    },
    {
      "cell_type": "code",
      "source": [
        "model = tuner.get_best_models(num_models=1)[0]"
      ],
      "metadata": {
        "id": "XDcWrtwsFb_a"
      },
      "execution_count": 18,
      "outputs": []
    },
    {
      "cell_type": "code",
      "source": [
        "model.summary()"
      ],
      "metadata": {
        "colab": {
          "base_uri": "https://localhost:8080/"
        },
        "id": "0scyqQOjGVkj",
        "outputId": "f6eb9b7e-138c-4905-a401-66ef5a31feef"
      },
      "execution_count": 19,
      "outputs": [
        {
          "output_type": "stream",
          "name": "stdout",
          "text": [
            "Model: \"sequential\"\n",
            "_________________________________________________________________\n",
            " Layer (type)                Output Shape              Param #   \n",
            "=================================================================\n",
            " dense (Dense)               (None, 32)                288       \n",
            "                                                                 \n",
            " dense_1 (Dense)             (None, 1)                 33        \n",
            "                                                                 \n",
            "=================================================================\n",
            "Total params: 321\n",
            "Trainable params: 321\n",
            "Non-trainable params: 0\n",
            "_________________________________________________________________\n"
          ]
        }
      ]
    },
    {
      "cell_type": "code",
      "source": [
        "model.fit(X_train,y_train,validation_data=(X_test,y_test),batch_size=32,epochs=50,initial_epoch=6)"
      ],
      "metadata": {
        "colab": {
          "base_uri": "https://localhost:8080/"
        },
        "id": "0317VeMsGXk9",
        "outputId": "b0d3e792-a4b3-4c2a-ab71-9298ac6c794d"
      },
      "execution_count": 20,
      "outputs": [
        {
          "output_type": "stream",
          "name": "stdout",
          "text": [
            "Epoch 7/50\n",
            "20/20 [==============================] - 1s 22ms/step - loss: 0.5307 - accuracy: 0.7459 - val_loss: 0.5111 - val_accuracy: 0.8052\n",
            "Epoch 8/50\n",
            "20/20 [==============================] - 0s 7ms/step - loss: 0.5164 - accuracy: 0.7524 - val_loss: 0.5003 - val_accuracy: 0.7922\n",
            "Epoch 9/50\n",
            "20/20 [==============================] - 0s 5ms/step - loss: 0.5047 - accuracy: 0.7590 - val_loss: 0.4918 - val_accuracy: 0.7987\n",
            "Epoch 10/50\n",
            "20/20 [==============================] - 0s 7ms/step - loss: 0.4954 - accuracy: 0.7638 - val_loss: 0.4850 - val_accuracy: 0.7922\n",
            "Epoch 11/50\n",
            "20/20 [==============================] - 0s 6ms/step - loss: 0.4875 - accuracy: 0.7638 - val_loss: 0.4777 - val_accuracy: 0.8052\n",
            "Epoch 12/50\n",
            "20/20 [==============================] - 0s 6ms/step - loss: 0.4803 - accuracy: 0.7687 - val_loss: 0.4737 - val_accuracy: 0.7987\n",
            "Epoch 13/50\n",
            "20/20 [==============================] - 0s 6ms/step - loss: 0.4753 - accuracy: 0.7720 - val_loss: 0.4704 - val_accuracy: 0.7987\n",
            "Epoch 14/50\n",
            "20/20 [==============================] - 0s 5ms/step - loss: 0.4704 - accuracy: 0.7769 - val_loss: 0.4674 - val_accuracy: 0.7987\n",
            "Epoch 15/50\n",
            "20/20 [==============================] - 0s 5ms/step - loss: 0.4669 - accuracy: 0.7785 - val_loss: 0.4650 - val_accuracy: 0.7922\n",
            "Epoch 16/50\n",
            "20/20 [==============================] - 0s 5ms/step - loss: 0.4635 - accuracy: 0.7769 - val_loss: 0.4631 - val_accuracy: 0.7922\n",
            "Epoch 17/50\n",
            "20/20 [==============================] - 0s 5ms/step - loss: 0.4608 - accuracy: 0.7785 - val_loss: 0.4618 - val_accuracy: 0.7987\n",
            "Epoch 18/50\n",
            "20/20 [==============================] - 0s 5ms/step - loss: 0.4584 - accuracy: 0.7785 - val_loss: 0.4603 - val_accuracy: 0.7857\n",
            "Epoch 19/50\n",
            "20/20 [==============================] - 0s 5ms/step - loss: 0.4574 - accuracy: 0.7752 - val_loss: 0.4610 - val_accuracy: 0.7922\n",
            "Epoch 20/50\n",
            "20/20 [==============================] - 0s 5ms/step - loss: 0.4550 - accuracy: 0.7785 - val_loss: 0.4601 - val_accuracy: 0.7987\n",
            "Epoch 21/50\n",
            "20/20 [==============================] - 0s 5ms/step - loss: 0.4534 - accuracy: 0.7834 - val_loss: 0.4585 - val_accuracy: 0.7857\n",
            "Epoch 22/50\n",
            "20/20 [==============================] - 0s 8ms/step - loss: 0.4520 - accuracy: 0.7834 - val_loss: 0.4588 - val_accuracy: 0.7857\n",
            "Epoch 23/50\n",
            "20/20 [==============================] - 0s 9ms/step - loss: 0.4510 - accuracy: 0.7801 - val_loss: 0.4588 - val_accuracy: 0.7857\n",
            "Epoch 24/50\n",
            "20/20 [==============================] - 0s 5ms/step - loss: 0.4502 - accuracy: 0.7818 - val_loss: 0.4597 - val_accuracy: 0.7922\n",
            "Epoch 25/50\n",
            "20/20 [==============================] - 0s 4ms/step - loss: 0.4494 - accuracy: 0.7801 - val_loss: 0.4599 - val_accuracy: 0.7922\n",
            "Epoch 26/50\n",
            "20/20 [==============================] - 0s 5ms/step - loss: 0.4475 - accuracy: 0.7801 - val_loss: 0.4603 - val_accuracy: 0.7922\n",
            "Epoch 27/50\n",
            "20/20 [==============================] - 0s 5ms/step - loss: 0.4468 - accuracy: 0.7801 - val_loss: 0.4596 - val_accuracy: 0.7922\n",
            "Epoch 28/50\n",
            "20/20 [==============================] - 0s 5ms/step - loss: 0.4460 - accuracy: 0.7801 - val_loss: 0.4598 - val_accuracy: 0.7922\n",
            "Epoch 29/50\n",
            "20/20 [==============================] - 0s 6ms/step - loss: 0.4455 - accuracy: 0.7801 - val_loss: 0.4590 - val_accuracy: 0.7922\n",
            "Epoch 30/50\n",
            "20/20 [==============================] - 0s 5ms/step - loss: 0.4448 - accuracy: 0.7801 - val_loss: 0.4595 - val_accuracy: 0.7857\n",
            "Epoch 31/50\n",
            "20/20 [==============================] - 0s 5ms/step - loss: 0.4439 - accuracy: 0.7801 - val_loss: 0.4608 - val_accuracy: 0.7922\n",
            "Epoch 32/50\n",
            "20/20 [==============================] - 0s 5ms/step - loss: 0.4438 - accuracy: 0.7834 - val_loss: 0.4600 - val_accuracy: 0.7922\n",
            "Epoch 33/50\n",
            "20/20 [==============================] - 0s 5ms/step - loss: 0.4426 - accuracy: 0.7801 - val_loss: 0.4612 - val_accuracy: 0.7922\n",
            "Epoch 34/50\n",
            "20/20 [==============================] - 0s 5ms/step - loss: 0.4422 - accuracy: 0.7769 - val_loss: 0.4605 - val_accuracy: 0.7922\n",
            "Epoch 35/50\n",
            "20/20 [==============================] - 0s 5ms/step - loss: 0.4411 - accuracy: 0.7769 - val_loss: 0.4630 - val_accuracy: 0.7922\n",
            "Epoch 36/50\n",
            "20/20 [==============================] - 0s 5ms/step - loss: 0.4410 - accuracy: 0.7752 - val_loss: 0.4613 - val_accuracy: 0.7987\n",
            "Epoch 37/50\n",
            "20/20 [==============================] - 0s 5ms/step - loss: 0.4403 - accuracy: 0.7752 - val_loss: 0.4597 - val_accuracy: 0.7987\n",
            "Epoch 38/50\n",
            "20/20 [==============================] - 0s 6ms/step - loss: 0.4396 - accuracy: 0.7785 - val_loss: 0.4601 - val_accuracy: 0.7987\n",
            "Epoch 39/50\n",
            "20/20 [==============================] - 0s 5ms/step - loss: 0.4394 - accuracy: 0.7769 - val_loss: 0.4606 - val_accuracy: 0.7987\n",
            "Epoch 40/50\n",
            "20/20 [==============================] - 0s 5ms/step - loss: 0.4384 - accuracy: 0.7850 - val_loss: 0.4593 - val_accuracy: 0.7987\n",
            "Epoch 41/50\n",
            "20/20 [==============================] - 0s 5ms/step - loss: 0.4384 - accuracy: 0.7866 - val_loss: 0.4598 - val_accuracy: 0.7987\n",
            "Epoch 42/50\n",
            "20/20 [==============================] - 0s 5ms/step - loss: 0.4373 - accuracy: 0.7785 - val_loss: 0.4594 - val_accuracy: 0.7922\n",
            "Epoch 43/50\n",
            "20/20 [==============================] - 0s 5ms/step - loss: 0.4372 - accuracy: 0.7785 - val_loss: 0.4603 - val_accuracy: 0.7987\n",
            "Epoch 44/50\n",
            "20/20 [==============================] - 0s 5ms/step - loss: 0.4365 - accuracy: 0.7834 - val_loss: 0.4597 - val_accuracy: 0.7987\n",
            "Epoch 45/50\n",
            "20/20 [==============================] - 0s 5ms/step - loss: 0.4357 - accuracy: 0.7834 - val_loss: 0.4587 - val_accuracy: 0.7922\n",
            "Epoch 46/50\n",
            "20/20 [==============================] - 0s 4ms/step - loss: 0.4348 - accuracy: 0.7850 - val_loss: 0.4598 - val_accuracy: 0.7922\n",
            "Epoch 47/50\n",
            "20/20 [==============================] - 0s 5ms/step - loss: 0.4345 - accuracy: 0.7850 - val_loss: 0.4605 - val_accuracy: 0.7922\n",
            "Epoch 48/50\n",
            "20/20 [==============================] - 0s 6ms/step - loss: 0.4339 - accuracy: 0.7850 - val_loss: 0.4594 - val_accuracy: 0.7987\n",
            "Epoch 49/50\n",
            "20/20 [==============================] - 0s 5ms/step - loss: 0.4335 - accuracy: 0.7834 - val_loss: 0.4597 - val_accuracy: 0.7922\n",
            "Epoch 50/50\n",
            "20/20 [==============================] - 0s 5ms/step - loss: 0.4328 - accuracy: 0.7850 - val_loss: 0.4596 - val_accuracy: 0.7922\n"
          ]
        },
        {
          "output_type": "execute_result",
          "data": {
            "text/plain": [
              "<keras.callbacks.History at 0x7fd254097350>"
            ]
          },
          "metadata": {},
          "execution_count": 20
        }
      ]
    },
    {
      "cell_type": "code",
      "source": [
        "# tuning no. of neurons\n",
        "\n",
        "def build_model(hp):\n",
        "  model = Sequential()\n",
        "\n",
        "  units = hp.Int('values',8,128)\n",
        "\n",
        "  model.add(Dense(units=units,input_dim=8,activation='relu'))\n",
        "  model.add(Dense(1,activation='sigmoid'))\n",
        "\n",
        "  model.compile(optimizer='rmsprop',loss='binary_crossentropy',metrics=['accuracy'])\n",
        "  return model"
      ],
      "metadata": {
        "id": "h7c87w-UGjed"
      },
      "execution_count": 21,
      "outputs": []
    },
    {
      "cell_type": "code",
      "source": [
        "tuner = kt.RandomSearch(\n",
        "    build_model,\n",
        "    objective='val_accuracy',\n",
        "    max_trials=5,\n",
        "    directory='KT',\n",
        "    project_name='Neurons'\n",
        ")"
      ],
      "metadata": {
        "id": "tYJdQZJ0HoC-"
      },
      "execution_count": 22,
      "outputs": []
    },
    {
      "cell_type": "code",
      "source": [
        "tuner.search(X_train,y_train,epochs=5,validation_data=(X_test,y_test))"
      ],
      "metadata": {
        "colab": {
          "base_uri": "https://localhost:8080/"
        },
        "id": "5ldWhGb9Hy2K",
        "outputId": "9cfd3655-bba9-461d-9b60-b595e1c5a22a"
      },
      "execution_count": 23,
      "outputs": [
        {
          "output_type": "stream",
          "name": "stdout",
          "text": [
            "Trial 5 Complete [00h 00m 02s]\n",
            "val_accuracy: 0.798701286315918\n",
            "\n",
            "Best val_accuracy So Far: 0.798701286315918\n",
            "Total elapsed time: 00h 00m 11s\n"
          ]
        }
      ]
    },
    {
      "cell_type": "code",
      "source": [
        "tuner.results_summary()"
      ],
      "metadata": {
        "colab": {
          "base_uri": "https://localhost:8080/"
        },
        "id": "j3Jr_Po-IGBm",
        "outputId": "83b6cd51-ff60-4350-9ed4-1cb6db70a432"
      },
      "execution_count": 24,
      "outputs": [
        {
          "output_type": "stream",
          "name": "stdout",
          "text": [
            "Results summary\n",
            "Results in KT/Neurons\n",
            "Showing 10 best trials\n",
            "<keras_tuner.engine.objective.Objective object at 0x7fd23d8e9ed0>\n",
            "Trial summary\n",
            "Hyperparameters:\n",
            "values: 102\n",
            "Score: 0.798701286315918\n",
            "Trial summary\n",
            "Hyperparameters:\n",
            "values: 45\n",
            "Score: 0.798701286315918\n",
            "Trial summary\n",
            "Hyperparameters:\n",
            "values: 27\n",
            "Score: 0.7857142686843872\n",
            "Trial summary\n",
            "Hyperparameters:\n",
            "values: 118\n",
            "Score: 0.7792207598686218\n",
            "Trial summary\n",
            "Hyperparameters:\n",
            "values: 73\n",
            "Score: 0.7597402334213257\n"
          ]
        }
      ]
    },
    {
      "cell_type": "code",
      "source": [
        "tuner.get_best_hyperparameters()[0].values"
      ],
      "metadata": {
        "colab": {
          "base_uri": "https://localhost:8080/"
        },
        "id": "-cSfqYRqKuM-",
        "outputId": "d8322572-1248-45eb-f679-3dbc34c62d54"
      },
      "execution_count": 25,
      "outputs": [
        {
          "output_type": "execute_result",
          "data": {
            "text/plain": [
              "{'values': 102}"
            ]
          },
          "metadata": {},
          "execution_count": 25
        }
      ]
    },
    {
      "cell_type": "code",
      "source": [
        "model = tuner.get_best_models(num_models=1)[0]"
      ],
      "metadata": {
        "id": "RLhuUzbmK44e"
      },
      "execution_count": 26,
      "outputs": []
    },
    {
      "cell_type": "code",
      "source": [
        "model.fit(X_train,y_train,epochs=50,batch_size=32,validation_data=(X_test,y_test),initial_epoch=5)"
      ],
      "metadata": {
        "colab": {
          "base_uri": "https://localhost:8080/"
        },
        "id": "Xwak2003LJcv",
        "outputId": "3b009f2a-136e-4b9b-d61f-3046cd8206b1"
      },
      "execution_count": 27,
      "outputs": [
        {
          "output_type": "stream",
          "name": "stdout",
          "text": [
            "Epoch 6/50\n",
            "20/20 [==============================] - 1s 12ms/step - loss: 0.5131 - accuracy: 0.7687 - val_loss: 0.4916 - val_accuracy: 0.7922\n",
            "Epoch 7/50\n",
            "20/20 [==============================] - 0s 5ms/step - loss: 0.4909 - accuracy: 0.7801 - val_loss: 0.4776 - val_accuracy: 0.7922\n",
            "Epoch 8/50\n",
            "20/20 [==============================] - 0s 5ms/step - loss: 0.4777 - accuracy: 0.7801 - val_loss: 0.4698 - val_accuracy: 0.7792\n",
            "Epoch 9/50\n",
            "20/20 [==============================] - 0s 6ms/step - loss: 0.4681 - accuracy: 0.7834 - val_loss: 0.4674 - val_accuracy: 0.7792\n",
            "Epoch 10/50\n",
            "20/20 [==============================] - 0s 6ms/step - loss: 0.4622 - accuracy: 0.7801 - val_loss: 0.4644 - val_accuracy: 0.7922\n",
            "Epoch 11/50\n",
            "20/20 [==============================] - 0s 5ms/step - loss: 0.4575 - accuracy: 0.7769 - val_loss: 0.4640 - val_accuracy: 0.7987\n",
            "Epoch 12/50\n",
            "20/20 [==============================] - 0s 5ms/step - loss: 0.4549 - accuracy: 0.7785 - val_loss: 0.4607 - val_accuracy: 0.7922\n",
            "Epoch 13/50\n",
            "20/20 [==============================] - 0s 5ms/step - loss: 0.4515 - accuracy: 0.7818 - val_loss: 0.4597 - val_accuracy: 0.7987\n",
            "Epoch 14/50\n",
            "20/20 [==============================] - 0s 5ms/step - loss: 0.4497 - accuracy: 0.7818 - val_loss: 0.4611 - val_accuracy: 0.7857\n",
            "Epoch 15/50\n",
            "20/20 [==============================] - 0s 6ms/step - loss: 0.4484 - accuracy: 0.7801 - val_loss: 0.4641 - val_accuracy: 0.7792\n",
            "Epoch 16/50\n",
            "20/20 [==============================] - 0s 5ms/step - loss: 0.4469 - accuracy: 0.7769 - val_loss: 0.4620 - val_accuracy: 0.7857\n",
            "Epoch 17/50\n",
            "20/20 [==============================] - 0s 5ms/step - loss: 0.4449 - accuracy: 0.7818 - val_loss: 0.4620 - val_accuracy: 0.7857\n",
            "Epoch 18/50\n",
            "20/20 [==============================] - 0s 6ms/step - loss: 0.4438 - accuracy: 0.7818 - val_loss: 0.4610 - val_accuracy: 0.7857\n",
            "Epoch 19/50\n",
            "20/20 [==============================] - 0s 5ms/step - loss: 0.4426 - accuracy: 0.7818 - val_loss: 0.4608 - val_accuracy: 0.7922\n",
            "Epoch 20/50\n",
            "20/20 [==============================] - 0s 6ms/step - loss: 0.4414 - accuracy: 0.7801 - val_loss: 0.4616 - val_accuracy: 0.8052\n",
            "Epoch 21/50\n",
            "20/20 [==============================] - 0s 5ms/step - loss: 0.4403 - accuracy: 0.7769 - val_loss: 0.4607 - val_accuracy: 0.8052\n",
            "Epoch 22/50\n",
            "20/20 [==============================] - 0s 5ms/step - loss: 0.4399 - accuracy: 0.7704 - val_loss: 0.4604 - val_accuracy: 0.8052\n",
            "Epoch 23/50\n",
            "20/20 [==============================] - 0s 6ms/step - loss: 0.4383 - accuracy: 0.7801 - val_loss: 0.4606 - val_accuracy: 0.8052\n",
            "Epoch 24/50\n",
            "20/20 [==============================] - 0s 5ms/step - loss: 0.4374 - accuracy: 0.7752 - val_loss: 0.4628 - val_accuracy: 0.8117\n",
            "Epoch 25/50\n",
            "20/20 [==============================] - 0s 5ms/step - loss: 0.4367 - accuracy: 0.7834 - val_loss: 0.4610 - val_accuracy: 0.7987\n",
            "Epoch 26/50\n",
            "20/20 [==============================] - 0s 6ms/step - loss: 0.4359 - accuracy: 0.7818 - val_loss: 0.4602 - val_accuracy: 0.7922\n",
            "Epoch 27/50\n",
            "20/20 [==============================] - 0s 5ms/step - loss: 0.4349 - accuracy: 0.7850 - val_loss: 0.4624 - val_accuracy: 0.8052\n",
            "Epoch 28/50\n",
            "20/20 [==============================] - 0s 6ms/step - loss: 0.4349 - accuracy: 0.7834 - val_loss: 0.4609 - val_accuracy: 0.8052\n",
            "Epoch 29/50\n",
            "20/20 [==============================] - 0s 5ms/step - loss: 0.4330 - accuracy: 0.7899 - val_loss: 0.4608 - val_accuracy: 0.8117\n",
            "Epoch 30/50\n",
            "20/20 [==============================] - 0s 6ms/step - loss: 0.4329 - accuracy: 0.7866 - val_loss: 0.4596 - val_accuracy: 0.7987\n",
            "Epoch 31/50\n",
            "20/20 [==============================] - 0s 5ms/step - loss: 0.4317 - accuracy: 0.7932 - val_loss: 0.4595 - val_accuracy: 0.7987\n",
            "Epoch 32/50\n",
            "20/20 [==============================] - 0s 6ms/step - loss: 0.4319 - accuracy: 0.7834 - val_loss: 0.4597 - val_accuracy: 0.8117\n",
            "Epoch 33/50\n",
            "20/20 [==============================] - 0s 6ms/step - loss: 0.4300 - accuracy: 0.7932 - val_loss: 0.4580 - val_accuracy: 0.7922\n",
            "Epoch 34/50\n",
            "20/20 [==============================] - 0s 5ms/step - loss: 0.4296 - accuracy: 0.7899 - val_loss: 0.4606 - val_accuracy: 0.8117\n",
            "Epoch 35/50\n",
            "20/20 [==============================] - 0s 5ms/step - loss: 0.4291 - accuracy: 0.7932 - val_loss: 0.4616 - val_accuracy: 0.8117\n",
            "Epoch 36/50\n",
            "20/20 [==============================] - 0s 5ms/step - loss: 0.4277 - accuracy: 0.7948 - val_loss: 0.4590 - val_accuracy: 0.8117\n",
            "Epoch 37/50\n",
            "20/20 [==============================] - 0s 6ms/step - loss: 0.4275 - accuracy: 0.7948 - val_loss: 0.4587 - val_accuracy: 0.8117\n",
            "Epoch 38/50\n",
            "20/20 [==============================] - 0s 5ms/step - loss: 0.4273 - accuracy: 0.7964 - val_loss: 0.4571 - val_accuracy: 0.8117\n",
            "Epoch 39/50\n",
            "20/20 [==============================] - 0s 5ms/step - loss: 0.4264 - accuracy: 0.7948 - val_loss: 0.4576 - val_accuracy: 0.8117\n",
            "Epoch 40/50\n",
            "20/20 [==============================] - 0s 5ms/step - loss: 0.4254 - accuracy: 0.7964 - val_loss: 0.4585 - val_accuracy: 0.8117\n",
            "Epoch 41/50\n",
            "20/20 [==============================] - 0s 5ms/step - loss: 0.4247 - accuracy: 0.7948 - val_loss: 0.4575 - val_accuracy: 0.8117\n",
            "Epoch 42/50\n",
            "20/20 [==============================] - 0s 5ms/step - loss: 0.4243 - accuracy: 0.7964 - val_loss: 0.4577 - val_accuracy: 0.8117\n",
            "Epoch 43/50\n",
            "20/20 [==============================] - 0s 5ms/step - loss: 0.4239 - accuracy: 0.7948 - val_loss: 0.4597 - val_accuracy: 0.8182\n",
            "Epoch 44/50\n",
            "20/20 [==============================] - 0s 5ms/step - loss: 0.4227 - accuracy: 0.7899 - val_loss: 0.4595 - val_accuracy: 0.8117\n",
            "Epoch 45/50\n",
            "20/20 [==============================] - 0s 5ms/step - loss: 0.4223 - accuracy: 0.7980 - val_loss: 0.4583 - val_accuracy: 0.8182\n",
            "Epoch 46/50\n",
            "20/20 [==============================] - 0s 6ms/step - loss: 0.4219 - accuracy: 0.7997 - val_loss: 0.4577 - val_accuracy: 0.8182\n",
            "Epoch 47/50\n",
            "20/20 [==============================] - 0s 5ms/step - loss: 0.4209 - accuracy: 0.8029 - val_loss: 0.4574 - val_accuracy: 0.8052\n",
            "Epoch 48/50\n",
            "20/20 [==============================] - 0s 5ms/step - loss: 0.4209 - accuracy: 0.8013 - val_loss: 0.4578 - val_accuracy: 0.8182\n",
            "Epoch 49/50\n",
            "20/20 [==============================] - 0s 5ms/step - loss: 0.4200 - accuracy: 0.8029 - val_loss: 0.4594 - val_accuracy: 0.8052\n",
            "Epoch 50/50\n",
            "20/20 [==============================] - 0s 6ms/step - loss: 0.4193 - accuracy: 0.8029 - val_loss: 0.4593 - val_accuracy: 0.8182\n"
          ]
        },
        {
          "output_type": "execute_result",
          "data": {
            "text/plain": [
              "<keras.callbacks.History at 0x7fd23d89efd0>"
            ]
          },
          "metadata": {},
          "execution_count": 27
        }
      ]
    },
    {
      "cell_type": "code",
      "source": [
        "## Tuning Layers\n",
        "\n",
        "def build_model(hp):\n",
        "  model = Sequential()\n",
        "\n",
        "  model.add(Dense(102,activation='relu',input_dim=8))\n",
        "  \n",
        "  for i in range(hp.Int('num',1,10)):\n",
        "    model.add(Dense(102,activation='relu'))\n",
        "\n",
        "  model.add(Dense(1,activation='sigmoid'))\n",
        "  model.compile(optimizer='rmsprop',loss='binary_crossentropy',metrics=['accuracy'])\n",
        "  return model"
      ],
      "metadata": {
        "id": "KAWDjGDFMt9e"
      },
      "execution_count": 28,
      "outputs": []
    },
    {
      "cell_type": "code",
      "source": [
        "tuner = kt.RandomSearch(\n",
        "    build_model,\n",
        "    objective='val_accuracy',\n",
        "    directory='KT',\n",
        "    project_name='Layers'\n",
        ")"
      ],
      "metadata": {
        "id": "1-mCurs0OYDf"
      },
      "execution_count": 29,
      "outputs": []
    },
    {
      "cell_type": "code",
      "source": [
        "tuner.search(X_train,y_train,validation_data=(X_test,y_test),epochs=10,batch_size=32)"
      ],
      "metadata": {
        "colab": {
          "base_uri": "https://localhost:8080/"
        },
        "id": "LVs86s23OoEh",
        "outputId": "82dd1f59-0f0f-4003-fce7-b607681c8cdb"
      },
      "execution_count": 30,
      "outputs": [
        {
          "output_type": "stream",
          "name": "stdout",
          "text": [
            "Trial 7 Complete [00h 00m 04s]\n",
            "val_accuracy: 0.8051947951316833\n",
            "\n",
            "Best val_accuracy So Far: 0.8246753215789795\n",
            "Total elapsed time: 00h 00m 24s\n"
          ]
        }
      ]
    },
    {
      "cell_type": "code",
      "source": [
        "tuner.get_best_hyperparameters()[0].values"
      ],
      "metadata": {
        "colab": {
          "base_uri": "https://localhost:8080/"
        },
        "id": "jQCQekSoO2E8",
        "outputId": "cf2e8956-47e8-4f55-c7bb-57fcabd65e45"
      },
      "execution_count": 31,
      "outputs": [
        {
          "output_type": "execute_result",
          "data": {
            "text/plain": [
              "{'num': 7}"
            ]
          },
          "metadata": {},
          "execution_count": 31
        }
      ]
    },
    {
      "cell_type": "code",
      "source": [
        "model = tuner.get_best_models(num_models=1)[0]"
      ],
      "metadata": {
        "id": "cNE-D3tlPDb3"
      },
      "execution_count": 32,
      "outputs": []
    },
    {
      "cell_type": "code",
      "source": [
        "model.fit(X_train,y_train,validation_data=(X_test,y_test),epochs=50,batch_size=32,initial_epoch=5)"
      ],
      "metadata": {
        "colab": {
          "base_uri": "https://localhost:8080/"
        },
        "id": "_376UdVoPLuP",
        "outputId": "be880860-b222-4522-c42c-35ce3417d05d"
      },
      "execution_count": 34,
      "outputs": [
        {
          "output_type": "stream",
          "name": "stdout",
          "text": [
            "Epoch 6/50\n",
            "20/20 [==============================] - 0s 8ms/step - loss: 0.4217 - accuracy: 0.8094 - val_loss: 0.4942 - val_accuracy: 0.7597\n",
            "Epoch 7/50\n",
            "20/20 [==============================] - 0s 6ms/step - loss: 0.4035 - accuracy: 0.8192 - val_loss: 0.6786 - val_accuracy: 0.7532\n",
            "Epoch 8/50\n",
            "20/20 [==============================] - 0s 6ms/step - loss: 0.3967 - accuracy: 0.8257 - val_loss: 0.5007 - val_accuracy: 0.8052\n",
            "Epoch 9/50\n",
            "20/20 [==============================] - 0s 7ms/step - loss: 0.3720 - accuracy: 0.8339 - val_loss: 0.4876 - val_accuracy: 0.7922\n",
            "Epoch 10/50\n",
            "20/20 [==============================] - 0s 6ms/step - loss: 0.3603 - accuracy: 0.8485 - val_loss: 0.5746 - val_accuracy: 0.7857\n",
            "Epoch 11/50\n",
            "20/20 [==============================] - 0s 7ms/step - loss: 0.3579 - accuracy: 0.8436 - val_loss: 0.5300 - val_accuracy: 0.7987\n",
            "Epoch 12/50\n",
            "20/20 [==============================] - 0s 7ms/step - loss: 0.3243 - accuracy: 0.8664 - val_loss: 0.5532 - val_accuracy: 0.7922\n",
            "Epoch 13/50\n",
            "20/20 [==============================] - 0s 6ms/step - loss: 0.3363 - accuracy: 0.8453 - val_loss: 0.5874 - val_accuracy: 0.7792\n",
            "Epoch 14/50\n",
            "20/20 [==============================] - 0s 6ms/step - loss: 0.3091 - accuracy: 0.8681 - val_loss: 0.7290 - val_accuracy: 0.7338\n",
            "Epoch 15/50\n",
            "20/20 [==============================] - 0s 7ms/step - loss: 0.2927 - accuracy: 0.8730 - val_loss: 0.6800 - val_accuracy: 0.7403\n",
            "Epoch 16/50\n",
            "20/20 [==============================] - 0s 7ms/step - loss: 0.2988 - accuracy: 0.8697 - val_loss: 0.6760 - val_accuracy: 0.7727\n",
            "Epoch 17/50\n",
            "20/20 [==============================] - 0s 7ms/step - loss: 0.2461 - accuracy: 0.8958 - val_loss: 0.7437 - val_accuracy: 0.7792\n",
            "Epoch 18/50\n",
            "20/20 [==============================] - 0s 8ms/step - loss: 0.2897 - accuracy: 0.8860 - val_loss: 0.7423 - val_accuracy: 0.7987\n",
            "Epoch 19/50\n",
            "20/20 [==============================] - 0s 7ms/step - loss: 0.2336 - accuracy: 0.9055 - val_loss: 0.9074 - val_accuracy: 0.7208\n",
            "Epoch 20/50\n",
            "20/20 [==============================] - 0s 7ms/step - loss: 0.2496 - accuracy: 0.8958 - val_loss: 0.8994 - val_accuracy: 0.7662\n",
            "Epoch 21/50\n",
            "20/20 [==============================] - 0s 7ms/step - loss: 0.2084 - accuracy: 0.9169 - val_loss: 0.9959 - val_accuracy: 0.7727\n",
            "Epoch 22/50\n",
            "20/20 [==============================] - 0s 8ms/step - loss: 0.1865 - accuracy: 0.9316 - val_loss: 1.2570 - val_accuracy: 0.7727\n",
            "Epoch 23/50\n",
            "20/20 [==============================] - 0s 8ms/step - loss: 0.2224 - accuracy: 0.9186 - val_loss: 1.1917 - val_accuracy: 0.7338\n",
            "Epoch 24/50\n",
            "20/20 [==============================] - 0s 7ms/step - loss: 0.1795 - accuracy: 0.9381 - val_loss: 0.9133 - val_accuracy: 0.7662\n",
            "Epoch 25/50\n",
            "20/20 [==============================] - 0s 7ms/step - loss: 0.1749 - accuracy: 0.9381 - val_loss: 1.0842 - val_accuracy: 0.7662\n",
            "Epoch 26/50\n",
            "20/20 [==============================] - 0s 7ms/step - loss: 0.2150 - accuracy: 0.9235 - val_loss: 1.0058 - val_accuracy: 0.7468\n",
            "Epoch 27/50\n",
            "20/20 [==============================] - 0s 7ms/step - loss: 0.1485 - accuracy: 0.9397 - val_loss: 1.1057 - val_accuracy: 0.7792\n",
            "Epoch 28/50\n",
            "20/20 [==============================] - 0s 7ms/step - loss: 0.1691 - accuracy: 0.9430 - val_loss: 1.2133 - val_accuracy: 0.7792\n",
            "Epoch 29/50\n",
            "20/20 [==============================] - 0s 7ms/step - loss: 0.1145 - accuracy: 0.9544 - val_loss: 1.1690 - val_accuracy: 0.7273\n",
            "Epoch 30/50\n",
            "20/20 [==============================] - 0s 7ms/step - loss: 0.1673 - accuracy: 0.9365 - val_loss: 1.2840 - val_accuracy: 0.7597\n",
            "Epoch 31/50\n",
            "20/20 [==============================] - 0s 7ms/step - loss: 0.1624 - accuracy: 0.9397 - val_loss: 1.2872 - val_accuracy: 0.7597\n",
            "Epoch 32/50\n",
            "20/20 [==============================] - 0s 7ms/step - loss: 0.0753 - accuracy: 0.9723 - val_loss: 1.6266 - val_accuracy: 0.7922\n",
            "Epoch 33/50\n",
            "20/20 [==============================] - 0s 6ms/step - loss: 0.1005 - accuracy: 0.9642 - val_loss: 1.8416 - val_accuracy: 0.6948\n",
            "Epoch 34/50\n",
            "20/20 [==============================] - 0s 7ms/step - loss: 0.1310 - accuracy: 0.9625 - val_loss: 1.4754 - val_accuracy: 0.7403\n",
            "Epoch 35/50\n",
            "20/20 [==============================] - 0s 7ms/step - loss: 0.0845 - accuracy: 0.9739 - val_loss: 1.7086 - val_accuracy: 0.7922\n",
            "Epoch 36/50\n",
            "20/20 [==============================] - 0s 7ms/step - loss: 0.1097 - accuracy: 0.9577 - val_loss: 1.5527 - val_accuracy: 0.7532\n",
            "Epoch 37/50\n",
            "20/20 [==============================] - 0s 7ms/step - loss: 0.0596 - accuracy: 0.9756 - val_loss: 1.9547 - val_accuracy: 0.7597\n",
            "Epoch 38/50\n",
            "20/20 [==============================] - 0s 6ms/step - loss: 0.1637 - accuracy: 0.9414 - val_loss: 1.3412 - val_accuracy: 0.7338\n",
            "Epoch 39/50\n",
            "20/20 [==============================] - 0s 6ms/step - loss: 0.0394 - accuracy: 0.9902 - val_loss: 2.1215 - val_accuracy: 0.7597\n",
            "Epoch 40/50\n",
            "20/20 [==============================] - 0s 7ms/step - loss: 0.0816 - accuracy: 0.9788 - val_loss: 1.6606 - val_accuracy: 0.7338\n",
            "Epoch 41/50\n",
            "20/20 [==============================] - 0s 6ms/step - loss: 0.0938 - accuracy: 0.9642 - val_loss: 1.6767 - val_accuracy: 0.7532\n",
            "Epoch 42/50\n",
            "20/20 [==============================] - 0s 6ms/step - loss: 0.0743 - accuracy: 0.9772 - val_loss: 1.7862 - val_accuracy: 0.7208\n",
            "Epoch 43/50\n",
            "20/20 [==============================] - 0s 6ms/step - loss: 0.0738 - accuracy: 0.9739 - val_loss: 1.7152 - val_accuracy: 0.7273\n",
            "Epoch 44/50\n",
            "20/20 [==============================] - 0s 7ms/step - loss: 0.0772 - accuracy: 0.9707 - val_loss: 1.9029 - val_accuracy: 0.7532\n",
            "Epoch 45/50\n",
            "20/20 [==============================] - 0s 6ms/step - loss: 0.0684 - accuracy: 0.9788 - val_loss: 1.5318 - val_accuracy: 0.7792\n",
            "Epoch 46/50\n",
            "20/20 [==============================] - 0s 6ms/step - loss: 0.0596 - accuracy: 0.9788 - val_loss: 1.7413 - val_accuracy: 0.7727\n",
            "Epoch 47/50\n",
            "20/20 [==============================] - 0s 6ms/step - loss: 0.0943 - accuracy: 0.9658 - val_loss: 1.3903 - val_accuracy: 0.7792\n",
            "Epoch 48/50\n",
            "20/20 [==============================] - 0s 6ms/step - loss: 0.0623 - accuracy: 0.9739 - val_loss: 1.7793 - val_accuracy: 0.7597\n",
            "Epoch 49/50\n",
            "20/20 [==============================] - 0s 7ms/step - loss: 0.0319 - accuracy: 0.9902 - val_loss: 2.2291 - val_accuracy: 0.7727\n",
            "Epoch 50/50\n",
            "20/20 [==============================] - 0s 7ms/step - loss: 0.0907 - accuracy: 0.9691 - val_loss: 1.8550 - val_accuracy: 0.7597\n"
          ]
        },
        {
          "output_type": "execute_result",
          "data": {
            "text/plain": [
              "<keras.callbacks.History at 0x7fd23db2a610>"
            ]
          },
          "metadata": {},
          "execution_count": 34
        }
      ]
    },
    {
      "cell_type": "code",
      "source": [
        "# Whole Model\n",
        "def build_model(hp):\n",
        "  model = Sequential()\n",
        "\n",
        "  counter = 0\n",
        "  for i in range(hp.Int('layers',1,10)):\n",
        "    if counter == 0:\n",
        "      model.add(Dense(\n",
        "        hp.Int('units'+str(i),1,256),\n",
        "        activation='relu',\n",
        "        input_dim=8))\n",
        "      model.add(Dropout(hp.Choice('drop'+str(i),[0.1,0.2,0.3,0.4,0.5])))\n",
        "    else:\n",
        "      model.add(Dense(\n",
        "        hp.Int('units'+str(i),1,256),\n",
        "        activation='relu'))\n",
        "      model.add(Dropout(hp.Choice('drop'+str(i),[0.1,0.2,0.3,0.4,0.5])))\n",
        "    counter+=1\n",
        "\n",
        "  model.add(Dense(1,activation='sigmoid'))\n",
        "\n",
        "  opt = hp.Choice('opti',['adam','rmsprop','sgd'])\n",
        "  model.compile(optimizer=opt,loss='binary_crossentropy',metrics=['accuracy'])\n",
        "\n",
        "  return model"
      ],
      "metadata": {
        "id": "7912KHIMPaS4"
      },
      "execution_count": 67,
      "outputs": []
    },
    {
      "cell_type": "code",
      "source": [
        "tuner = kt.RandomSearch(\n",
        "    build_model,\n",
        "    objective='val_accuracy',\n",
        "    directory='Final',\n",
        "    project_name='ALL3'\n",
        ")"
      ],
      "metadata": {
        "id": "ZdBhF7xoSjt8"
      },
      "execution_count": 68,
      "outputs": []
    },
    {
      "cell_type": "code",
      "source": [
        "tuner.search(X_train,y_train,epochs=5,validation_data=(X_test,y_test))"
      ],
      "metadata": {
        "colab": {
          "base_uri": "https://localhost:8080/"
        },
        "id": "9uUtHiw0TDy7",
        "outputId": "4757331e-87b5-4594-ecb5-5096e3af8472"
      },
      "execution_count": 69,
      "outputs": [
        {
          "output_type": "stream",
          "name": "stdout",
          "text": [
            "Trial 10 Complete [00h 00m 02s]\n",
            "val_accuracy: 0.6428571343421936\n",
            "\n",
            "Best val_accuracy So Far: 0.8051947951316833\n",
            "Total elapsed time: 00h 00m 23s\n"
          ]
        }
      ]
    },
    {
      "cell_type": "code",
      "source": [
        "tuner.results_summary()"
      ],
      "metadata": {
        "colab": {
          "base_uri": "https://localhost:8080/"
        },
        "id": "G-Q55e01TU4U",
        "outputId": "e92d03ef-d26e-46fe-d256-bba62072655a"
      },
      "execution_count": 70,
      "outputs": [
        {
          "output_type": "stream",
          "name": "stdout",
          "text": [
            "Results summary\n",
            "Results in Final/ALL3\n",
            "Showing 10 best trials\n",
            "<keras_tuner.engine.objective.Objective object at 0x7fd23bf6b390>\n",
            "Trial summary\n",
            "Hyperparameters:\n",
            "layers: 7\n",
            "units0: 216\n",
            "drop0: 0.3\n",
            "opti: adam\n",
            "units1: 148\n",
            "drop1: 0.3\n",
            "units2: 52\n",
            "drop2: 0.1\n",
            "units3: 167\n",
            "drop3: 0.5\n",
            "units4: 109\n",
            "drop4: 0.5\n",
            "units5: 142\n",
            "drop5: 0.5\n",
            "units6: 118\n",
            "drop6: 0.5\n",
            "units7: 232\n",
            "drop7: 0.4\n",
            "units8: 135\n",
            "drop8: 0.5\n",
            "Score: 0.8051947951316833\n",
            "Trial summary\n",
            "Hyperparameters:\n",
            "layers: 5\n",
            "units0: 27\n",
            "drop0: 0.3\n",
            "opti: rmsprop\n",
            "units1: 87\n",
            "drop1: 0.4\n",
            "units2: 9\n",
            "drop2: 0.3\n",
            "units3: 58\n",
            "drop3: 0.2\n",
            "units4: 106\n",
            "drop4: 0.2\n",
            "units5: 234\n",
            "drop5: 0.1\n",
            "units6: 239\n",
            "drop6: 0.2\n",
            "Score: 0.798701286315918\n",
            "Trial summary\n",
            "Hyperparameters:\n",
            "layers: 5\n",
            "units0: 233\n",
            "drop0: 0.2\n",
            "opti: rmsprop\n",
            "units1: 237\n",
            "drop1: 0.5\n",
            "units2: 49\n",
            "drop2: 0.5\n",
            "units3: 113\n",
            "drop3: 0.2\n",
            "units4: 13\n",
            "drop4: 0.2\n",
            "units5: 193\n",
            "drop5: 0.5\n",
            "units6: 154\n",
            "drop6: 0.2\n",
            "Score: 0.798701286315918\n",
            "Trial summary\n",
            "Hyperparameters:\n",
            "layers: 2\n",
            "units0: 60\n",
            "drop0: 0.2\n",
            "opti: rmsprop\n",
            "units1: 94\n",
            "drop1: 0.2\n",
            "units2: 236\n",
            "drop2: 0.2\n",
            "units3: 238\n",
            "drop3: 0.3\n",
            "units4: 18\n",
            "drop4: 0.4\n",
            "units5: 175\n",
            "drop5: 0.3\n",
            "units6: 119\n",
            "drop6: 0.4\n",
            "Score: 0.7922077775001526\n",
            "Trial summary\n",
            "Hyperparameters:\n",
            "layers: 1\n",
            "units0: 235\n",
            "drop0: 0.1\n",
            "opti: sgd\n",
            "units1: 3\n",
            "drop1: 0.5\n",
            "units2: 237\n",
            "drop2: 0.4\n",
            "units3: 212\n",
            "drop3: 0.5\n",
            "units4: 245\n",
            "drop4: 0.5\n",
            "units5: 132\n",
            "drop5: 0.1\n",
            "units6: 219\n",
            "drop6: 0.2\n",
            "units7: 24\n",
            "drop7: 0.1\n",
            "units8: 186\n",
            "drop8: 0.4\n",
            "Score: 0.7857142686843872\n",
            "Trial summary\n",
            "Hyperparameters:\n",
            "layers: 5\n",
            "units0: 51\n",
            "drop0: 0.2\n",
            "opti: sgd\n",
            "units1: 176\n",
            "drop1: 0.5\n",
            "units2: 190\n",
            "drop2: 0.3\n",
            "units3: 93\n",
            "drop3: 0.2\n",
            "units4: 128\n",
            "drop4: 0.3\n",
            "units5: 39\n",
            "drop5: 0.5\n",
            "units6: 165\n",
            "drop6: 0.4\n",
            "Score: 0.6883116960525513\n",
            "Trial summary\n",
            "Hyperparameters:\n",
            "layers: 4\n",
            "units0: 138\n",
            "drop0: 0.3\n",
            "opti: sgd\n",
            "units1: 1\n",
            "drop1: 0.1\n",
            "units2: 1\n",
            "drop2: 0.1\n",
            "units3: 1\n",
            "drop3: 0.1\n",
            "Score: 0.6428571343421936\n",
            "Trial summary\n",
            "Hyperparameters:\n",
            "layers: 7\n",
            "units0: 14\n",
            "drop0: 0.1\n",
            "opti: sgd\n",
            "units1: 93\n",
            "drop1: 0.2\n",
            "units2: 245\n",
            "drop2: 0.3\n",
            "units3: 185\n",
            "drop3: 0.2\n",
            "units4: 1\n",
            "drop4: 0.1\n",
            "units5: 1\n",
            "drop5: 0.1\n",
            "units6: 1\n",
            "drop6: 0.1\n",
            "Score: 0.6428571343421936\n",
            "Trial summary\n",
            "Hyperparameters:\n",
            "layers: 9\n",
            "units0: 99\n",
            "drop0: 0.3\n",
            "opti: adam\n",
            "units1: 247\n",
            "drop1: 0.3\n",
            "units2: 116\n",
            "drop2: 0.3\n",
            "units3: 34\n",
            "drop3: 0.1\n",
            "units4: 7\n",
            "drop4: 0.3\n",
            "units5: 215\n",
            "drop5: 0.4\n",
            "units6: 225\n",
            "drop6: 0.5\n",
            "units7: 1\n",
            "drop7: 0.1\n",
            "units8: 1\n",
            "drop8: 0.1\n",
            "Score: 0.6428571343421936\n",
            "Trial summary\n",
            "Hyperparameters:\n",
            "layers: 10\n",
            "units0: 24\n",
            "drop0: 0.1\n",
            "opti: adam\n",
            "units1: 93\n",
            "drop1: 0.1\n",
            "units2: 62\n",
            "drop2: 0.4\n",
            "units3: 78\n",
            "drop3: 0.2\n",
            "units4: 129\n",
            "drop4: 0.2\n",
            "units5: 111\n",
            "drop5: 0.1\n",
            "units6: 65\n",
            "drop6: 0.1\n",
            "units7: 215\n",
            "drop7: 0.5\n",
            "units8: 127\n",
            "drop8: 0.5\n",
            "units9: 1\n",
            "drop9: 0.1\n",
            "Score: 0.6428571343421936\n"
          ]
        }
      ]
    },
    {
      "cell_type": "code",
      "source": [
        "tuner.get_best_hyperparameters()[0].values"
      ],
      "metadata": {
        "colab": {
          "base_uri": "https://localhost:8080/"
        },
        "id": "f45KuEtSTjIl",
        "outputId": "5f0a7018-a4b5-47e3-f1aa-5c8fec064119"
      },
      "execution_count": 71,
      "outputs": [
        {
          "output_type": "execute_result",
          "data": {
            "text/plain": [
              "{'layers': 7,\n",
              " 'units0': 216,\n",
              " 'drop0': 0.3,\n",
              " 'opti': 'adam',\n",
              " 'units1': 148,\n",
              " 'drop1': 0.3,\n",
              " 'units2': 52,\n",
              " 'drop2': 0.1,\n",
              " 'units3': 167,\n",
              " 'drop3': 0.5,\n",
              " 'units4': 109,\n",
              " 'drop4': 0.5,\n",
              " 'units5': 142,\n",
              " 'drop5': 0.5,\n",
              " 'units6': 118,\n",
              " 'drop6': 0.5,\n",
              " 'units7': 232,\n",
              " 'drop7': 0.4,\n",
              " 'units8': 135,\n",
              " 'drop8': 0.5}"
            ]
          },
          "metadata": {},
          "execution_count": 71
        }
      ]
    },
    {
      "cell_type": "code",
      "source": [
        "model = tuner.get_best_models(num_models=1)[0]"
      ],
      "metadata": {
        "id": "-vMpK5GKT1EL"
      },
      "execution_count": 72,
      "outputs": []
    },
    {
      "cell_type": "code",
      "source": [
        "model.summary()"
      ],
      "metadata": {
        "colab": {
          "base_uri": "https://localhost:8080/"
        },
        "id": "8L0XbmlkV5wn",
        "outputId": "c305666f-0702-4e23-fc44-f1752cd66db3"
      },
      "execution_count": 73,
      "outputs": [
        {
          "output_type": "stream",
          "name": "stdout",
          "text": [
            "Model: \"sequential\"\n",
            "_________________________________________________________________\n",
            " Layer (type)                Output Shape              Param #   \n",
            "=================================================================\n",
            " dense (Dense)               (None, 216)               1944      \n",
            "                                                                 \n",
            " dropout (Dropout)           (None, 216)               0         \n",
            "                                                                 \n",
            " dense_1 (Dense)             (None, 148)               32116     \n",
            "                                                                 \n",
            " dropout_1 (Dropout)         (None, 148)               0         \n",
            "                                                                 \n",
            " dense_2 (Dense)             (None, 52)                7748      \n",
            "                                                                 \n",
            " dropout_2 (Dropout)         (None, 52)                0         \n",
            "                                                                 \n",
            " dense_3 (Dense)             (None, 167)               8851      \n",
            "                                                                 \n",
            " dropout_3 (Dropout)         (None, 167)               0         \n",
            "                                                                 \n",
            " dense_4 (Dense)             (None, 109)               18312     \n",
            "                                                                 \n",
            " dropout_4 (Dropout)         (None, 109)               0         \n",
            "                                                                 \n",
            " dense_5 (Dense)             (None, 142)               15620     \n",
            "                                                                 \n",
            " dropout_5 (Dropout)         (None, 142)               0         \n",
            "                                                                 \n",
            " dense_6 (Dense)             (None, 118)               16874     \n",
            "                                                                 \n",
            " dropout_6 (Dropout)         (None, 118)               0         \n",
            "                                                                 \n",
            " dense_7 (Dense)             (None, 1)                 119       \n",
            "                                                                 \n",
            "=================================================================\n",
            "Total params: 101,584\n",
            "Trainable params: 101,584\n",
            "Non-trainable params: 0\n",
            "_________________________________________________________________\n"
          ]
        }
      ]
    },
    {
      "cell_type": "code",
      "source": [
        "model.fit(X_train,y_train,epochs=100,validation_data=(X_test,y_test),batch_size=32,initial_epoch=5)"
      ],
      "metadata": {
        "colab": {
          "base_uri": "https://localhost:8080/"
        },
        "id": "agtajxp1V-rP",
        "outputId": "2e78537d-a35d-43f9-80a9-868ea716653c"
      },
      "execution_count": 74,
      "outputs": [
        {
          "output_type": "stream",
          "name": "stdout",
          "text": [
            "Epoch 6/100\n",
            "20/20 [==============================] - 1s 17ms/step - loss: 0.5188 - accuracy: 0.6792 - val_loss: 0.5535 - val_accuracy: 0.7727\n",
            "Epoch 7/100\n",
            "20/20 [==============================] - 0s 7ms/step - loss: 0.5088 - accuracy: 0.7296 - val_loss: 0.5456 - val_accuracy: 0.7662\n",
            "Epoch 8/100\n",
            "20/20 [==============================] - 0s 7ms/step - loss: 0.5081 - accuracy: 0.7557 - val_loss: 0.5253 - val_accuracy: 0.7792\n",
            "Epoch 9/100\n",
            "20/20 [==============================] - 0s 7ms/step - loss: 0.5016 - accuracy: 0.7476 - val_loss: 0.5312 - val_accuracy: 0.7857\n",
            "Epoch 10/100\n",
            "20/20 [==============================] - 0s 7ms/step - loss: 0.5012 - accuracy: 0.7508 - val_loss: 0.5183 - val_accuracy: 0.7727\n",
            "Epoch 11/100\n",
            "20/20 [==============================] - 0s 6ms/step - loss: 0.5245 - accuracy: 0.7638 - val_loss: 0.5277 - val_accuracy: 0.7532\n",
            "Epoch 12/100\n",
            "20/20 [==============================] - 0s 7ms/step - loss: 0.4848 - accuracy: 0.7622 - val_loss: 0.5010 - val_accuracy: 0.8117\n",
            "Epoch 13/100\n",
            "20/20 [==============================] - 0s 7ms/step - loss: 0.5043 - accuracy: 0.7801 - val_loss: 0.5169 - val_accuracy: 0.7662\n",
            "Epoch 14/100\n",
            "20/20 [==============================] - 0s 7ms/step - loss: 0.4732 - accuracy: 0.7736 - val_loss: 0.4744 - val_accuracy: 0.8052\n",
            "Epoch 15/100\n",
            "20/20 [==============================] - 0s 7ms/step - loss: 0.4502 - accuracy: 0.7915 - val_loss: 0.4748 - val_accuracy: 0.7727\n",
            "Epoch 16/100\n",
            "20/20 [==============================] - 0s 10ms/step - loss: 0.4806 - accuracy: 0.7687 - val_loss: 0.4751 - val_accuracy: 0.7857\n",
            "Epoch 17/100\n",
            "20/20 [==============================] - 0s 9ms/step - loss: 0.4380 - accuracy: 0.7883 - val_loss: 0.4732 - val_accuracy: 0.7857\n",
            "Epoch 18/100\n",
            "20/20 [==============================] - 0s 10ms/step - loss: 0.4816 - accuracy: 0.7655 - val_loss: 0.4854 - val_accuracy: 0.7857\n",
            "Epoch 19/100\n",
            "20/20 [==============================] - 0s 9ms/step - loss: 0.4588 - accuracy: 0.7964 - val_loss: 0.4757 - val_accuracy: 0.8117\n",
            "Epoch 20/100\n",
            "20/20 [==============================] - 0s 8ms/step - loss: 0.4660 - accuracy: 0.7948 - val_loss: 0.4733 - val_accuracy: 0.8052\n",
            "Epoch 21/100\n",
            "20/20 [==============================] - 0s 8ms/step - loss: 0.4502 - accuracy: 0.7948 - val_loss: 0.4788 - val_accuracy: 0.7987\n",
            "Epoch 22/100\n",
            "20/20 [==============================] - 0s 9ms/step - loss: 0.4595 - accuracy: 0.7834 - val_loss: 0.4770 - val_accuracy: 0.7987\n",
            "Epoch 23/100\n",
            "20/20 [==============================] - 0s 9ms/step - loss: 0.4512 - accuracy: 0.8062 - val_loss: 0.4881 - val_accuracy: 0.8052\n",
            "Epoch 24/100\n",
            "20/20 [==============================] - 0s 9ms/step - loss: 0.4407 - accuracy: 0.8029 - val_loss: 0.4784 - val_accuracy: 0.8247\n",
            "Epoch 25/100\n",
            "20/20 [==============================] - 0s 8ms/step - loss: 0.4412 - accuracy: 0.7883 - val_loss: 0.4899 - val_accuracy: 0.7922\n",
            "Epoch 26/100\n",
            "20/20 [==============================] - 0s 9ms/step - loss: 0.4419 - accuracy: 0.8029 - val_loss: 0.4826 - val_accuracy: 0.8117\n",
            "Epoch 27/100\n",
            "20/20 [==============================] - 0s 9ms/step - loss: 0.4470 - accuracy: 0.8029 - val_loss: 0.4723 - val_accuracy: 0.8182\n",
            "Epoch 28/100\n",
            "20/20 [==============================] - 0s 9ms/step - loss: 0.4228 - accuracy: 0.7948 - val_loss: 0.4781 - val_accuracy: 0.8117\n",
            "Epoch 29/100\n",
            "20/20 [==============================] - 0s 9ms/step - loss: 0.4426 - accuracy: 0.7818 - val_loss: 0.4814 - val_accuracy: 0.7987\n",
            "Epoch 30/100\n",
            "20/20 [==============================] - 0s 6ms/step - loss: 0.4405 - accuracy: 0.7964 - val_loss: 0.4729 - val_accuracy: 0.7987\n",
            "Epoch 31/100\n",
            "20/20 [==============================] - 0s 6ms/step - loss: 0.4360 - accuracy: 0.7834 - val_loss: 0.4785 - val_accuracy: 0.7987\n",
            "Epoch 32/100\n",
            "20/20 [==============================] - 0s 6ms/step - loss: 0.4128 - accuracy: 0.8078 - val_loss: 0.4828 - val_accuracy: 0.8117\n",
            "Epoch 33/100\n",
            "20/20 [==============================] - 0s 6ms/step - loss: 0.4554 - accuracy: 0.7932 - val_loss: 0.4890 - val_accuracy: 0.7922\n",
            "Epoch 34/100\n",
            "20/20 [==============================] - 0s 6ms/step - loss: 0.4395 - accuracy: 0.8143 - val_loss: 0.4756 - val_accuracy: 0.7922\n",
            "Epoch 35/100\n",
            "20/20 [==============================] - 0s 6ms/step - loss: 0.4167 - accuracy: 0.8241 - val_loss: 0.4718 - val_accuracy: 0.8247\n",
            "Epoch 36/100\n",
            "20/20 [==============================] - 0s 6ms/step - loss: 0.4325 - accuracy: 0.7866 - val_loss: 0.4797 - val_accuracy: 0.7987\n",
            "Epoch 37/100\n",
            "20/20 [==============================] - 0s 6ms/step - loss: 0.4309 - accuracy: 0.8208 - val_loss: 0.4792 - val_accuracy: 0.8182\n",
            "Epoch 38/100\n",
            "20/20 [==============================] - 0s 7ms/step - loss: 0.4088 - accuracy: 0.8225 - val_loss: 0.4763 - val_accuracy: 0.8247\n",
            "Epoch 39/100\n",
            "20/20 [==============================] - 0s 6ms/step - loss: 0.4042 - accuracy: 0.8225 - val_loss: 0.4720 - val_accuracy: 0.8247\n",
            "Epoch 40/100\n",
            "20/20 [==============================] - 0s 6ms/step - loss: 0.3979 - accuracy: 0.8241 - val_loss: 0.4787 - val_accuracy: 0.7792\n",
            "Epoch 41/100\n",
            "20/20 [==============================] - 0s 6ms/step - loss: 0.4337 - accuracy: 0.8160 - val_loss: 0.4696 - val_accuracy: 0.7922\n",
            "Epoch 42/100\n",
            "20/20 [==============================] - 0s 6ms/step - loss: 0.3804 - accuracy: 0.8404 - val_loss: 0.4967 - val_accuracy: 0.7857\n",
            "Epoch 43/100\n",
            "20/20 [==============================] - 0s 6ms/step - loss: 0.4042 - accuracy: 0.8192 - val_loss: 0.4952 - val_accuracy: 0.7857\n",
            "Epoch 44/100\n",
            "20/20 [==============================] - 0s 6ms/step - loss: 0.3969 - accuracy: 0.8339 - val_loss: 0.5020 - val_accuracy: 0.7792\n",
            "Epoch 45/100\n",
            "20/20 [==============================] - 0s 6ms/step - loss: 0.4045 - accuracy: 0.8322 - val_loss: 0.4610 - val_accuracy: 0.8182\n",
            "Epoch 46/100\n",
            "20/20 [==============================] - 0s 6ms/step - loss: 0.4116 - accuracy: 0.8241 - val_loss: 0.4777 - val_accuracy: 0.8117\n",
            "Epoch 47/100\n",
            "20/20 [==============================] - 0s 6ms/step - loss: 0.4039 - accuracy: 0.8290 - val_loss: 0.4811 - val_accuracy: 0.8117\n",
            "Epoch 48/100\n",
            "20/20 [==============================] - 0s 6ms/step - loss: 0.3624 - accuracy: 0.8339 - val_loss: 0.4743 - val_accuracy: 0.8117\n",
            "Epoch 49/100\n",
            "20/20 [==============================] - 0s 5ms/step - loss: 0.4034 - accuracy: 0.8176 - val_loss: 0.4876 - val_accuracy: 0.7987\n",
            "Epoch 50/100\n",
            "20/20 [==============================] - 0s 6ms/step - loss: 0.3860 - accuracy: 0.8436 - val_loss: 0.4959 - val_accuracy: 0.7987\n",
            "Epoch 51/100\n",
            "20/20 [==============================] - 0s 5ms/step - loss: 0.3656 - accuracy: 0.8453 - val_loss: 0.4975 - val_accuracy: 0.8117\n",
            "Epoch 52/100\n",
            "20/20 [==============================] - 0s 6ms/step - loss: 0.4067 - accuracy: 0.8257 - val_loss: 0.5064 - val_accuracy: 0.7857\n",
            "Epoch 53/100\n",
            "20/20 [==============================] - 0s 7ms/step - loss: 0.3960 - accuracy: 0.8388 - val_loss: 0.5188 - val_accuracy: 0.7987\n",
            "Epoch 54/100\n",
            "20/20 [==============================] - 0s 6ms/step - loss: 0.3597 - accuracy: 0.8355 - val_loss: 0.5150 - val_accuracy: 0.7922\n",
            "Epoch 55/100\n",
            "20/20 [==============================] - 0s 6ms/step - loss: 0.3820 - accuracy: 0.8274 - val_loss: 0.4944 - val_accuracy: 0.8182\n",
            "Epoch 56/100\n",
            "20/20 [==============================] - 0s 6ms/step - loss: 0.3694 - accuracy: 0.8436 - val_loss: 0.5005 - val_accuracy: 0.8117\n",
            "Epoch 57/100\n",
            "20/20 [==============================] - 0s 6ms/step - loss: 0.3706 - accuracy: 0.8469 - val_loss: 0.5365 - val_accuracy: 0.7727\n",
            "Epoch 58/100\n",
            "20/20 [==============================] - 0s 7ms/step - loss: 0.3766 - accuracy: 0.8550 - val_loss: 0.5054 - val_accuracy: 0.8182\n",
            "Epoch 59/100\n",
            "20/20 [==============================] - 0s 6ms/step - loss: 0.3707 - accuracy: 0.8518 - val_loss: 0.5051 - val_accuracy: 0.8182\n",
            "Epoch 60/100\n",
            "20/20 [==============================] - 0s 6ms/step - loss: 0.3746 - accuracy: 0.8436 - val_loss: 0.5256 - val_accuracy: 0.7662\n",
            "Epoch 61/100\n",
            "20/20 [==============================] - 0s 6ms/step - loss: 0.3782 - accuracy: 0.8420 - val_loss: 0.4929 - val_accuracy: 0.8117\n",
            "Epoch 62/100\n",
            "20/20 [==============================] - 0s 7ms/step - loss: 0.3578 - accuracy: 0.8485 - val_loss: 0.5170 - val_accuracy: 0.7792\n",
            "Epoch 63/100\n",
            "20/20 [==============================] - 0s 6ms/step - loss: 0.3590 - accuracy: 0.8485 - val_loss: 0.5315 - val_accuracy: 0.7727\n",
            "Epoch 64/100\n",
            "20/20 [==============================] - 0s 6ms/step - loss: 0.3765 - accuracy: 0.8502 - val_loss: 0.5066 - val_accuracy: 0.7792\n",
            "Epoch 65/100\n",
            "20/20 [==============================] - 0s 6ms/step - loss: 0.3219 - accuracy: 0.8583 - val_loss: 0.5223 - val_accuracy: 0.7987\n",
            "Epoch 66/100\n",
            "20/20 [==============================] - 0s 7ms/step - loss: 0.3448 - accuracy: 0.8550 - val_loss: 0.5356 - val_accuracy: 0.7922\n",
            "Epoch 67/100\n",
            "20/20 [==============================] - 0s 6ms/step - loss: 0.3380 - accuracy: 0.8534 - val_loss: 0.5283 - val_accuracy: 0.8117\n",
            "Epoch 68/100\n",
            "20/20 [==============================] - 0s 7ms/step - loss: 0.3454 - accuracy: 0.8485 - val_loss: 0.5455 - val_accuracy: 0.7727\n",
            "Epoch 69/100\n",
            "20/20 [==============================] - 0s 6ms/step - loss: 0.3307 - accuracy: 0.8681 - val_loss: 0.5528 - val_accuracy: 0.7662\n",
            "Epoch 70/100\n",
            "20/20 [==============================] - 0s 6ms/step - loss: 0.3477 - accuracy: 0.8567 - val_loss: 0.5218 - val_accuracy: 0.7792\n",
            "Epoch 71/100\n",
            "20/20 [==============================] - 0s 7ms/step - loss: 0.3531 - accuracy: 0.8355 - val_loss: 0.5551 - val_accuracy: 0.7727\n",
            "Epoch 72/100\n",
            "20/20 [==============================] - 0s 6ms/step - loss: 0.3271 - accuracy: 0.8567 - val_loss: 0.5739 - val_accuracy: 0.7727\n",
            "Epoch 73/100\n",
            "20/20 [==============================] - 0s 6ms/step - loss: 0.3083 - accuracy: 0.8795 - val_loss: 0.6062 - val_accuracy: 0.7792\n",
            "Epoch 74/100\n",
            "20/20 [==============================] - 0s 6ms/step - loss: 0.3660 - accuracy: 0.8518 - val_loss: 0.5367 - val_accuracy: 0.7857\n",
            "Epoch 75/100\n",
            "20/20 [==============================] - 0s 6ms/step - loss: 0.3283 - accuracy: 0.8664 - val_loss: 0.5400 - val_accuracy: 0.7987\n",
            "Epoch 76/100\n",
            "20/20 [==============================] - 0s 7ms/step - loss: 0.3383 - accuracy: 0.8697 - val_loss: 0.5502 - val_accuracy: 0.7792\n",
            "Epoch 77/100\n",
            "20/20 [==============================] - 0s 6ms/step - loss: 0.3330 - accuracy: 0.8762 - val_loss: 0.5423 - val_accuracy: 0.7857\n",
            "Epoch 78/100\n",
            "20/20 [==============================] - 0s 6ms/step - loss: 0.3125 - accuracy: 0.8697 - val_loss: 0.5883 - val_accuracy: 0.7922\n",
            "Epoch 79/100\n",
            "20/20 [==============================] - 0s 7ms/step - loss: 0.3082 - accuracy: 0.8664 - val_loss: 0.5999 - val_accuracy: 0.7792\n",
            "Epoch 80/100\n",
            "20/20 [==============================] - 0s 6ms/step - loss: 0.3272 - accuracy: 0.8648 - val_loss: 0.5577 - val_accuracy: 0.7987\n",
            "Epoch 81/100\n",
            "20/20 [==============================] - 0s 6ms/step - loss: 0.3360 - accuracy: 0.8730 - val_loss: 0.5685 - val_accuracy: 0.7662\n",
            "Epoch 82/100\n",
            "20/20 [==============================] - 0s 7ms/step - loss: 0.3232 - accuracy: 0.8616 - val_loss: 0.5793 - val_accuracy: 0.7792\n",
            "Epoch 83/100\n",
            "20/20 [==============================] - 0s 6ms/step - loss: 0.2922 - accuracy: 0.8844 - val_loss: 0.6020 - val_accuracy: 0.7727\n",
            "Epoch 84/100\n",
            "20/20 [==============================] - 0s 6ms/step - loss: 0.2969 - accuracy: 0.8697 - val_loss: 0.6058 - val_accuracy: 0.7468\n",
            "Epoch 85/100\n",
            "20/20 [==============================] - 0s 6ms/step - loss: 0.3207 - accuracy: 0.8567 - val_loss: 0.5770 - val_accuracy: 0.7792\n",
            "Epoch 86/100\n",
            "20/20 [==============================] - 0s 6ms/step - loss: 0.3071 - accuracy: 0.8746 - val_loss: 0.5708 - val_accuracy: 0.8052\n",
            "Epoch 87/100\n",
            "20/20 [==============================] - 0s 6ms/step - loss: 0.2813 - accuracy: 0.8844 - val_loss: 0.6109 - val_accuracy: 0.7987\n",
            "Epoch 88/100\n",
            "20/20 [==============================] - 0s 7ms/step - loss: 0.3472 - accuracy: 0.8583 - val_loss: 0.5964 - val_accuracy: 0.7403\n",
            "Epoch 89/100\n",
            "20/20 [==============================] - 0s 6ms/step - loss: 0.2901 - accuracy: 0.8681 - val_loss: 0.6868 - val_accuracy: 0.7857\n",
            "Epoch 90/100\n",
            "20/20 [==============================] - 0s 6ms/step - loss: 0.2852 - accuracy: 0.8827 - val_loss: 0.6554 - val_accuracy: 0.7727\n",
            "Epoch 91/100\n",
            "20/20 [==============================] - 0s 6ms/step - loss: 0.2807 - accuracy: 0.8779 - val_loss: 0.6498 - val_accuracy: 0.7727\n",
            "Epoch 92/100\n",
            "20/20 [==============================] - 0s 6ms/step - loss: 0.2766 - accuracy: 0.8990 - val_loss: 0.6334 - val_accuracy: 0.7857\n",
            "Epoch 93/100\n",
            "20/20 [==============================] - 0s 7ms/step - loss: 0.3025 - accuracy: 0.8762 - val_loss: 0.6130 - val_accuracy: 0.7792\n",
            "Epoch 94/100\n",
            "20/20 [==============================] - 0s 7ms/step - loss: 0.2822 - accuracy: 0.8779 - val_loss: 0.6461 - val_accuracy: 0.7662\n",
            "Epoch 95/100\n",
            "20/20 [==============================] - 0s 6ms/step - loss: 0.2782 - accuracy: 0.8844 - val_loss: 0.6693 - val_accuracy: 0.7922\n",
            "Epoch 96/100\n",
            "20/20 [==============================] - 0s 6ms/step - loss: 0.2692 - accuracy: 0.9007 - val_loss: 0.6394 - val_accuracy: 0.7857\n",
            "Epoch 97/100\n",
            "20/20 [==============================] - 0s 7ms/step - loss: 0.2758 - accuracy: 0.8681 - val_loss: 0.6969 - val_accuracy: 0.7857\n",
            "Epoch 98/100\n",
            "20/20 [==============================] - 0s 6ms/step - loss: 0.2853 - accuracy: 0.8974 - val_loss: 0.6629 - val_accuracy: 0.7597\n",
            "Epoch 99/100\n",
            "20/20 [==============================] - 0s 6ms/step - loss: 0.2525 - accuracy: 0.8941 - val_loss: 0.7272 - val_accuracy: 0.7532\n",
            "Epoch 100/100\n",
            "20/20 [==============================] - 0s 6ms/step - loss: 0.2857 - accuracy: 0.8876 - val_loss: 0.7359 - val_accuracy: 0.7792\n"
          ]
        },
        {
          "output_type": "execute_result",
          "data": {
            "text/plain": [
              "<keras.callbacks.History at 0x7fd23be1dd90>"
            ]
          },
          "metadata": {},
          "execution_count": 74
        }
      ]
    },
    {
      "cell_type": "code",
      "source": [],
      "metadata": {
        "id": "1x-y7RPHWVry"
      },
      "execution_count": null,
      "outputs": []
    }
  ]
}